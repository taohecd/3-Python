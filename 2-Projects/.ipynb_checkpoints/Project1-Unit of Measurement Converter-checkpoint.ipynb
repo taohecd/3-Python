{
 "cells": [
  {
   "cell_type": "code",
   "execution_count": 3,
   "id": "76da67fc-c461-4de2-ae4d-31a50c1d780d",
   "metadata": {},
   "outputs": [
    {
     "name": "stdin",
     "output_type": "stream",
     "text": [
      "Enter the measurement convert from:'Inch','Foot','Yard' 1\n",
      "Enter the measurement convert to:'Inch','Foot','Yard' 1\n",
      "Please enter how many inches want to convert: 1\n",
      "Please enter how many feet want to convert: 1\n",
      "Please enter how many yards want to convert: 1\n"
     ]
    }
   ],
   "source": [
    "converter_from = input(\"Enter the measurement convert from:'Inch','Foot','Yard'\")\n",
    "converter_to =  input(\"Enter the measurement convert to:'Inch','Foot','Yard'\")\n",
    "inch_converter = input(\"Please enter how many inches want to convert:\")\n",
    "foot_converter = input(\"Please enter how many feet want to convert:\")\n",
    "yard_converter = input(\"Please enter how many yards want to convert:\")"
   ]
  },
  {
   "cell_type": "code",
   "execution_count": 14,
   "id": "6bfe79ef-8247-40ef-9310-72b23884678b",
   "metadata": {},
   "outputs": [
    {
     "name": "stdin",
     "output_type": "stream",
     "text": [
      "Please enter how many inches want to convert: 3\n",
      "Enter the measurement convert to:'Inch','Foot','Yard' yd\n"
     ]
    },
    {
     "name": "stdout",
     "output_type": "stream",
     "text": [
      "Your input is incorrect!\n"
     ]
    }
   ],
   "source": [
    "converter_from = input(\"Please enter how many inches want to convert:\")\n",
    "converter_to =  input(\"Enter the measurement convert to:'Inch','Foot','Yard'\")\n",
    "\n",
    "if converter_from.lower() in ['inch','inches','in']:\n",
    "    m_converter = float(input(\"Please enter how many inches want to convert:\"))\n",
    "    if converter_to.lower() in ['foot','feet','ft']:\n",
    "        m_converter = round(m_converter / 12,2)\n",
    "        print('The result is: ', m_converter,'feet' )\n",
    "    elif converter_to.lower() in ['yard','yards','yd','yds']:\n",
    "        m_converter = round(m_converter / 36,2)\n",
    "        print('The result is: ', m_converter,'yds' )\n",
    "    else:\n",
    "        print('Your input is incorrect!')\n",
    "        \n",
    "elif converter_from.lower() in ['foot','feet','ft']:\n",
    "    m_converter = float(input(\"Please enter how many feet want to convert:\"))\n",
    "    if converter_to.lower() in ['inch','inches','in']:\n",
    "        m_converter = round(m_converter * 12,2)\n",
    "        print('The result is: ', m_converter,'inches' )\n",
    "    elif converter_to.lower() in ['yard','yards','yd','yds']:\n",
    "        m_converter = round(m_converter / 3,2)\n",
    "        print('The result is: ', m_converter,'yds' )\n",
    "    else:\n",
    "        print('Your input is incorrect!')\n",
    "        \n",
    "elif converter_from.lower() in ['yard','yards','yd','yds']:\n",
    "    m_converter = float(input(\"Please enter how many yds want to convert:\"))\n",
    "    if converter_to.lower() in ['inch','inches','in']:\n",
    "        m_converter = round(m_converter * 36,2)\n",
    "        print('The result is: ', m_converter,'inches' )\n",
    "    elif converter_to.lower() in ['foot','feet','ft']:\n",
    "        m_converter = round(m_converter * 3,2)\n",
    "        print('The result is: ', m_converter,'feet' )\n",
    "    else:\n",
    "        print('Your input is incorrect!')\n",
    "        \n",
    "else:\n",
    "    print('Your input is incorrect!')\n",
    "\n",
    "        "
   ]
  },
  {
   "cell_type": "code",
   "execution_count": null,
   "id": "eeb67a7b-6c6e-4b9c-b7b8-666a4735c88b",
   "metadata": {},
   "outputs": [],
   "source": []
  },
  {
   "cell_type": "code",
   "execution_count": null,
   "id": "b95dfde0-350f-462f-9add-e2c422038088",
   "metadata": {},
   "outputs": [],
   "source": []
  },
  {
   "cell_type": "code",
   "execution_count": null,
   "id": "c38adc82-ceda-4d63-aad8-6e6a0ac7485f",
   "metadata": {},
   "outputs": [],
   "source": []
  },
  {
   "cell_type": "code",
   "execution_count": null,
   "id": "9c7ac2f5-c1e9-4f59-898d-60200ec98190",
   "metadata": {},
   "outputs": [],
   "source": []
  },
  {
   "cell_type": "code",
   "execution_count": null,
   "id": "53efe0fd-aa9f-4833-9abd-55330659f99e",
   "metadata": {},
   "outputs": [],
   "source": []
  },
  {
   "cell_type": "code",
   "execution_count": null,
   "id": "82f05cc6-6482-4374-b90b-ccf58ef7c17a",
   "metadata": {},
   "outputs": [],
   "source": []
  },
  {
   "cell_type": "code",
   "execution_count": null,
   "id": "8bf49167-9346-46e6-9145-b634c111c981",
   "metadata": {},
   "outputs": [],
   "source": []
  },
  {
   "cell_type": "code",
   "execution_count": null,
   "id": "5152a39b-0f24-4a37-acc0-1b3dbe6a5898",
   "metadata": {},
   "outputs": [],
   "source": []
  },
  {
   "cell_type": "code",
   "execution_count": null,
   "id": "bc833649-af9a-49c2-a33e-a1e51f375495",
   "metadata": {},
   "outputs": [],
   "source": []
  }
 ],
 "metadata": {
  "kernelspec": {
   "display_name": "Python 3 (ipykernel)",
   "language": "python",
   "name": "python3"
  },
  "language_info": {
   "codemirror_mode": {
    "name": "ipython",
    "version": 3
   },
   "file_extension": ".py",
   "mimetype": "text/x-python",
   "name": "python",
   "nbconvert_exporter": "python",
   "pygments_lexer": "ipython3",
   "version": "3.12.4"
  }
 },
 "nbformat": 4,
 "nbformat_minor": 5
}
