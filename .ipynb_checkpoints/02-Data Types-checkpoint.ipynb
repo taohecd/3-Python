{
 "cells": [
  {
   "cell_type": "markdown",
   "id": "dc34a1c2-46c5-4492-8952-911ddf76c235",
   "metadata": {},
   "source": [
    "### Strings"
   ]
  },
  {
   "cell_type": "code",
   "execution_count": 2,
   "id": "2086ed04-ee42-4f4d-a2da-e29c185ca756",
   "metadata": {},
   "outputs": [
    {
     "name": "stdout",
     "output_type": "stream",
     "text": [
      "He's the worst!\n"
     ]
    }
   ],
   "source": [
    "x = 'He\\'s the worst!'\n",
    "print(x)"
   ]
  },
  {
   "cell_type": "code",
   "execution_count": 3,
   "id": "7902b1f7-954f-40ea-b4ba-c3bac30ed162",
   "metadata": {},
   "outputs": [
    {
     "name": "stdout",
     "output_type": "stream",
     "text": [
      "He\\'s the worst!\n"
     ]
    }
   ],
   "source": [
    "x = r'He\\'s the worst!'\n",
    "print(x)"
   ]
  },
  {
   "cell_type": "code",
   "execution_count": 4,
   "id": "8e13e92d-ca0f-4a2c-b4fe-84823a22e288",
   "metadata": {},
   "outputs": [
    {
     "name": "stdout",
     "output_type": "stream",
     "text": [
      "\n",
      "\"That is so great!\" said her sister. \n",
      " \"Yeah, it really is!\" said brother.\n",
      "\n",
      "\n"
     ]
    }
   ],
   "source": [
    "multiline = \"\"\"\n",
    "\"That is so great!\" said her sister. \\n \"Yeah, it really is!\" said brother.\n",
    "\n",
    "\"\"\"\n",
    "print(multiline)"
   ]
  },
  {
   "cell_type": "code",
   "execution_count": 5,
   "id": "0c489a8a-1419-45ae-8836-b0fd26374d92",
   "metadata": {},
   "outputs": [
    {
     "data": {
      "text/plain": [
       "'Hello'"
      ]
     },
     "execution_count": 5,
     "metadata": {},
     "output_type": "execute_result"
    }
   ],
   "source": [
    "'Hello World!'[0:5]"
   ]
  },
  {
   "cell_type": "code",
   "execution_count": 7,
   "id": "56857dd9-2132-4723-b3db-ffb4cb86ff16",
   "metadata": {},
   "outputs": [
    {
     "data": {
      "text/plain": [
       "'Hello!Hello!Hello!'"
      ]
     },
     "execution_count": 7,
     "metadata": {},
     "output_type": "execute_result"
    }
   ],
   "source": [
    "\"Hello!\" * 3"
   ]
  },
  {
   "cell_type": "code",
   "execution_count": 9,
   "id": "b500fd43-f5d0-4202-b10f-d4e893d874a2",
   "metadata": {},
   "outputs": [
    {
     "data": {
      "text/plain": [
       "'Hello World!'"
      ]
     },
     "execution_count": 9,
     "metadata": {},
     "output_type": "execute_result"
    }
   ],
   "source": [
    "'Hello' + ' World!'"
   ]
  },
  {
   "cell_type": "code",
   "execution_count": 12,
   "id": "5b0e25c4-637c-41ee-8059-cd5f41ad8b01",
   "metadata": {},
   "outputs": [
    {
     "data": {
      "text/plain": [
       "('Hello', 'World')"
      ]
     },
     "execution_count": 12,
     "metadata": {},
     "output_type": "execute_result"
    }
   ],
   "source": [
    "'Hello','World'"
   ]
  },
  {
   "cell_type": "code",
   "execution_count": 13,
   "id": "a0969354-bb4d-4511-bb2e-8c1bf14086b3",
   "metadata": {},
   "outputs": [
    {
     "name": "stdout",
     "output_type": "stream",
     "text": [
      "Hello World\n"
     ]
    }
   ],
   "source": [
    "print('Hello','World')"
   ]
  },
  {
   "cell_type": "markdown",
   "id": "5bd8f905-8450-47ee-9145-a4073688f34a",
   "metadata": {},
   "source": [
    "### Lists"
   ]
  },
  {
   "cell_type": "code",
   "execution_count": 17,
   "id": "ed750bb6-054b-43f3-bfff-2deb50ab5da7",
   "metadata": {},
   "outputs": [
    {
     "name": "stdout",
     "output_type": "stream",
     "text": [
      "[1, 'Cat', ['Meow', 50, 'Fur'], 10.75, True]\n"
     ]
    }
   ],
   "source": [
    "cat_list = [1, 'Cat', ['Meow',50,'Fur'],10.75, True]\n",
    "print(cat_list)"
   ]
  },
  {
   "cell_type": "code",
   "execution_count": 18,
   "id": "77bf8c9f-db89-46a8-aaae-f46453706f21",
   "metadata": {},
   "outputs": [
    {
     "name": "stdout",
     "output_type": "stream",
     "text": [
      "[1, 'Cat', ['Meow', 50, 'Fur'], 10.75, True, 'Kitten']\n"
     ]
    }
   ],
   "source": [
    "cat_list.append('Kitten')\n",
    "print(cat_list)"
   ]
  },
  {
   "cell_type": "code",
   "execution_count": 22,
   "id": "5d5d6eff-2d13-498b-8cbe-29736a0ca469",
   "metadata": {},
   "outputs": [
    {
     "name": "stdout",
     "output_type": "stream",
     "text": [
      "['Color', 'Kitten', 'Kitten', 1, 'Cat', ['Meow', 50, 'Fur'], 10.75, True, 'Kitten']\n"
     ]
    }
   ],
   "source": [
    "cat_list.insert(0,'Color')\n",
    "print(cat_list)"
   ]
  },
  {
   "cell_type": "code",
   "execution_count": 23,
   "id": "a150c20b-8aaa-4ef4-85c7-6adf4b5b3e68",
   "metadata": {},
   "outputs": [
    {
     "data": {
      "text/plain": [
       "'Color'"
      ]
     },
     "execution_count": 23,
     "metadata": {},
     "output_type": "execute_result"
    }
   ],
   "source": [
    "cat_list[0]"
   ]
  },
  {
   "cell_type": "code",
   "execution_count": 25,
   "id": "86ebac30-872a-4600-8b71-837e58ae2415",
   "metadata": {},
   "outputs": [
    {
     "name": "stdout",
     "output_type": "stream",
     "text": [
      "['Color', 'Tom', 'Kitten', 1, 'Cat', ['Meow', 50, 'Fur'], 10.75, True, 'Kitten']\n"
     ]
    }
   ],
   "source": [
    "cat_list[1] = 'Tom'\n",
    "print(cat_list)"
   ]
  },
  {
   "cell_type": "code",
   "execution_count": 26,
   "id": "db222f58-76fe-49f4-98ce-2ffcb423446b",
   "metadata": {},
   "outputs": [
    {
     "data": {
      "text/plain": [
       "['Meow', 50, 'Fur']"
      ]
     },
     "execution_count": 26,
     "metadata": {},
     "output_type": "execute_result"
    }
   ],
   "source": [
    "cat_list[5]"
   ]
  },
  {
   "cell_type": "code",
   "execution_count": 27,
   "id": "5c7f664c-6b26-4c82-b415-300623c14bdf",
   "metadata": {},
   "outputs": [
    {
     "data": {
      "text/plain": [
       "'Meow'"
      ]
     },
     "execution_count": 27,
     "metadata": {},
     "output_type": "execute_result"
    }
   ],
   "source": [
    "cat_list[5][0]"
   ]
  },
  {
   "cell_type": "code",
   "execution_count": 28,
   "id": "2c4c777a-f49f-4dae-b224-a6963137ebd4",
   "metadata": {},
   "outputs": [
    {
     "data": {
      "text/plain": [
       "'M'"
      ]
     },
     "execution_count": 28,
     "metadata": {},
     "output_type": "execute_result"
    }
   ],
   "source": [
    "cat_list[5][0][0]"
   ]
  },
  {
   "cell_type": "code",
   "execution_count": 29,
   "id": "1ee0abc8-05c7-41e7-a914-ef335899508a",
   "metadata": {},
   "outputs": [
    {
     "name": "stdout",
     "output_type": "stream",
     "text": [
      "[1, 'Great', 2, 'Wonderful']\n"
     ]
    }
   ],
   "source": [
    "list_1 = [1,'Great']\n",
    "list_2 = [2,'Wonderful']\n",
    "list_3 = list_1 +list_2\n",
    "print(list_3)"
   ]
  },
  {
   "cell_type": "markdown",
   "id": "e1ae17c5-139c-4b58-88a0-0000a125b255",
   "metadata": {},
   "source": [
    "### Tuples"
   ]
  },
  {
   "cell_type": "code",
   "execution_count": 31,
   "id": "63cf5c4a-106e-40d3-a5f2-476f1bd1c2d1",
   "metadata": {},
   "outputs": [
    {
     "name": "stdout",
     "output_type": "stream",
     "text": [
      "(1, 'Paris', True, [1, 2, 3], (1, 2, 3))\n"
     ]
    }
   ],
   "source": [
    "random_tuple=(1,'Paris',True,[1,2,3],(1,2,3))\n",
    "print(random_tuple)"
   ]
  },
  {
   "cell_type": "code",
   "execution_count": 32,
   "id": "c3d8a0d6-f50d-46ef-8612-17f4f0917391",
   "metadata": {},
   "outputs": [
    {
     "data": {
      "text/plain": [
       "'Paris'"
      ]
     },
     "execution_count": 32,
     "metadata": {},
     "output_type": "execute_result"
    }
   ],
   "source": [
    "random_tuple[1]"
   ]
  },
  {
   "cell_type": "code",
   "execution_count": 34,
   "id": "b2a7fb5e-6066-4d92-88d0-124ab0c16042",
   "metadata": {},
   "outputs": [
    {
     "name": "stdout",
     "output_type": "stream",
     "text": [
      "(1, 2, 3, 4, 5, 6)\n"
     ]
    }
   ],
   "source": [
    "tuple_1=(1,2,3)\n",
    "tuple_2=(4,5,6)\n",
    "tuple_3=tuple_1+tuple_2\n",
    "print(tuple_3)"
   ]
  },
  {
   "cell_type": "markdown",
   "id": "3bc924e4-eb3e-48fb-8a58-cd689d6ec116",
   "metadata": {},
   "source": [
    "### Sets"
   ]
  },
  {
   "cell_type": "code",
   "execution_count": 36,
   "id": "046e27f4-89af-499c-ae7a-582b8cba7c67",
   "metadata": {},
   "outputs": [
    {
     "name": "stdout",
     "output_type": "stream",
     "text": [
      "{1, 2, 3, 4, 5}\n"
     ]
    }
   ],
   "source": [
    "set_3 = {1,2,3,4,5,2,3,1,2,3,4,5}\n",
    "print(set_3)"
   ]
  },
  {
   "cell_type": "code",
   "execution_count": 37,
   "id": "7157924f-f2a5-4e83-99c9-7f8e9dce76ba",
   "metadata": {},
   "outputs": [
    {
     "ename": "TypeError",
     "evalue": "unhashable type: 'list'",
     "output_type": "error",
     "traceback": [
      "\u001b[1;31m---------------------------------------------------------------------------\u001b[0m",
      "\u001b[1;31mTypeError\u001b[0m                                 Traceback (most recent call last)",
      "Cell \u001b[1;32mIn[37], line 1\u001b[0m\n\u001b[1;32m----> 1\u001b[0m set_4 \u001b[38;5;241m=\u001b[39m {[\u001b[38;5;241m1\u001b[39m,\u001b[38;5;241m2\u001b[39m,\u001b[38;5;241m3\u001b[39m],\u001b[38;5;241m1\u001b[39m,\u001b[38;5;241m2\u001b[39m,\u001b[38;5;241m3\u001b[39m}\n\u001b[0;32m      2\u001b[0m \u001b[38;5;28mprint\u001b[39m(set_4)\n",
      "\u001b[1;31mTypeError\u001b[0m: unhashable type: 'list'"
     ]
    }
   ],
   "source": [
    "set_4 = {[1,2,3],1,2,3}\n",
    "print(set_4)"
   ]
  },
  {
   "cell_type": "code",
   "execution_count": 38,
   "id": "dc2950dd-132f-4dfa-ac9f-8ccf91e5e8d4",
   "metadata": {},
   "outputs": [
    {
     "name": "stdout",
     "output_type": "stream",
     "text": [
      "{1, 2, 3, (1, 2, 3)}\n"
     ]
    }
   ],
   "source": [
    "set_5 = {(1,2,3),1,2,3}\n",
    "print(set_5)"
   ]
  },
  {
   "cell_type": "code",
   "execution_count": 39,
   "id": "f7f8d311-339b-4235-9cf6-c27e4dbe3682",
   "metadata": {},
   "outputs": [
    {
     "name": "stdout",
     "output_type": "stream",
     "text": [
      "{1, 3, 'carrot', 7}\n"
     ]
    }
   ],
   "source": [
    "set_6 = {1,1,3,3,7,7,'carrot','carrot'}\n",
    "print(set_6)         "
   ]
  },
  {
   "cell_type": "code",
   "execution_count": 40,
   "id": "e8790e45-c0f9-491c-a327-e0f9b1532cdb",
   "metadata": {},
   "outputs": [
    {
     "ename": "TypeError",
     "evalue": "'int' object is not iterable",
     "output_type": "error",
     "traceback": [
      "\u001b[1;31m---------------------------------------------------------------------------\u001b[0m",
      "\u001b[1;31mTypeError\u001b[0m                                 Traceback (most recent call last)",
      "Cell \u001b[1;32mIn[40], line 1\u001b[0m\n\u001b[1;32m----> 1\u001b[0m set_6\u001b[38;5;241m.\u001b[39mupdate(\u001b[38;5;241m2\u001b[39m)\n",
      "\u001b[1;31mTypeError\u001b[0m: 'int' object is not iterable"
     ]
    }
   ],
   "source": [
    "set_6.update(2)"
   ]
  },
  {
   "cell_type": "code",
   "execution_count": 41,
   "id": "388a8195-dee8-4336-96a4-8771bfd28819",
   "metadata": {},
   "outputs": [
    {
     "name": "stdout",
     "output_type": "stream",
     "text": [
      "{1, 2, 3, 7, 'carrot'}\n"
     ]
    }
   ],
   "source": [
    "set_6.update([1,2,3])\n",
    "print(set_6)"
   ]
  },
  {
   "cell_type": "code",
   "execution_count": 42,
   "id": "818b17f6-25ee-48bf-b24e-0aa810dd4793",
   "metadata": {},
   "outputs": [
    {
     "name": "stdout",
     "output_type": "stream",
     "text": [
      "{1, 3, 7, 'carrot'}\n"
     ]
    }
   ],
   "source": [
    "set_6.discard(2)\n",
    "print(set_6)"
   ]
  },
  {
   "cell_type": "code",
   "execution_count": 43,
   "id": "34b5b8a5-56da-461e-a592-18ddc19573ee",
   "metadata": {},
   "outputs": [
    {
     "name": "stdout",
     "output_type": "stream",
     "text": [
      "{3, 7, 'carrot'}\n"
     ]
    }
   ],
   "source": [
    "# if remove 5, can get error, but no error to discard 5\n",
    "set_6.remove(1)\n",
    "print(set_6)"
   ]
  },
  {
   "cell_type": "code",
   "execution_count": 44,
   "id": "89a87f0b-74d4-4b58-a332-184619193f03",
   "metadata": {},
   "outputs": [
    {
     "name": "stdout",
     "output_type": "stream",
     "text": [
      "{1, 2, 3, 4, 5, 6, 7, 8}\n"
     ]
    }
   ],
   "source": [
    "set_7={1,2,3,4,5}\n",
    "set_8={4,5,6,7,8}\n",
    "print(set_7 | set_8)"
   ]
  },
  {
   "cell_type": "code",
   "execution_count": 45,
   "id": "10c715c7-f045-4617-87c7-07b048e8a844",
   "metadata": {},
   "outputs": [
    {
     "name": "stdout",
     "output_type": "stream",
     "text": [
      "{4, 5}\n"
     ]
    }
   ],
   "source": [
    "print(set_7 & set_8)"
   ]
  },
  {
   "cell_type": "code",
   "execution_count": 46,
   "id": "5a95719c-38e1-4c98-b922-6d96ca63d4c5",
   "metadata": {},
   "outputs": [
    {
     "name": "stdout",
     "output_type": "stream",
     "text": [
      "{1, 2, 3}\n"
     ]
    }
   ],
   "source": [
    "print(set_7 - set_8)"
   ]
  },
  {
   "cell_type": "code",
   "execution_count": 47,
   "id": "3cbbc9b2-bb39-4e7f-a752-152e25760f23",
   "metadata": {},
   "outputs": [
    {
     "name": "stdout",
     "output_type": "stream",
     "text": [
      "{8, 6, 7}\n"
     ]
    }
   ],
   "source": [
    "print(set_8 - set_7)"
   ]
  },
  {
   "cell_type": "code",
   "execution_count": 48,
   "id": "82c78e70-8998-4e97-807c-f479b7c58a55",
   "metadata": {},
   "outputs": [
    {
     "name": "stdout",
     "output_type": "stream",
     "text": [
      "{1, 2, 3, 6, 7, 8}\n"
     ]
    }
   ],
   "source": [
    "print(set_7 ^ set_8)"
   ]
  },
  {
   "cell_type": "markdown",
   "id": "c1970379-26e7-466e-b7bc-c7a17b26c794",
   "metadata": {},
   "source": [
    "### Dictionaries"
   ]
  },
  {
   "cell_type": "code",
   "execution_count": 49,
   "id": "4f547939-cfbf-4422-9a54-d452a1723010",
   "metadata": {},
   "outputs": [
    {
     "name": "stdout",
     "output_type": "stream",
     "text": [
      "{'Name': 'Jimmy John', 'Flavor': ['Mint Chocolate Chip', 'Vanilla', 'Chocolate'], 'Age': 40}\n"
     ]
    }
   ],
   "source": [
    "ice_cream_customer={'Name':'Jimmy John','Flavor':['Mint Chocolate Chip','Vanilla','Chocolate'],'Age':40}\n",
    "print(ice_cream_customer)"
   ]
  },
  {
   "cell_type": "code",
   "execution_count": 50,
   "id": "0b48a9d1-9095-44f3-82d1-467000681652",
   "metadata": {},
   "outputs": [
    {
     "data": {
      "text/plain": [
       "dict_keys(['Name', 'Flavor', 'Age'])"
      ]
     },
     "execution_count": 50,
     "metadata": {},
     "output_type": "execute_result"
    }
   ],
   "source": [
    "ice_cream_customer.keys()"
   ]
  },
  {
   "cell_type": "code",
   "execution_count": 51,
   "id": "fbbf49ac-4dfb-4c2f-8b01-f9d6326d7676",
   "metadata": {},
   "outputs": [
    {
     "data": {
      "text/plain": [
       "dict_values(['Jimmy John', ['Mint Chocolate Chip', 'Vanilla', 'Chocolate'], 40])"
      ]
     },
     "execution_count": 51,
     "metadata": {},
     "output_type": "execute_result"
    }
   ],
   "source": [
    "ice_cream_customer.values()"
   ]
  },
  {
   "cell_type": "code",
   "execution_count": 52,
   "id": "3f89fec6-aa27-4e7c-ba88-094dae680440",
   "metadata": {},
   "outputs": [
    {
     "data": {
      "text/plain": [
       "dict_items([('Name', 'Jimmy John'), ('Flavor', ['Mint Chocolate Chip', 'Vanilla', 'Chocolate']), ('Age', 40)])"
      ]
     },
     "execution_count": 52,
     "metadata": {},
     "output_type": "execute_result"
    }
   ],
   "source": [
    "ice_cream_customer.items()"
   ]
  },
  {
   "cell_type": "code",
   "execution_count": 53,
   "id": "40e28e89-a52d-4a68-9de5-c4cb9df768c8",
   "metadata": {},
   "outputs": [
    {
     "data": {
      "text/plain": [
       "'Jimmy John'"
      ]
     },
     "execution_count": 53,
     "metadata": {},
     "output_type": "execute_result"
    }
   ],
   "source": [
    "ice_cream_customer['Name']"
   ]
  },
  {
   "cell_type": "code",
   "execution_count": 54,
   "id": "46307911-0cd2-48bc-ac0e-897bb94317f5",
   "metadata": {},
   "outputs": [
    {
     "name": "stdout",
     "output_type": "stream",
     "text": [
      "{'Name': 'Jimmy John', 'Flavor': ['Mint Chocolate Chip', 'Vanilla', 'Chocolate'], 'Age': 40, 'Amount Spent': 20.06}\n"
     ]
    }
   ],
   "source": [
    "ice_cream_customer['Amount Spent'] = 20.06\n",
    "print(ice_cream_customer)"
   ]
  },
  {
   "cell_type": "code",
   "execution_count": 55,
   "id": "ebfadc07-dafc-4d18-bd91-49d3854c02c1",
   "metadata": {},
   "outputs": [
    {
     "name": "stdout",
     "output_type": "stream",
     "text": [
      "{'Name': 'Jimmy John', 'Flavor': ['Mint Chocolate Chip', 'Vanilla', 'Chocolate'], 'Age': 25, 'Amount Spent': 20.06}\n"
     ]
    }
   ],
   "source": [
    "ice_cream_customer_2={'Name':'Jimmy John','Flavor':['Mint Chocolate Chip','Vanilla','Chocolate'],'Age':40}\n",
    "ice_cream_customer_2.update({'Name':'Jimmy John','Flavor':['Mint Chocolate Chip','Vanilla','Chocolate'],'Age':25,'Amount Spent': 20.06})\n",
    "print(ice_cream_customer_2)"
   ]
  },
  {
   "cell_type": "code",
   "execution_count": 56,
   "id": "2591b30a-7de0-4a68-85a6-f7f2f0e80703",
   "metadata": {},
   "outputs": [
    {
     "name": "stdout",
     "output_type": "stream",
     "text": [
      "{'Name': 'Jimmy John', 'Flavor': ['Mint Chocolate Chip', 'Vanilla', 'Chocolate'], 'Age': 25, 'Amount Spent': 20.06, 'First/Last': 'Jimmy John'}\n"
     ]
    }
   ],
   "source": [
    "ice_cream_customer_2.update({'First/Last':'Jimmy John','Flavor':['Mint Chocolate Chip','Vanilla','Chocolate'],'Age':25,'Amount Spent': 20.06})\n",
    "print(ice_cream_customer_2)"
   ]
  },
  {
   "cell_type": "code",
   "execution_count": 57,
   "id": "0ea89e90-ff59-4925-82fa-eb63d7cdc0f3",
   "metadata": {},
   "outputs": [
    {
     "name": "stdout",
     "output_type": "stream",
     "text": [
      "{'Flavor': ['Mint Chocolate Chip', 'Vanilla', 'Chocolate'], 'Age': 25, 'Amount Spent': 20.06, 'First/Last': 'Jimmy John'}\n"
     ]
    }
   ],
   "source": [
    "del ice_cream_customer_2['Name']\n",
    "print(ice_cream_customer_2)"
   ]
  },
  {
   "cell_type": "code",
   "execution_count": 58,
   "id": "86eb2d2f-65bc-412e-82fe-31f97139840c",
   "metadata": {},
   "outputs": [
    {
     "name": "stdout",
     "output_type": "stream",
     "text": [
      "20.06\n"
     ]
    }
   ],
   "source": [
    "customer_spent = ice_cream_customer_2['Amount Spent']\n",
    "print(customer_spent)"
   ]
  },
  {
   "cell_type": "code",
   "execution_count": 59,
   "id": "abf87eae-b865-4875-bfd1-4d3659538929",
   "metadata": {},
   "outputs": [
    {
     "data": {
      "text/plain": [
       "'Mint Chocolate Chip'"
      ]
     },
     "execution_count": 59,
     "metadata": {},
     "output_type": "execute_result"
    }
   ],
   "source": [
    "nested_dict = {1:'Value1',2:'Value2',3:{'Name': 'Jimmy John', 'Flavor': ['Mint Chocolate Chip', 'Vanilla', 'Chocolate'], 'Age': 25, 'Amount Spent': 20.06}}\n",
    "nested_dict[3]['Flavor'][0]"
   ]
  },
  {
   "cell_type": "markdown",
   "id": "60433748-2d62-4da9-8da7-6fb9baf3a094",
   "metadata": {},
   "source": [
    "### Converting Data Type"
   ]
  },
  {
   "cell_type": "code",
   "execution_count": 60,
   "id": "a03f9f6f-2dbc-4c0c-9b4f-37d1ccf084ff",
   "metadata": {},
   "outputs": [
    {
     "name": "stdout",
     "output_type": "stream",
     "text": [
      "12\n"
     ]
    }
   ],
   "source": [
    "num_int = 5\n",
    "num_str = '7'\n",
    "num_str_conv = int(num_str)\n",
    "num_sum = num_int + num_str_conv\n",
    "print(num_sum)"
   ]
  },
  {
   "cell_type": "code",
   "execution_count": 61,
   "id": "1ea86f5d-7a14-4fd8-8a52-3436126eabf4",
   "metadata": {},
   "outputs": [
    {
     "name": "stdout",
     "output_type": "stream",
     "text": [
      "{1, 2, 3, 4, 5}\n"
     ]
    }
   ],
   "source": [
    "my_list = [1,2,3,4,5,4,3,2,1]\n",
    "list_to_set = set(my_list)\n",
    "print(list_to_set)"
   ]
  },
  {
   "cell_type": "code",
   "execution_count": 62,
   "id": "cd6c7507-0579-434b-bcaa-54570d03a36c",
   "metadata": {},
   "outputs": [
    {
     "name": "stdout",
     "output_type": "stream",
     "text": [
      "(1, 2, 3, 4, 5, 4, 3, 2, 1)\n"
     ]
    }
   ],
   "source": [
    "list_to_tuple = tuple(my_list)\n",
    "print(list_to_tuple)"
   ]
  },
  {
   "cell_type": "code",
   "execution_count": 65,
   "id": "9e457084-1117-4405-808f-0d78c006ccc6",
   "metadata": {},
   "outputs": [
    {
     "name": "stdout",
     "output_type": "stream",
     "text": [
      "['Name', 'Age', 'Hair']\n"
     ]
    }
   ],
   "source": [
    "dict_1 = {'Name':'Alex','Age':28,'Hair':'N/A'}\n",
    "new_list = list(dict_1)\n",
    "print(new_list)"
   ]
  },
  {
   "cell_type": "code",
   "execution_count": 66,
   "id": "c2512659-f33a-401e-b339-1450677d4f07",
   "metadata": {},
   "outputs": [
    {
     "name": "stdout",
     "output_type": "stream",
     "text": [
      "['Name', 'Age', 'Hair']\n"
     ]
    }
   ],
   "source": [
    "new_list = list(dict_1.keys())\n",
    "print(new_list)"
   ]
  },
  {
   "cell_type": "code",
   "execution_count": 67,
   "id": "c49dabbc-d656-411f-a536-e4839f1546cb",
   "metadata": {},
   "outputs": [
    {
     "name": "stdout",
     "output_type": "stream",
     "text": [
      "['Alex', 28, 'N/A']\n"
     ]
    }
   ],
   "source": [
    "new_list = list(dict_1.values())\n",
    "print(new_list)"
   ]
  },
  {
   "cell_type": "code",
   "execution_count": 68,
   "id": "9655603f-a571-494f-a84d-50f592722a21",
   "metadata": {},
   "outputs": [
    {
     "data": {
      "text/plain": [
       "{' ', '!', 'I', 'a', 'e', 'i', 'k', 'l', 'o', 'p', 'r', 't', 'y'}"
      ]
     },
     "execution_count": 68,
     "metadata": {},
     "output_type": "execute_result"
    }
   ],
   "source": [
    "long_str = 'I like to party!'\n",
    "set(long_str)"
   ]
  },
  {
   "cell_type": "code",
   "execution_count": 69,
   "id": "ebeacd6d-14bb-49d0-be64-b1e3580aa710",
   "metadata": {},
   "outputs": [
    {
     "data": {
      "text/plain": [
       "['I',\n",
       " ' ',\n",
       " 'l',\n",
       " 'i',\n",
       " 'k',\n",
       " 'e',\n",
       " ' ',\n",
       " 't',\n",
       " 'o',\n",
       " ' ',\n",
       " 'p',\n",
       " 'a',\n",
       " 'r',\n",
       " 't',\n",
       " 'y',\n",
       " '!']"
      ]
     },
     "execution_count": 69,
     "metadata": {},
     "output_type": "execute_result"
    }
   ],
   "source": [
    "long_str = 'I like to party!'\n",
    "list(long_str)"
   ]
  },
  {
   "cell_type": "code",
   "execution_count": null,
   "id": "21b9c7a7-bad3-437b-919d-804f5314d71f",
   "metadata": {},
   "outputs": [],
   "source": []
  },
  {
   "cell_type": "code",
   "execution_count": null,
   "id": "bd258472-0cab-4f95-bc57-457470cf8060",
   "metadata": {},
   "outputs": [],
   "source": []
  },
  {
   "cell_type": "code",
   "execution_count": null,
   "id": "d3216dfe-6b18-43e7-8c0a-55af6257dd4e",
   "metadata": {},
   "outputs": [],
   "source": []
  },
  {
   "cell_type": "code",
   "execution_count": null,
   "id": "3e3bc1be-384d-43a0-8ad7-46dead8e14f5",
   "metadata": {},
   "outputs": [],
   "source": []
  },
  {
   "cell_type": "code",
   "execution_count": null,
   "id": "33291b80-7d7e-48cf-88bc-9f108b9d192d",
   "metadata": {},
   "outputs": [],
   "source": []
  },
  {
   "cell_type": "code",
   "execution_count": null,
   "id": "1335f482-aa56-4548-b2ab-9f8a110e4559",
   "metadata": {},
   "outputs": [],
   "source": []
  }
 ],
 "metadata": {
  "kernelspec": {
   "display_name": "Python 3 (ipykernel)",
   "language": "python",
   "name": "python3"
  },
  "language_info": {
   "codemirror_mode": {
    "name": "ipython",
    "version": 3
   },
   "file_extension": ".py",
   "mimetype": "text/x-python",
   "name": "python",
   "nbconvert_exporter": "python",
   "pygments_lexer": "ipython3",
   "version": "3.12.4"
  }
 },
 "nbformat": 4,
 "nbformat_minor": 5
}
