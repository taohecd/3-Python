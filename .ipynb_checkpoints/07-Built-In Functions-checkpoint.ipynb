{
 "cells": [
  {
   "cell_type": "markdown",
   "id": "ae823584-77e5-4732-85c3-5f27e462f91b",
   "metadata": {},
   "source": [
    "#### <span style = ' color : magenta' > enumerate </span>"
   ]
  },
  {
   "cell_type": "code",
   "execution_count": 1,
   "id": "9a8ced93-807d-4c3c-a968-28754290b72e",
   "metadata": {},
   "outputs": [
    {
     "data": {
      "text/plain": [
       "[(0, 'tiger'), (1, 'monkey'), (2, 'cat'), (3, 'dog')]"
      ]
     },
     "execution_count": 1,
     "metadata": {},
     "output_type": "execute_result"
    }
   ],
   "source": [
    "my_list = ['tiger', 'monkey', 'cat', 'dog']\n",
    "list(enumerate(my_list))"
   ]
  },
  {
   "cell_type": "code",
   "execution_count": 4,
   "id": "f1a76e49-1a00-4a6f-b70f-198cd20a1579",
   "metadata": {},
   "outputs": [
    {
     "data": {
      "text/plain": [
       "[(5, 'tiger'), (6, 'monkey'), (7, 'cat'), (8, 'dog')]"
      ]
     },
     "execution_count": 4,
     "metadata": {},
     "output_type": "execute_result"
    }
   ],
   "source": [
    "list(enumerate(my_list, start = 5))"
   ]
  },
  {
   "cell_type": "code",
   "execution_count": 5,
   "id": "d393099e-894e-42f1-a29f-ccb204ef3fb9",
   "metadata": {},
   "outputs": [
    {
     "data": {
      "text/plain": [
       "[(5, 'tiger'), (6, 'monkey'), (7, 'cat'), (8, 'dog')]"
      ]
     },
     "execution_count": 5,
     "metadata": {},
     "output_type": "execute_result"
    }
   ],
   "source": [
    "list(enumerate(my_list, 5))"
   ]
  },
  {
   "cell_type": "markdown",
   "id": "d2dbdd00-80d0-4095-a68f-f64b8cb0f435",
   "metadata": {},
   "source": [
    "#### <span style = ' color : magenta' > append </span>"
   ]
  },
  {
   "cell_type": "code",
   "execution_count": 7,
   "id": "c5faa95d-834c-4ce7-b889-d1cd985e4ba5",
   "metadata": {},
   "outputs": [
    {
     "name": "stdout",
     "output_type": "stream",
     "text": [
      "[1, 2, 3, [4, 5, 6]]\n"
     ]
    }
   ],
   "source": [
    "list_1 = [1, 2, 3]\n",
    "list_2 = [4, 5, 6]\n",
    "list_1.append(list_2)\n",
    "print(list_1)"
   ]
  },
  {
   "cell_type": "code",
   "execution_count": 8,
   "id": "9d51382b-d784-48ac-9441-04f17227334d",
   "metadata": {},
   "outputs": [
    {
     "name": "stdout",
     "output_type": "stream",
     "text": [
      "[1, 2, 3, 4, 5, 6]\n"
     ]
    }
   ],
   "source": [
    "list_1 = [1, 2, 3]\n",
    "list_2 = [4, 5, 6]\n",
    "for i in list_2:\n",
    "    list_1.append(i)\n",
    "print(list_1)"
   ]
  },
  {
   "cell_type": "markdown",
   "id": "0940c127-ea8a-41e4-9a7b-500c6b159b7c",
   "metadata": {},
   "source": [
    "#### <span style = ' color : magenta' > len </span>"
   ]
  },
  {
   "cell_type": "code",
   "execution_count": 9,
   "id": "681cbfc8-2cea-4cf9-8ebc-7ff2a7dbf3f2",
   "metadata": {},
   "outputs": [
    {
     "data": {
      "text/plain": [
       "4"
      ]
     },
     "execution_count": 9,
     "metadata": {},
     "output_type": "execute_result"
    }
   ],
   "source": [
    "my_dict = {'Name1' : 'Andy', 'Name2' : 'Alex', 'Name3' : 'Mike', 'Name4' : 'Tom'}\n",
    "len(my_dict)"
   ]
  },
  {
   "cell_type": "code",
   "execution_count": 11,
   "id": "bb331281-2082-4409-87a6-b8123f82daef",
   "metadata": {},
   "outputs": [
    {
     "name": "stdout",
     "output_type": "stream",
     "text": [
      "9025468791\n",
      "9025489876\n"
     ]
    }
   ],
   "source": [
    "phone_list = [9025468791, 9025489876,9025487985123,90254]\n",
    "for phone_num in phone_list:\n",
    "    if len(str(phone_num)) == 10:\n",
    "        print(phone_num)"
   ]
  },
  {
   "cell_type": "markdown",
   "id": "14a87dd1-766f-4c47-9f43-8e13353c4869",
   "metadata": {},
   "source": [
    "#### <span style = ' color : magenta' > range </span>"
   ]
  },
  {
   "cell_type": "code",
   "execution_count": 14,
   "id": "1222cabf-e0cf-4b98-924f-30e09a9ec2d2",
   "metadata": {},
   "outputs": [
    {
     "name": "stdout",
     "output_type": "stream",
     "text": [
      "0\n",
      "1\n",
      "2\n",
      "3\n"
     ]
    }
   ],
   "source": [
    "for num in range(4):\n",
    "    print(num)"
   ]
  },
  {
   "cell_type": "code",
   "execution_count": 15,
   "id": "fdb4bf9d-ceae-4989-a2e2-0c9427f584c2",
   "metadata": {},
   "outputs": [
    {
     "name": "stdout",
     "output_type": "stream",
     "text": [
      "2\n",
      "4\n",
      "6\n",
      "8\n"
     ]
    }
   ],
   "source": [
    "for num in range(2,10,2):\n",
    "    print(num)"
   ]
  },
  {
   "cell_type": "markdown",
   "id": "8fe875b8-bbe2-4e6a-89e1-e82cca6eabd3",
   "metadata": {},
   "source": [
    "#### <span style = ' color : magenta' > round </span>"
   ]
  },
  {
   "cell_type": "code",
   "execution_count": 16,
   "id": "b0f513b9-8027-4ba6-9875-e6a10b8e45e6",
   "metadata": {},
   "outputs": [
    {
     "data": {
      "text/plain": [
       "15300.0"
      ]
     },
     "execution_count": 16,
     "metadata": {},
     "output_type": "execute_result"
    }
   ],
   "source": [
    "round(15326.257,-2)"
   ]
  },
  {
   "cell_type": "markdown",
   "id": "5bcbe82f-5cf4-440a-88c6-63e6aa505286",
   "metadata": {},
   "source": [
    "#### <span style = ' color : magenta' > slice </span>"
   ]
  },
  {
   "cell_type": "code",
   "execution_count": 20,
   "id": "b05e2207-ad3a-49a4-a66a-138200266d75",
   "metadata": {},
   "outputs": [
    {
     "data": {
      "text/plain": [
       "[1, 3, 5]"
      ]
     },
     "execution_count": 20,
     "metadata": {},
     "output_type": "execute_result"
    }
   ],
   "source": [
    "my_list = [1,2,3,4,5,6,7]\n",
    "my_list[0:6:2]"
   ]
  },
  {
   "cell_type": "code",
   "execution_count": 23,
   "id": "a994dd33-3a1c-4f2f-b448-c9a7877d490e",
   "metadata": {},
   "outputs": [
    {
     "data": {
      "text/plain": [
       "[7, 6, 5, 4, 3, 2, 1]"
      ]
     },
     "execution_count": 23,
     "metadata": {},
     "output_type": "execute_result"
    }
   ],
   "source": [
    "my_list_r = my_list[-1:-8:-1]\n",
    "my_list_r"
   ]
  },
  {
   "cell_type": "code",
   "execution_count": 25,
   "id": "be9eb898-f2ff-49ac-8d85-8e681e4abf87",
   "metadata": {},
   "outputs": [
    {
     "data": {
      "text/plain": [
       "[1, 3, 5]"
      ]
     },
     "execution_count": 25,
     "metadata": {},
     "output_type": "execute_result"
    }
   ],
   "source": [
    "my_slice = slice(0,6,2)\n",
    "my_list[my_slice]"
   ]
  },
  {
   "cell_type": "code",
   "execution_count": 27,
   "id": "b1ba60d2-5083-42a2-bdb2-7ada062c9843",
   "metadata": {},
   "outputs": [
    {
     "data": {
      "text/plain": [
       "[7, 6, 5, 4, 3, 2, 1]"
      ]
     },
     "execution_count": 27,
     "metadata": {},
     "output_type": "execute_result"
    }
   ],
   "source": [
    "my_slice_r = slice(-1,-8,-1)\n",
    "my_list[my_slice_r]"
   ]
  },
  {
   "cell_type": "markdown",
   "id": "9943377b-3a39-4841-bc74-5322e6fee2b2",
   "metadata": {},
   "source": [
    "#### <span style = ' color : magenta' > format </span>"
   ]
  },
  {
   "cell_type": "code",
   "execution_count": 28,
   "id": "3455affa-9a9a-4ab1-893e-a63b9ca6c8b7",
   "metadata": {},
   "outputs": [
    {
     "name": "stdout",
     "output_type": "stream",
     "text": [
      "My name is Alex He\n"
     ]
    }
   ],
   "source": [
    "first_name = 'Alex'\n",
    "last_name = 'He'\n",
    "print('My name is {1} {0}'.format(last_name, first_name))"
   ]
  },
  {
   "cell_type": "code",
   "execution_count": 30,
   "id": "42144561-b1fd-4419-9c22-a1f526756f52",
   "metadata": {},
   "outputs": [
    {
     "name": "stdout",
     "output_type": "stream",
     "text": [
      "My name is Alex He\n"
     ]
    }
   ],
   "source": [
    "first_name = 'Alex'\n",
    "last_name = 'He'\n",
    "print('My name is {a} {b}'.format(b = last_name,a = first_name))"
   ]
  },
  {
   "cell_type": "code",
   "execution_count": 33,
   "id": "4023d4c8-0215-4cee-8b11-a3678b0dc512",
   "metadata": {},
   "outputs": [
    {
     "name": "stdout",
     "output_type": "stream",
     "text": [
      "I am 175.39 cm tall\n"
     ]
    }
   ],
   "source": [
    "hei = 175.392649276\n",
    "print('I am {:.2f} cm tall'.format(hei))"
   ]
  },
  {
   "cell_type": "markdown",
   "id": "69a61da8-1737-438c-80f8-e2ed96f41690",
   "metadata": {},
   "source": [
    "#### <span style = ' color : magenta' > strip </span>"
   ]
  },
  {
   "cell_type": "code",
   "execution_count": 35,
   "id": "0c5e2da5-617e-4c8d-a6bc-e106aff1105a",
   "metadata": {},
   "outputs": [
    {
     "name": "stdout",
     "output_type": "stream",
     "text": [
      "['cat', 'dog', 'panda']\n"
     ]
    }
   ],
   "source": [
    "my_list = ['0cat', '1dog', '2panda']\n",
    "new_list = [name_a.strip('0123456789') for name_a in my_list]\n",
    "print(new_list)"
   ]
  },
  {
   "cell_type": "markdown",
   "id": "27787b66-deb8-42e8-b020-15154f8bea92",
   "metadata": {},
   "source": [
    "#### <span style = ' color : magenta' > replace </span>"
   ]
  },
  {
   "cell_type": "code",
   "execution_count": 38,
   "id": "814f76f4-82c0-481d-a376-1551c50f7216",
   "metadata": {},
   "outputs": [
    {
     "data": {
      "text/plain": [
       "'I like this cat.'"
      ]
     },
     "execution_count": 38,
     "metadata": {},
     "output_type": "execute_result"
    }
   ],
   "source": [
    "my_sentence = 'I.like.this.cat.'\n",
    "my_sentence.replace('.',' ',3)"
   ]
  },
  {
   "cell_type": "markdown",
   "id": "32ca762e-5f03-49b9-8c35-d7f87069bd13",
   "metadata": {},
   "source": [
    "#### <span style = ' color : magenta' > join </span>"
   ]
  },
  {
   "cell_type": "code",
   "execution_count": 39,
   "id": "f7d19629-b45c-4b21-96a0-19a9d432ab33",
   "metadata": {},
   "outputs": [
    {
     "data": {
      "text/plain": [
       "'I love you'"
      ]
     },
     "execution_count": 39,
     "metadata": {},
     "output_type": "execute_result"
    }
   ],
   "source": [
    "my_list = ['I','love','you'] \n",
    "' '.join(my_list)"
   ]
  },
  {
   "cell_type": "code",
   "execution_count": 43,
   "id": "48ece124-cb10-4e4b-b770-e412d7011e8a",
   "metadata": {},
   "outputs": [
    {
     "data": {
      "text/plain": [
       "'I love you'"
      ]
     },
     "execution_count": 43,
     "metadata": {},
     "output_type": "execute_result"
    }
   ],
   "source": [
    "my_dict = {'first':'I','second':'love','third':'you'} \n",
    "' '.join(my_dict.values())"
   ]
  },
  {
   "cell_type": "code",
   "execution_count": null,
   "id": "715aae00-1478-42b1-a504-3b34efc5b35d",
   "metadata": {},
   "outputs": [],
   "source": []
  },
  {
   "cell_type": "code",
   "execution_count": null,
   "id": "f6e4d26c-5049-49fb-acfb-d9eeb5e57b0a",
   "metadata": {},
   "outputs": [],
   "source": []
  },
  {
   "cell_type": "code",
   "execution_count": null,
   "id": "471ee8de-9746-42d6-b93f-38f12892fd2b",
   "metadata": {},
   "outputs": [],
   "source": []
  }
 ],
 "metadata": {
  "kernelspec": {
   "display_name": "Python 3 (ipykernel)",
   "language": "python",
   "name": "python3"
  },
  "language_info": {
   "codemirror_mode": {
    "name": "ipython",
    "version": 3
   },
   "file_extension": ".py",
   "mimetype": "text/x-python",
   "name": "python",
   "nbconvert_exporter": "python",
   "pygments_lexer": "ipython3",
   "version": "3.12.4"
  }
 },
 "nbformat": 4,
 "nbformat_minor": 5
}
