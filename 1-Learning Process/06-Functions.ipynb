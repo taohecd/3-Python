{
 "cells": [
  {
   "cell_type": "markdown",
   "id": "f48d6192-320d-4114-9574-4830496dbc8b",
   "metadata": {},
   "source": [
    "### <span style = ' color : magenta' > 01-Default and Abritrary Arguments </span>"
   ]
  },
  {
   "cell_type": "code",
   "execution_count": 2,
   "id": "d767d207-560f-4d78-ba67-3a417ad5cf52",
   "metadata": {},
   "outputs": [],
   "source": [
    "def num_pow_fun(number,power = 2):\n",
    "    print(number ** power)"
   ]
  },
  {
   "cell_type": "code",
   "execution_count": 5,
   "id": "e78df1e0-1b73-482a-8f50-0510920a83bd",
   "metadata": {},
   "outputs": [
    {
     "name": "stdout",
     "output_type": "stream",
     "text": [
      "3125\n"
     ]
    }
   ],
   "source": [
    "num_pow_fun(5,5)"
   ]
  },
  {
   "cell_type": "code",
   "execution_count": 16,
   "id": "460a498d-1581-451f-ab30-d5bb399d34de",
   "metadata": {},
   "outputs": [
    {
     "name": "stdout",
     "output_type": "stream",
     "text": [
      "12\n"
     ]
    }
   ],
   "source": [
    "tuple_1 = (3,4,5,6,7)\n",
    "def fun_1(*tuple_v):\n",
    "    print(tuple_v[0]*tuple_v[1])\n",
    "fun_1(*tuple_1)"
   ]
  },
  {
   "cell_type": "markdown",
   "id": "52c6f513-4e23-481f-805d-2589a49be478",
   "metadata": {},
   "source": [
    "### <span style = ' color : magenta' > 02-Keyword and Arbitrary Keyword Arguments </span>"
   ]
  },
  {
   "cell_type": "code",
   "execution_count": 7,
   "id": "b61ede01-a9e6-4670-8c42-d08d94b4c0f3",
   "metadata": {},
   "outputs": [],
   "source": [
    "def number_kwargs(**Names):\n",
    "    for keys, values in Names.items():   \n",
    "        print(keys + ': ' + values)"
   ]
  },
  {
   "cell_type": "code",
   "execution_count": 8,
   "id": "c40c88aa-4728-4ece-95d7-ccc362a64c37",
   "metadata": {},
   "outputs": [
    {
     "name": "stdout",
     "output_type": "stream",
     "text": [
      "Name1: Andy\n",
      "Name2: Alex\n",
      "Name3: Mike\n",
      "Name4: Tom\n"
     ]
    }
   ],
   "source": [
    "number_kwargs(Name1 = 'Andy', Name2 = 'Alex', Name3 = 'Mike', Name4 = 'Tom')"
   ]
  },
  {
   "cell_type": "code",
   "execution_count": 18,
   "id": "be929d24-c5b5-496a-9695-fea72ce13b89",
   "metadata": {},
   "outputs": [],
   "source": [
    "my_dict = {'Name1' : 'Andy', 'Name2' : 'Alex', 'Name3' : 'Mike', 'Name4' : 'Tom'}"
   ]
  },
  {
   "cell_type": "code",
   "execution_count": 12,
   "id": "f46bdd64-4652-4412-9ca7-621839a5a5c6",
   "metadata": {},
   "outputs": [
    {
     "name": "stdout",
     "output_type": "stream",
     "text": [
      "Name1: Andy\n",
      "Name2: Alex\n",
      "Name3: Mike\n",
      "Name4: Tom\n"
     ]
    }
   ],
   "source": [
    "number_kwargs(**my_dict)"
   ]
  },
  {
   "cell_type": "code",
   "execution_count": 34,
   "id": "e3a140fa-c082-4ec3-9b3f-872f6f7ec396",
   "metadata": {},
   "outputs": [],
   "source": [
    "def wild_fun(one, *two, **three):\n",
    "    print(one)\n",
    "    print(two)\n",
    "    print(three.items())"
   ]
  },
  {
   "cell_type": "code",
   "execution_count": 35,
   "id": "fdbf7b90-d138-452b-b5b6-5e055287d2d5",
   "metadata": {},
   "outputs": [
    {
     "name": "stdout",
     "output_type": "stream",
     "text": [
      "Alex\n",
      "(3, 4, 5, 6, 7)\n",
      "dict_items([('Name1', 'Andy'), ('Name2', 'Alex'), ('Name3', 'Mike'), ('Name4', 'Tom')])\n"
     ]
    }
   ],
   "source": [
    "wild_fun('Alex', *tuple_1, **my_dict)"
   ]
  },
  {
   "cell_type": "code",
   "execution_count": 38,
   "id": "e5bd050a-f8ad-437a-8f2b-41ad6613f9cb",
   "metadata": {},
   "outputs": [],
   "source": [
    "def wild_fun_2(one, *two, **three):\n",
    "    print(one)\n",
    "    print(*two)\n",
    "    print(*three.items())"
   ]
  },
  {
   "cell_type": "code",
   "execution_count": 39,
   "id": "8798de8e-020c-4e52-9caa-deabf29a54b0",
   "metadata": {},
   "outputs": [
    {
     "name": "stdout",
     "output_type": "stream",
     "text": [
      "Alex\n",
      "3 4 5 6 7\n",
      "('Name1', 'Andy') ('Name2', 'Alex') ('Name3', 'Mike') ('Name4', 'Tom')\n"
     ]
    }
   ],
   "source": [
    "wild_fun_2('Alex', *tuple_1, **my_dict)"
   ]
  },
  {
   "cell_type": "markdown",
   "id": "8aa9a89b-ffef-4e49-8566-2c1a66effd78",
   "metadata": {},
   "source": [
    "### <span style = ' color : magenta' > 03- Lambda Functions </span>"
   ]
  },
  {
   "cell_type": "code",
   "execution_count": 41,
   "id": "e545bdad-8501-466d-9b00-bc30a4ec2cc4",
   "metadata": {},
   "outputs": [
    {
     "data": {
      "text/plain": [
       "10"
      ]
     },
     "execution_count": 41,
     "metadata": {},
     "output_type": "execute_result"
    }
   ],
   "source": [
    "(lambda x : x * 2)  (5)"
   ]
  },
  {
   "cell_type": "code",
   "execution_count": null,
   "id": "672631ff-c239-4ad2-ba71-72d704d25b93",
   "metadata": {},
   "outputs": [],
   "source": []
  },
  {
   "cell_type": "code",
   "execution_count": null,
   "id": "c20ddf59-9490-4fc0-8538-88f447bad9e9",
   "metadata": {},
   "outputs": [],
   "source": []
  },
  {
   "cell_type": "code",
   "execution_count": null,
   "id": "ed7ddb69-a6d2-44e1-923b-7a358e5060e2",
   "metadata": {},
   "outputs": [],
   "source": []
  },
  {
   "cell_type": "code",
   "execution_count": null,
   "id": "e5f6433c-d17d-4c23-b9ac-d5f0ca8707b1",
   "metadata": {},
   "outputs": [],
   "source": []
  },
  {
   "cell_type": "code",
   "execution_count": null,
   "id": "27a2f1a5-1376-4c87-9f91-8881abd9d1ac",
   "metadata": {},
   "outputs": [],
   "source": []
  },
  {
   "cell_type": "code",
   "execution_count": null,
   "id": "89bcd8e9-b26a-42ba-9722-10b54fbdd89e",
   "metadata": {},
   "outputs": [],
   "source": []
  },
  {
   "cell_type": "code",
   "execution_count": null,
   "id": "0a34b81d-990b-46af-8585-4d2ee91064ed",
   "metadata": {},
   "outputs": [],
   "source": []
  }
 ],
 "metadata": {
  "kernelspec": {
   "display_name": "Python 3 (ipykernel)",
   "language": "python",
   "name": "python3"
  },
  "language_info": {
   "codemirror_mode": {
    "name": "ipython",
    "version": 3
   },
   "file_extension": ".py",
   "mimetype": "text/x-python",
   "name": "python",
   "nbconvert_exporter": "python",
   "pygments_lexer": "ipython3",
   "version": "3.12.4"
  }
 },
 "nbformat": 4,
 "nbformat_minor": 5
}
