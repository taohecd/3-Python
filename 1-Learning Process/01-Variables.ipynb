{
 "cells": [
  {
   "cell_type": "code",
   "execution_count": 3,
   "id": "98e46fbb-9f7e-4e45-bfe2-b3008bbf02e8",
   "metadata": {},
   "outputs": [
    {
     "name": "stdout",
     "output_type": "stream",
     "text": [
      "Chocolate Vanilla Rocky Road\n"
     ]
    }
   ],
   "source": [
    "x,y,z = 'Chocolate','Vanilla','Rocky Road'\n",
    "print(x,y,z)"
   ]
  },
  {
   "cell_type": "code",
   "execution_count": 2,
   "id": "d0ce7532-9767-4f2a-a61f-670e0175424f",
   "metadata": {},
   "outputs": [
    {
     "name": "stdout",
     "output_type": "stream",
     "text": [
      "('Chocolate', 'Vanilla', 'Rocky Road')\n"
     ]
    },
    {
     "data": {
      "text/plain": [
       "tuple"
      ]
     },
     "execution_count": 2,
     "metadata": {},
     "output_type": "execute_result"
    }
   ],
   "source": [
    "x = 'Chocolate','Vanilla','Rocky Road'\n",
    "print(x)\n",
    "type(x)"
   ]
  },
  {
   "cell_type": "code",
   "execution_count": 5,
   "id": "a5697038-4205-4e31-abd1-3a2f731baff4",
   "metadata": {},
   "outputs": [
    {
     "name": "stdout",
     "output_type": "stream",
     "text": [
      "Chocolate\n",
      "Vanilla\n",
      "7\n"
     ]
    },
    {
     "data": {
      "text/plain": [
       "list"
      ]
     },
     "execution_count": 5,
     "metadata": {},
     "output_type": "execute_result"
    }
   ],
   "source": [
    "ice_cream = ['Chocolate','Vanilla',7]\n",
    "x,y,z = ice_cream\n",
    "print(x)\n",
    "print(y)\n",
    "print(z)\n",
    "type(ice_cream)"
   ]
  },
  {
   "cell_type": "code",
   "execution_count": 6,
   "id": "4f9173f7-196b-49a8-a7e0-7622a4761315",
   "metadata": {},
   "outputs": [
    {
     "name": "stdout",
     "output_type": "stream",
     "text": [
      "I love Python!\n",
      "I love  Python!\n"
     ]
    }
   ],
   "source": [
    "x = 'I love'\n",
    "y = ' Python!'\n",
    "print(x+y)\n",
    "print(x,y)"
   ]
  },
  {
   "cell_type": "code",
   "execution_count": 8,
   "id": "e5224f70-1630-4080-b299-6b7b72932a82",
   "metadata": {},
   "outputs": [
    {
     "name": "stdout",
     "output_type": "stream",
     "text": [
      "I love the number 9\n"
     ]
    }
   ],
   "source": [
    "x = 'I love the number'\n",
    "y =9\n",
    "print (x,y)"
   ]
  },
  {
   "cell_type": "code",
   "execution_count": 11,
   "id": "d6523e0c-a881-4b92-bca9-d496ec810ba5",
   "metadata": {},
   "outputs": [
    {
     "data": {
      "text/plain": [
       "'I lov'"
      ]
     },
     "execution_count": 11,
     "metadata": {},
     "output_type": "execute_result"
    }
   ],
   "source": [
    "my_string = 'I love this course!'\n",
    "# start, stop, step\n",
    "my_string[:5]"
   ]
  },
  {
   "cell_type": "code",
   "execution_count": 12,
   "id": "f15f7985-bb36-4cec-9d9e-5a0437dd0bba",
   "metadata": {},
   "outputs": [
    {
     "data": {
      "text/plain": [
       "'I love this course!'"
      ]
     },
     "execution_count": 12,
     "metadata": {},
     "output_type": "execute_result"
    }
   ],
   "source": [
    "my_string[0:]"
   ]
  },
  {
   "cell_type": "code",
   "execution_count": 13,
   "id": "cc891ad8-7afa-4ba7-ac32-2bfd87e3ef7d",
   "metadata": {},
   "outputs": [
    {
     "data": {
      "text/plain": [
       "'Ilv h'"
      ]
     },
     "execution_count": 13,
     "metadata": {},
     "output_type": "execute_result"
    }
   ],
   "source": [
    "my_string[0:10:2]"
   ]
  },
  {
   "cell_type": "code",
   "execution_count": 14,
   "id": "84290d96-f56c-4b11-a140-d60e1e1480c2",
   "metadata": {},
   "outputs": [
    {
     "data": {
      "text/plain": [
       "'!'"
      ]
     },
     "execution_count": 14,
     "metadata": {},
     "output_type": "execute_result"
    }
   ],
   "source": [
    "my_string[-1]"
   ]
  },
  {
   "cell_type": "code",
   "execution_count": 16,
   "id": "e86c9a60-e154-4242-9482-cb45ac6c6c03",
   "metadata": {},
   "outputs": [
    {
     "data": {
      "text/plain": [
       "'course'"
      ]
     },
     "execution_count": 16,
     "metadata": {},
     "output_type": "execute_result"
    }
   ],
   "source": [
    "my_string[-7:-1]"
   ]
  },
  {
   "cell_type": "code",
   "execution_count": 17,
   "id": "e5f9ee04-4617-4fa4-87a0-eddf7d880340",
   "metadata": {},
   "outputs": [
    {
     "data": {
      "text/plain": [
       "'course!'"
      ]
     },
     "execution_count": 17,
     "metadata": {},
     "output_type": "execute_result"
    }
   ],
   "source": [
    "my_string[-7:]"
   ]
  },
  {
   "cell_type": "code",
   "execution_count": null,
   "id": "ef8cdd6f-32de-4436-8cad-e6e54c159153",
   "metadata": {},
   "outputs": [],
   "source": []
  },
  {
   "cell_type": "code",
   "execution_count": null,
   "id": "dc4b2dbc-e254-4083-b45c-dc83e4a4e442",
   "metadata": {},
   "outputs": [],
   "source": []
  },
  {
   "cell_type": "code",
   "execution_count": null,
   "id": "5aa5ee5c-ea65-4678-92b0-911b16014042",
   "metadata": {},
   "outputs": [],
   "source": []
  },
  {
   "cell_type": "code",
   "execution_count": null,
   "id": "5a586397-c937-4446-bee7-f89fa92cd75e",
   "metadata": {},
   "outputs": [],
   "source": []
  },
  {
   "cell_type": "code",
   "execution_count": null,
   "id": "629a7fb0-e463-4a51-b470-205f7d70aff7",
   "metadata": {},
   "outputs": [],
   "source": []
  },
  {
   "cell_type": "code",
   "execution_count": null,
   "id": "f9326bd6-6bfe-4c44-bc80-31585c98cd60",
   "metadata": {},
   "outputs": [],
   "source": []
  },
  {
   "cell_type": "code",
   "execution_count": null,
   "id": "911f70d2-ef67-4c73-a19d-790aff3b4c20",
   "metadata": {},
   "outputs": [],
   "source": []
  },
  {
   "cell_type": "code",
   "execution_count": null,
   "id": "e163391d-35a7-454b-a672-2e534764e8f9",
   "metadata": {},
   "outputs": [],
   "source": []
  }
 ],
 "metadata": {
  "kernelspec": {
   "display_name": "Python 3 (ipykernel)",
   "language": "python",
   "name": "python3"
  },
  "language_info": {
   "codemirror_mode": {
    "name": "ipython",
    "version": 3
   },
   "file_extension": ".py",
   "mimetype": "text/x-python",
   "name": "python",
   "nbconvert_exporter": "python",
   "pygments_lexer": "ipython3",
   "version": "3.12.4"
  }
 },
 "nbformat": 4,
 "nbformat_minor": 5
}
