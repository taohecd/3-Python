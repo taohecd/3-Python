{
 "cells": [
  {
   "cell_type": "code",
   "execution_count": null,
   "id": "d3d6f920-7181-4c23-97fa-51bb529a3b39",
   "metadata": {},
   "outputs": [],
   "source": []
  },
  {
   "cell_type": "code",
   "execution_count": 1,
   "id": "8059194c-22d5-4394-87db-5d8213f9e2e2",
   "metadata": {},
   "outputs": [],
   "source": [
    "import os, shutil"
   ]
  },
  {
   "cell_type": "code",
   "execution_count": 10,
   "id": "78525cc6-49b4-4702-867d-fe7c66f4be8c",
   "metadata": {},
   "outputs": [],
   "source": [
    "path = r'C:\\Users\\the\\OneDrive - ISANS\\the-Personal\\20240509data\\4-Python\\Automatic File Sorter Project\\\\'"
   ]
  },
  {
   "cell_type": "code",
   "execution_count": 11,
   "id": "717a6d3d-b265-421c-a7e4-153af98116ea",
   "metadata": {},
   "outputs": [
    {
     "data": {
      "text/plain": [
       "['CSVFile.csv',\n",
       " 'FakeFile.csv',\n",
       " 'FakeFile.txt',\n",
       " 'Max.png',\n",
       " 'NewFile.tsv',\n",
       " 'NewFile.txt',\n",
       " 'Rosie.png']"
      ]
     },
     "execution_count": 11,
     "metadata": {},
     "output_type": "execute_result"
    }
   ],
   "source": [
    "os.listdir(path)"
   ]
  },
  {
   "cell_type": "code",
   "execution_count": 12,
   "id": "09a34f08-d51f-479a-aff2-cbc16b44f72e",
   "metadata": {},
   "outputs": [],
   "source": [
    "folder_names = ['CSV Files', 'Text Files', 'Image Files',]\n",
    "\n",
    "for folder in folder_names:\n",
    "    if not os.path.exists (path + folder):\n",
    "        os.makedirs(path + folder)"
   ]
  },
  {
   "cell_type": "code",
   "execution_count": 14,
   "id": "d7e4f71c-d61c-4955-ad5a-99e8bf90d888",
   "metadata": {},
   "outputs": [],
   "source": [
    "path = r'C:\\Users\\the\\OneDrive - ISANS\\the-Personal\\20240509data\\4-Python\\Automatic File Sorter Project\\\\'\n",
    "file_names = os.listdir(path)\n",
    "\n",
    "for file in file_names:\n",
    "    if '.csv' in file and not os.path.exists(path + 'CSV Files\\\\' + file):\n",
    "        shutil.move(path + file, path + 'CSV Files\\\\' + file)"
   ]
  },
  {
   "cell_type": "code",
   "execution_count": null,
   "id": "2620824a-d899-4250-bb87-e42cb3ce4126",
   "metadata": {},
   "outputs": [],
   "source": []
  },
  {
   "cell_type": "code",
   "execution_count": null,
   "id": "5a66b5ad-e595-4825-ba78-f2a25d6ce069",
   "metadata": {},
   "outputs": [],
   "source": []
  },
  {
   "cell_type": "code",
   "execution_count": null,
   "id": "fd755655-3591-44da-b743-e95b308ae905",
   "metadata": {},
   "outputs": [],
   "source": []
  },
  {
   "cell_type": "code",
   "execution_count": null,
   "id": "28505215-ffd5-4b8f-b2a3-29209f199829",
   "metadata": {},
   "outputs": [],
   "source": []
  },
  {
   "cell_type": "code",
   "execution_count": null,
   "id": "ad4913ac-4157-431a-a93a-f9366129a37c",
   "metadata": {},
   "outputs": [],
   "source": []
  },
  {
   "cell_type": "code",
   "execution_count": null,
   "id": "7605d18b-5c23-49fd-9e53-04e8dc6aeed8",
   "metadata": {},
   "outputs": [],
   "source": []
  },
  {
   "cell_type": "code",
   "execution_count": null,
   "id": "ada1a2df-ea74-43f4-a2a6-a52dfe4e5743",
   "metadata": {},
   "outputs": [],
   "source": []
  },
  {
   "cell_type": "code",
   "execution_count": null,
   "id": "1e1d325c-aba6-43d6-989f-0edb910377f0",
   "metadata": {},
   "outputs": [],
   "source": []
  },
  {
   "cell_type": "code",
   "execution_count": null,
   "id": "539b6ac8-79c3-482c-b034-00eab72652b0",
   "metadata": {},
   "outputs": [],
   "source": []
  },
  {
   "cell_type": "code",
   "execution_count": null,
   "id": "d7ef0714-0f49-4509-a829-fd4ddad0b5aa",
   "metadata": {},
   "outputs": [],
   "source": []
  },
  {
   "cell_type": "code",
   "execution_count": null,
   "id": "0cb43d46-8900-4ed0-8c32-2b54954182c6",
   "metadata": {},
   "outputs": [],
   "source": []
  },
  {
   "cell_type": "code",
   "execution_count": null,
   "id": "a8aab9e0-3f75-48c4-8800-8ca6cc8179a4",
   "metadata": {},
   "outputs": [],
   "source": []
  },
  {
   "cell_type": "code",
   "execution_count": null,
   "id": "37bc1deb-574d-4794-92d1-a3d2c3d634e2",
   "metadata": {},
   "outputs": [],
   "source": []
  },
  {
   "cell_type": "code",
   "execution_count": null,
   "id": "91c87e9b-bf14-43d4-b917-f66a45637de4",
   "metadata": {},
   "outputs": [],
   "source": []
  },
  {
   "cell_type": "code",
   "execution_count": null,
   "id": "7302d84d-64b6-403e-a938-163d7cf60f4b",
   "metadata": {},
   "outputs": [],
   "source": []
  },
  {
   "cell_type": "code",
   "execution_count": null,
   "id": "7df65ce9-721f-429f-98bf-bc5d7d544a44",
   "metadata": {},
   "outputs": [],
   "source": []
  },
  {
   "cell_type": "code",
   "execution_count": null,
   "id": "6fb9a3ff-b1df-4618-a666-6fbf2d01c986",
   "metadata": {},
   "outputs": [],
   "source": []
  },
  {
   "cell_type": "code",
   "execution_count": null,
   "id": "9add0d1c-40a7-4fb8-83e6-1ed3fa3859b8",
   "metadata": {},
   "outputs": [],
   "source": []
  },
  {
   "cell_type": "code",
   "execution_count": null,
   "id": "222fa817-4cbc-4ccf-b082-acf9aa288ab3",
   "metadata": {},
   "outputs": [],
   "source": []
  }
 ],
 "metadata": {
  "kernelspec": {
   "display_name": "Python 3 (ipykernel)",
   "language": "python",
   "name": "python3"
  },
  "language_info": {
   "codemirror_mode": {
    "name": "ipython",
    "version": 3
   },
   "file_extension": ".py",
   "mimetype": "text/x-python",
   "name": "python",
   "nbconvert_exporter": "python",
   "pygments_lexer": "ipython3",
   "version": "3.12.4"
  }
 },
 "nbformat": 4,
 "nbformat_minor": 5
}
