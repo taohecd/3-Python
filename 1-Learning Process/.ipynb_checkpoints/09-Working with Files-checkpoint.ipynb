{
 "cells": [
  {
   "cell_type": "markdown",
   "id": "d1c884ce-950f-43e1-9390-fe10264dd041",
   "metadata": {},
   "source": [
    "### <span style = ' color : magenta '> 01-Creating a File </span>"
   ]
  },
  {
   "cell_type": "code",
   "execution_count": 1,
   "id": "eb4fca98-89a3-4aab-a835-382ca9489872",
   "metadata": {},
   "outputs": [],
   "source": [
    "create_file_1 = open(r'C:\\Users\\the\\OneDrive - ISANS\\the-Personal\\20240509data\\4-Python\\test_file.txt', 'x')"
   ]
  },
  {
   "cell_type": "code",
   "execution_count": 2,
   "id": "01c132e6-4153-49a5-9e7a-3e9949448103",
   "metadata": {},
   "outputs": [],
   "source": [
    "write_file_1 = open(r'C:\\Users\\the\\OneDrive - ISANS\\the-Personal\\20240509data\\4-Python\\test_file.csv', 'w')"
   ]
  },
  {
   "cell_type": "markdown",
   "id": "44379203-f0dc-44c0-a31e-9f81ff426362",
   "metadata": {},
   "source": [
    "### <span style = ' color : magenta '> 02-Reading, Writing, and Closing files </span>"
   ]
  },
  {
   "cell_type": "code",
   "execution_count": 12,
   "id": "d5a5613d-4a91-4319-bc27-de0b8162b926",
   "metadata": {},
   "outputs": [
    {
     "data": {
      "text/plain": [
       "27"
      ]
     },
     "execution_count": 12,
     "metadata": {},
     "output_type": "execute_result"
    }
   ],
   "source": [
    "write_file_2 = open(r'C:\\Users\\taohe\\OneDrive - ISANS\\the-Personal\\20240509data\\4-Python\\test_file.txt', 'w')\n",
    "write_file_2.write('Write this file by Python!!') "
   ]
  },
  {
   "cell_type": "code",
   "execution_count": 20,
   "id": "1ac94a34-830b-4893-b93a-1bcc3bc7ec78",
   "metadata": {},
   "outputs": [],
   "source": [
    "write_file_2.close()"
   ]
  },
  {
   "cell_type": "code",
   "execution_count": 17,
   "id": "9fcc98cd-0b51-4f4a-8da8-dbdb440f6da5",
   "metadata": {},
   "outputs": [
    {
     "name": "stdout",
     "output_type": "stream",
     "text": [
      "Write this file by Python!!\n"
     ]
    }
   ],
   "source": [
    "read_file_2 = open(r'C:\\Users\\taohe\\OneDrive - ISANS\\the-Personal\\20240509data\\4-Python\\test_file.txt', 'r')\n",
    "print(read_file_2.read())"
   ]
  },
  {
   "cell_type": "markdown",
   "id": "e1a5ac00-5fa9-4a72-96d2-002834edf8dd",
   "metadata": {},
   "source": [
    "### <span style = ' color : magenta '> context managers </span>"
   ]
  },
  {
   "cell_type": "code",
   "execution_count": 18,
   "id": "b722532e-e341-40c2-82ea-13b1f4a06f7e",
   "metadata": {},
   "outputs": [],
   "source": [
    " with open(r'C:\\Users\\taohe\\OneDrive - ISANS\\the-Personal\\20240509data\\4-Python\\test_file_2.txt', 'w') as test_file_2:\n",
    "     test_file_2.write('Using context manager!')"
   ]
  },
  {
   "cell_type": "code",
   "execution_count": 25,
   "id": "cfc97dc7-fae9-4f7f-bc42-144b78fc3864",
   "metadata": {},
   "outputs": [],
   "source": [
    " with open(r'C:\\Users\\taohe\\OneDrive - ISANS\\the-Personal\\20240509data\\4-Python\\test_file_2.txt', 'w') as test_file_2:\n",
    "     test_file_2.write('Using context manager again!!')"
   ]
  },
  {
   "cell_type": "code",
   "execution_count": 26,
   "id": "49397398-9c49-4914-8950-d45fc18a1e00",
   "metadata": {},
   "outputs": [
    {
     "name": "stdout",
     "output_type": "stream",
     "text": [
      "Using context manager again!!\n"
     ]
    }
   ],
   "source": [
    " with open(r'C:\\Users\\taohe\\OneDrive - ISANS\\the-Personal\\20240509data\\4-Python\\test_file_2.txt', 'r') as test_file_2:\n",
    "    print(test_file_2.read())"
   ]
  },
  {
   "cell_type": "markdown",
   "id": "ef5d43af-8b73-46f9-9baf-5473b9e6dc2b",
   "metadata": {},
   "source": [
    "### <span style = ' color : magenta '> writing and appending in a file </span>"
   ]
  },
  {
   "cell_type": "code",
   "execution_count": 39,
   "id": "eeab4e61-f47c-428a-af9b-43d7b161ea22",
   "metadata": {},
   "outputs": [],
   "source": [
    "text_3 = \"\"\"\n",
    "This is 1st line!\n",
    "This is 2nd line!\n",
    "\"\"\"\n",
    "with open(r'C:\\Users\\taohe\\OneDrive - ISANS\\the-Personal\\20240509data\\4-Python\\test_file_3.txt', 'w') as write_file_3:\n",
    "     write_file_3.write(text_3)"
   ]
  },
  {
   "cell_type": "code",
   "execution_count": 40,
   "id": "0b0a1d2c-c2cc-4d29-bb5a-6c3f483e7014",
   "metadata": {},
   "outputs": [
    {
     "name": "stdout",
     "output_type": "stream",
     "text": [
      "\n",
      "This is 1st line!\n",
      "This is 2nd line!\n",
      "\n"
     ]
    }
   ],
   "source": [
    "with open(r'C:\\Users\\taohe\\OneDrive - ISANS\\the-Personal\\20240509data\\4-Python\\test_file_3.txt', 'r') as read_file_3:\n",
    "     print(read_file_3.read())"
   ]
  },
  {
   "cell_type": "code",
   "execution_count": 41,
   "id": "36ec9793-2df9-4158-8e02-9b8dce9aa4ce",
   "metadata": {},
   "outputs": [],
   "source": [
    "text_3_append = \"\"\"This is 3rd line!\n",
    "This is 4th line!\n",
    "\"\"\"\n",
    "with open(r'C:\\Users\\taohe\\OneDrive - ISANS\\the-Personal\\20240509data\\4-Python\\test_file_3.txt', 'a') as append_file_3:\n",
    "     append_file_3.write(text_3_append)"
   ]
  },
  {
   "cell_type": "code",
   "execution_count": 42,
   "id": "685e5681-bc21-491f-bb5f-8698deb69405",
   "metadata": {},
   "outputs": [
    {
     "name": "stdout",
     "output_type": "stream",
     "text": [
      "\n",
      "This is 1st line!\n",
      "This is 2nd line!\n",
      "This is 3rd line!\n",
      "This is 4th line!\n",
      "\n"
     ]
    }
   ],
   "source": [
    "with open(r'C:\\Users\\taohe\\OneDrive - ISANS\\the-Personal\\20240509data\\4-Python\\test_file_3.txt', 'r') as read_file_3:\n",
    "     print(read_file_3.read())"
   ]
  },
  {
   "cell_type": "code",
   "execution_count": 3,
   "id": "22e3a9cf-ced9-421c-84ca-f2f399e63420",
   "metadata": {},
   "outputs": [],
   "source": [
    "import csv\n",
    "colum_names = ['Name', 'Job', 'Age']\n",
    "data_1 = [['Alex', 'Data Analyst', '29'], ['Andy', 'Data Scientist', 45], ['Tom', 'IT Specialist', '24']]\n",
    "with open(r'C:\\Users\\taohe\\OneDrive - ISANS\\the-Personal\\20240509data\\4-Python\\csv_test.csv', 'w', newline = '') as csv_write_file:\n",
    "    csv_writer_1 = csv.writer(csv_write_file)\n",
    "    csv_writer_1.writerow(colum_names)\n",
    "    csv_writer_1.writerows(data_1)"
   ]
  },
  {
   "cell_type": "code",
   "execution_count": null,
   "id": "aac35a81-6eac-4b16-9d07-6bd4f9201fd0",
   "metadata": {},
   "outputs": [],
   "source": []
  },
  {
   "cell_type": "code",
   "execution_count": 19,
   "id": "264a2f7d-2342-4c1e-b6e6-af2be53c64ec",
   "metadata": {},
   "outputs": [],
   "source": [
    "import csv\n",
    "colum_names2 = ['Name', 'Job', 'Age']\n",
    "my_dict3 = [{'Name':'Alex', 'Job':'Data Engineer', 'Age':'29'}, \n",
    "            {'Name':'Andy', 'Job':'Data Scientist', 'Age':45}, \n",
    "            {'Name':'Tom', 'Job':'IT Specialist', 'Age':'24'}]\n",
    "with open(r'C:\\Users\\taohe\\OneDrive - ISANS\\the-Personal\\20240509data\\4-Python\\csv_test2.csv', 'w', newline = '') as csv_write_file2:\n",
    "    csv_writer_2 = csv.DictWriter(csv_write_file2, colum_names2)\n",
    "    csv_writer_2.writeheader()\n",
    "    csv_writer_2.writerows(my_dict3)"
   ]
  },
  {
   "cell_type": "code",
   "execution_count": null,
   "id": "c5e4c08a-afd2-4cf2-8b46-91ecf8f7a80e",
   "metadata": {},
   "outputs": [],
   "source": []
  },
  {
   "cell_type": "code",
   "execution_count": 20,
   "id": "e256e506-5d20-4c86-9442-6387648e6929",
   "metadata": {},
   "outputs": [],
   "source": [
    "import json\n",
    "colum_names2 = ['Name', 'Job', 'Age']\n",
    "my_dict4 = [{'Name':'Alex', 'Job':'Data Engineer', 'Age':'29'}, \n",
    "            {'Name':'Andy', 'Job':'Data Scientist', 'Age':45}, \n",
    "            {'Name':'Tom', 'Job':'IT Specialist', 'Age':'24'}]\n",
    "with open(r'C:\\Users\\taohe\\OneDrive - ISANS\\the-Personal\\20240509data\\4-Python\\json_test.json', 'w', newline = '') as json_write_file:\n",
    "    json.dump(my_dict4, json_write_file)"
   ]
  },
  {
   "cell_type": "code",
   "execution_count": null,
   "id": "2acee606-f1ae-4514-a7bc-1e847ad06cfd",
   "metadata": {},
   "outputs": [],
   "source": []
  },
  {
   "cell_type": "markdown",
   "id": "4e2b297c-7480-422c-aae3-5d66aad5e6fa",
   "metadata": {},
   "source": [
    "### <span style = ' color : magenta '> Creating a Folder </span>"
   ]
  },
  {
   "cell_type": "code",
   "execution_count": 21,
   "id": "e20bbedb-aeaf-48fe-ba4e-713390e23cd0",
   "metadata": {},
   "outputs": [],
   "source": [
    "import os\n",
    "os.mkdir(r'C:\\Users\\taohe\\OneDrive - ISANS\\the-Personal\\20240509data\\4-Python\\test_folder')"
   ]
  },
  {
   "cell_type": "code",
   "execution_count": 26,
   "id": "6f8e8510-abe9-44ee-afc9-1e301b8afa6a",
   "metadata": {},
   "outputs": [],
   "source": [
    "if not os.path.exists(r'C:\\Users\\taohe\\OneDrive - ISANS\\the-Personal\\20240509data\\4-Python\\test_folder2'):\n",
    "    os.makedirs(r'C:\\Users\\taohe\\OneDrive - ISANS\\the-Personal\\20240509data\\4-Python\\test_folder2\\sub_1\\sub_2')"
   ]
  },
  {
   "cell_type": "code",
   "execution_count": 27,
   "id": "04361d14-2d75-4322-99d0-ea58ad841801",
   "metadata": {},
   "outputs": [],
   "source": [
    "os.makedirs(r'C:\\Users\\taohe\\OneDrive - ISANS\\the-Personal\\20240509data\\4-Python\\test_folder2\\sub_1\\sub_2')"
   ]
  },
  {
   "cell_type": "markdown",
   "id": "1898b0aa-10e9-4b28-9be8-70548090f026",
   "metadata": {},
   "source": [
    "### <span style = ' color : magenta '> Copying and Moving Files </span>"
   ]
  },
  {
   "cell_type": "code",
   "execution_count": 28,
   "id": "b5996be4-f5ac-4985-ab7b-da59a968e9ba",
   "metadata": {},
   "outputs": [],
   "source": [
    "import os\n",
    "import shutil"
   ]
  },
  {
   "cell_type": "code",
   "execution_count": 35,
   "id": "a5e617eb-c452-40c4-b486-9547d4fa327d",
   "metadata": {},
   "outputs": [],
   "source": [
    "path = r'C:\\Users\\taohe\\OneDrive - ISANS\\the-Personal\\20240509data\\4-Python\\csv_test2.csv'"
   ]
  },
  {
   "cell_type": "code",
   "execution_count": 32,
   "id": "ea8d5954-c78e-4d8c-b665-e8abc7b08852",
   "metadata": {},
   "outputs": [
    {
     "data": {
      "text/plain": [
       "'C:\\\\Users\\\\taohe\\\\OneDrive - ISANS\\\\the-Personal\\\\20240509data\\\\4-Python\\\\test_folder\\\\csv_test_2.csv'"
      ]
     },
     "execution_count": 32,
     "metadata": {},
     "output_type": "execute_result"
    }
   ],
   "source": [
    "shutil.move(path,r'C:\\Users\\taohe\\OneDrive - ISANS\\the-Personal\\20240509data\\4-Python\\test_folder\\csv_test_2.csv')"
   ]
  },
  {
   "cell_type": "code",
   "execution_count": null,
   "id": "9d0aad93-2ef0-45bb-a3fa-0c786fb280c7",
   "metadata": {},
   "outputs": [],
   "source": []
  },
  {
   "cell_type": "code",
   "execution_count": 37,
   "id": "f3ef94e3-116f-4b7a-9e6b-4cad40aa95e0",
   "metadata": {},
   "outputs": [
    {
     "data": {
      "text/plain": [
       "'C:\\\\Users\\\\taohe\\\\OneDrive - ISANS\\\\the-Personal\\\\20240509data\\\\4-Python\\\\test_folder2\\\\csv_test2_changed.csv'"
      ]
     },
     "execution_count": 37,
     "metadata": {},
     "output_type": "execute_result"
    }
   ],
   "source": [
    "shutil.copy(path,r'C:\\Users\\taohe\\OneDrive - ISANS\\the-Personal\\20240509data\\4-Python\\test_folder2\\csv_test2_changed.csv')"
   ]
  },
  {
   "cell_type": "markdown",
   "id": "2b37144c-dadf-4dc6-a63a-3e2e8c13f7e4",
   "metadata": {},
   "source": [
    "### <span style = ' color : magenta '> Open Files with Pandas </span>"
   ]
  },
  {
   "cell_type": "code",
   "execution_count": 40,
   "id": "adf0caa9-c607-4499-b886-3add9ac0c2dc",
   "metadata": {},
   "outputs": [
    {
     "data": {
      "text/html": [
       "<div>\n",
       "<style scoped>\n",
       "    .dataframe tbody tr th:only-of-type {\n",
       "        vertical-align: middle;\n",
       "    }\n",
       "\n",
       "    .dataframe tbody tr th {\n",
       "        vertical-align: top;\n",
       "    }\n",
       "\n",
       "    .dataframe thead th {\n",
       "        text-align: right;\n",
       "    }\n",
       "</style>\n",
       "<table border=\"1\" class=\"dataframe\">\n",
       "  <thead>\n",
       "    <tr style=\"text-align: right;\">\n",
       "      <th></th>\n",
       "      <th>Country</th>\n",
       "      <th>Region</th>\n",
       "    </tr>\n",
       "  </thead>\n",
       "  <tbody>\n",
       "    <tr>\n",
       "      <th>0</th>\n",
       "      <td>Afghanistan</td>\n",
       "      <td>ASIA (EX. NEAR EAST)</td>\n",
       "    </tr>\n",
       "    <tr>\n",
       "      <th>1</th>\n",
       "      <td>Albania</td>\n",
       "      <td>EASTERN EUROPE</td>\n",
       "    </tr>\n",
       "    <tr>\n",
       "      <th>2</th>\n",
       "      <td>Algeria</td>\n",
       "      <td>NORTHERN AFRICA</td>\n",
       "    </tr>\n",
       "    <tr>\n",
       "      <th>3</th>\n",
       "      <td>American Samoa</td>\n",
       "      <td>OCEANIA</td>\n",
       "    </tr>\n",
       "    <tr>\n",
       "      <th>4</th>\n",
       "      <td>Andorra</td>\n",
       "      <td>WESTERN EUROPE</td>\n",
       "    </tr>\n",
       "    <tr>\n",
       "      <th>...</th>\n",
       "      <td>...</td>\n",
       "      <td>...</td>\n",
       "    </tr>\n",
       "    <tr>\n",
       "      <th>222</th>\n",
       "      <td>West Bank</td>\n",
       "      <td>NEAR EAST</td>\n",
       "    </tr>\n",
       "    <tr>\n",
       "      <th>223</th>\n",
       "      <td>Western Sahara</td>\n",
       "      <td>NORTHERN AFRICA</td>\n",
       "    </tr>\n",
       "    <tr>\n",
       "      <th>224</th>\n",
       "      <td>Yemen</td>\n",
       "      <td>NEAR EAST</td>\n",
       "    </tr>\n",
       "    <tr>\n",
       "      <th>225</th>\n",
       "      <td>Zambia</td>\n",
       "      <td>SUB-SAHARAN AFRICA</td>\n",
       "    </tr>\n",
       "    <tr>\n",
       "      <th>226</th>\n",
       "      <td>Zimbabwe</td>\n",
       "      <td>SUB-SAHARAN AFRICA</td>\n",
       "    </tr>\n",
       "  </tbody>\n",
       "</table>\n",
       "<p>227 rows × 2 columns</p>\n",
       "</div>"
      ],
      "text/plain": [
       "             Country                               Region\n",
       "0       Afghanistan         ASIA (EX. NEAR EAST)         \n",
       "1           Albania   EASTERN EUROPE                     \n",
       "2           Algeria   NORTHERN AFRICA                    \n",
       "3    American Samoa   OCEANIA                            \n",
       "4           Andorra   WESTERN EUROPE                     \n",
       "..               ...                                  ...\n",
       "222       West Bank   NEAR EAST                          \n",
       "223  Western Sahara   NORTHERN AFRICA                    \n",
       "224           Yemen   NEAR EAST                          \n",
       "225          Zambia   SUB-SAHARAN AFRICA                 \n",
       "226        Zimbabwe   SUB-SAHARAN AFRICA                 \n",
       "\n",
       "[227 rows x 2 columns]"
      ]
     },
     "execution_count": 40,
     "metadata": {},
     "output_type": "execute_result"
    }
   ],
   "source": [
    "import pandas as pd\n",
    "df = pd.read_csv(r'C:\\Users\\taohe\\OneDrive - ISANS\\the-Personal\\20240509data\\4-Python\\countries of the world.csv')\n",
    "df"
   ]
  },
  {
   "cell_type": "code",
   "execution_count": 42,
   "id": "c8578608-8490-43dd-8e9c-0f2323bd5577",
   "metadata": {},
   "outputs": [
    {
     "data": {
      "text/html": [
       "<div>\n",
       "<style scoped>\n",
       "    .dataframe tbody tr th:only-of-type {\n",
       "        vertical-align: middle;\n",
       "    }\n",
       "\n",
       "    .dataframe tbody tr th {\n",
       "        vertical-align: top;\n",
       "    }\n",
       "\n",
       "    .dataframe thead th {\n",
       "        text-align: right;\n",
       "    }\n",
       "</style>\n",
       "<table border=\"1\" class=\"dataframe\">\n",
       "  <thead>\n",
       "    <tr style=\"text-align: right;\">\n",
       "      <th></th>\n",
       "      <th>Country</th>\n",
       "      <th>Region</th>\n",
       "    </tr>\n",
       "  </thead>\n",
       "  <tbody>\n",
       "    <tr>\n",
       "      <th>0</th>\n",
       "      <td>Afghanistan</td>\n",
       "      <td>ASIA (EX. NEAR EAST)</td>\n",
       "    </tr>\n",
       "    <tr>\n",
       "      <th>1</th>\n",
       "      <td>Albania</td>\n",
       "      <td>EASTERN EUROPE</td>\n",
       "    </tr>\n",
       "    <tr>\n",
       "      <th>2</th>\n",
       "      <td>Algeria</td>\n",
       "      <td>NORTHERN AFRICA</td>\n",
       "    </tr>\n",
       "    <tr>\n",
       "      <th>3</th>\n",
       "      <td>American Samoa</td>\n",
       "      <td>OCEANIA</td>\n",
       "    </tr>\n",
       "    <tr>\n",
       "      <th>4</th>\n",
       "      <td>Andorra</td>\n",
       "      <td>WESTERN EUROPE</td>\n",
       "    </tr>\n",
       "    <tr>\n",
       "      <th>...</th>\n",
       "      <td>...</td>\n",
       "      <td>...</td>\n",
       "    </tr>\n",
       "    <tr>\n",
       "      <th>222</th>\n",
       "      <td>West Bank</td>\n",
       "      <td>NEAR EAST</td>\n",
       "    </tr>\n",
       "    <tr>\n",
       "      <th>223</th>\n",
       "      <td>Western Sahara</td>\n",
       "      <td>NORTHERN AFRICA</td>\n",
       "    </tr>\n",
       "    <tr>\n",
       "      <th>224</th>\n",
       "      <td>Yemen</td>\n",
       "      <td>NEAR EAST</td>\n",
       "    </tr>\n",
       "    <tr>\n",
       "      <th>225</th>\n",
       "      <td>Zambia</td>\n",
       "      <td>SUB-SAHARAN AFRICA</td>\n",
       "    </tr>\n",
       "    <tr>\n",
       "      <th>226</th>\n",
       "      <td>Zimbabwe</td>\n",
       "      <td>SUB-SAHARAN AFRICA</td>\n",
       "    </tr>\n",
       "  </tbody>\n",
       "</table>\n",
       "<p>227 rows × 2 columns</p>\n",
       "</div>"
      ],
      "text/plain": [
       "             Country                               Region\n",
       "0       Afghanistan         ASIA (EX. NEAR EAST)         \n",
       "1           Albania   EASTERN EUROPE                     \n",
       "2           Algeria   NORTHERN AFRICA                    \n",
       "3    American Samoa   OCEANIA                            \n",
       "4           Andorra   WESTERN EUROPE                     \n",
       "..               ...                                  ...\n",
       "222       West Bank   NEAR EAST                          \n",
       "223  Western Sahara   NORTHERN AFRICA                    \n",
       "224           Yemen   NEAR EAST                          \n",
       "225          Zambia   SUB-SAHARAN AFRICA                 \n",
       "226        Zimbabwe   SUB-SAHARAN AFRICA                 \n",
       "\n",
       "[227 rows x 2 columns]"
      ]
     },
     "execution_count": 42,
     "metadata": {},
     "output_type": "execute_result"
    }
   ],
   "source": [
    "# pd.set_option('display.max.rows', 230)\n",
    "\n",
    "pd.reset_option('display.max_rows')\n",
    "\n",
    "df"
   ]
  },
  {
   "cell_type": "code",
   "execution_count": 43,
   "id": "a2847bc2-6621-48d0-9b49-8a18452facfe",
   "metadata": {},
   "outputs": [
    {
     "data": {
      "text/html": [
       "<div>\n",
       "<style scoped>\n",
       "    .dataframe tbody tr th:only-of-type {\n",
       "        vertical-align: middle;\n",
       "    }\n",
       "\n",
       "    .dataframe tbody tr th {\n",
       "        vertical-align: top;\n",
       "    }\n",
       "\n",
       "    .dataframe thead th {\n",
       "        text-align: right;\n",
       "    }\n",
       "</style>\n",
       "<table border=\"1\" class=\"dataframe\">\n",
       "  <thead>\n",
       "    <tr style=\"text-align: right;\">\n",
       "      <th></th>\n",
       "      <th>12 Strong</th>\n",
       "      <th>A Fantastic Woman (Una Mujer Fantástica)</th>\n",
       "      <th>All The Money In The World</th>\n",
       "      <th>Bilal: A New Breed Of Hero</th>\n",
       "      <th>Call Me By Your Name</th>\n",
       "      <th>Darkest Hour</th>\n",
       "      <th>Den Of Thieves</th>\n",
       "      <th>Ferdinand</th>\n",
       "      <th>Fifty Shades Freed</th>\n",
       "      <th>Film Stars Don'T Die In Liverpool</th>\n",
       "      <th>...</th>\n",
       "      <th>The 15:17 To Paris</th>\n",
       "      <th>The Commuter</th>\n",
       "      <th>The Disaster Artist</th>\n",
       "      <th>The Greatest Showman</th>\n",
       "      <th>The Insult (L'Insulte)</th>\n",
       "      <th>The Post</th>\n",
       "      <th>The Shape Of Water</th>\n",
       "      <th>Three Billboards Outside Ebbing, Missouri</th>\n",
       "      <th>Till The End Of The World</th>\n",
       "      <th>Winchester</th>\n",
       "    </tr>\n",
       "  </thead>\n",
       "  <tbody>\n",
       "    <tr>\n",
       "      <th>0</th>\n",
       "      <td>{'Genre': 'Action', 'Gross': '$453,173', 'IMDB...</td>\n",
       "      <td>{'popcornscore': 83, 'rating': 'R', 'tomatosco...</td>\n",
       "      <td>{'popcornscore': 71, 'rating': 'R', 'tomatosco...</td>\n",
       "      <td>{'popcornscore': 91, 'rating': 'PG13', 'tomato...</td>\n",
       "      <td>{'popcornscore': 87, 'rating': 'R', 'tomatosco...</td>\n",
       "      <td>{'popcornscore': 84, 'rating': 'PG13', 'tomato...</td>\n",
       "      <td>{'Genre': 'Action', 'Gross': '$491,898', 'IMDB...</td>\n",
       "      <td>{'popcornscore': 49, 'rating': 'PG', 'tomatosc...</td>\n",
       "      <td>{'Genre': 'Drama', 'Gross': 'unknown', 'IMDB M...</td>\n",
       "      <td>{'popcornscore': 69, 'rating': 'R', 'tomatosco...</td>\n",
       "      <td>...</td>\n",
       "      <td>{'Genre': 'Drama', 'Gross': 'unknown', 'IMDB M...</td>\n",
       "      <td>{'popcornscore': 48, 'rating': 'PG13', 'tomato...</td>\n",
       "      <td>{'popcornscore': 89, 'rating': 'R', 'tomatosco...</td>\n",
       "      <td>{'Genre': 'Biography', 'Gross': '$627,248', 'I...</td>\n",
       "      <td>{'popcornscore': 86, 'rating': 'R', 'tomatosco...</td>\n",
       "      <td>{'Genre': 'Biography', 'Gross': '$463,228', 'I...</td>\n",
       "      <td>{'Genre': 'Adventure', 'Gross': '$448,287', 'I...</td>\n",
       "      <td>{'popcornscore': 87, 'rating': 'R', 'tomatosco...</td>\n",
       "      <td>{'popcornscore': -1, 'rating': 'NR', 'tomatosc...</td>\n",
       "      <td>{'Genre': 'Biography', 'Gross': '$696,786', 'I...</td>\n",
       "    </tr>\n",
       "  </tbody>\n",
       "</table>\n",
       "<p>1 rows × 38 columns</p>\n",
       "</div>"
      ],
      "text/plain": [
       "                                           12 Strong  \\\n",
       "0  {'Genre': 'Action', 'Gross': '$453,173', 'IMDB...   \n",
       "\n",
       "            A Fantastic Woman (Una Mujer Fantástica)  \\\n",
       "0  {'popcornscore': 83, 'rating': 'R', 'tomatosco...   \n",
       "\n",
       "                          All The Money In The World  \\\n",
       "0  {'popcornscore': 71, 'rating': 'R', 'tomatosco...   \n",
       "\n",
       "                          Bilal: A New Breed Of Hero  \\\n",
       "0  {'popcornscore': 91, 'rating': 'PG13', 'tomato...   \n",
       "\n",
       "                                Call Me By Your Name  \\\n",
       "0  {'popcornscore': 87, 'rating': 'R', 'tomatosco...   \n",
       "\n",
       "                                        Darkest Hour  \\\n",
       "0  {'popcornscore': 84, 'rating': 'PG13', 'tomato...   \n",
       "\n",
       "                                      Den Of Thieves  \\\n",
       "0  {'Genre': 'Action', 'Gross': '$491,898', 'IMDB...   \n",
       "\n",
       "                                           Ferdinand  \\\n",
       "0  {'popcornscore': 49, 'rating': 'PG', 'tomatosc...   \n",
       "\n",
       "                                  Fifty Shades Freed  \\\n",
       "0  {'Genre': 'Drama', 'Gross': 'unknown', 'IMDB M...   \n",
       "\n",
       "                   Film Stars Don'T Die In Liverpool  ...  \\\n",
       "0  {'popcornscore': 69, 'rating': 'R', 'tomatosco...  ...   \n",
       "\n",
       "                                  The 15:17 To Paris  \\\n",
       "0  {'Genre': 'Drama', 'Gross': 'unknown', 'IMDB M...   \n",
       "\n",
       "                                        The Commuter  \\\n",
       "0  {'popcornscore': 48, 'rating': 'PG13', 'tomato...   \n",
       "\n",
       "                                 The Disaster Artist  \\\n",
       "0  {'popcornscore': 89, 'rating': 'R', 'tomatosco...   \n",
       "\n",
       "                                The Greatest Showman  \\\n",
       "0  {'Genre': 'Biography', 'Gross': '$627,248', 'I...   \n",
       "\n",
       "                              The Insult (L'Insulte)  \\\n",
       "0  {'popcornscore': 86, 'rating': 'R', 'tomatosco...   \n",
       "\n",
       "                                            The Post  \\\n",
       "0  {'Genre': 'Biography', 'Gross': '$463,228', 'I...   \n",
       "\n",
       "                                  The Shape Of Water  \\\n",
       "0  {'Genre': 'Adventure', 'Gross': '$448,287', 'I...   \n",
       "\n",
       "           Three Billboards Outside Ebbing, Missouri  \\\n",
       "0  {'popcornscore': 87, 'rating': 'R', 'tomatosco...   \n",
       "\n",
       "                           Till The End Of The World  \\\n",
       "0  {'popcornscore': -1, 'rating': 'NR', 'tomatosc...   \n",
       "\n",
       "                                          Winchester  \n",
       "0  {'Genre': 'Biography', 'Gross': '$696,786', 'I...  \n",
       "\n",
       "[1 rows x 38 columns]"
      ]
     },
     "execution_count": 43,
     "metadata": {},
     "output_type": "execute_result"
    }
   ],
   "source": [
    "df2 = pd.read_json(r'C:\\Users\\taohe\\OneDrive - ISANS\\the-Personal\\20240509data\\4-Python\\json_sample.json')\n",
    "df2"
   ]
  },
  {
   "cell_type": "code",
   "execution_count": 46,
   "id": "120b5197-0130-47ae-a47e-d440411f7d8d",
   "metadata": {},
   "outputs": [
    {
     "data": {
      "text/html": [
       "<div>\n",
       "<style scoped>\n",
       "    .dataframe tbody tr th:only-of-type {\n",
       "        vertical-align: middle;\n",
       "    }\n",
       "\n",
       "    .dataframe tbody tr th {\n",
       "        vertical-align: top;\n",
       "    }\n",
       "\n",
       "    .dataframe thead th {\n",
       "        text-align: right;\n",
       "    }\n",
       "</style>\n",
       "<table border=\"1\" class=\"dataframe\">\n",
       "  <thead>\n",
       "    <tr style=\"text-align: right;\">\n",
       "      <th></th>\n",
       "      <th>Rank</th>\n",
       "      <th>CCA3</th>\n",
       "      <th>Country</th>\n",
       "      <th>Capital</th>\n",
       "    </tr>\n",
       "  </thead>\n",
       "  <tbody>\n",
       "    <tr>\n",
       "      <th>0</th>\n",
       "      <td>36</td>\n",
       "      <td>AFG</td>\n",
       "      <td>Afghanistan</td>\n",
       "      <td>Kabul</td>\n",
       "    </tr>\n",
       "    <tr>\n",
       "      <th>1</th>\n",
       "      <td>138</td>\n",
       "      <td>ALB</td>\n",
       "      <td>Albania</td>\n",
       "      <td>Tirana</td>\n",
       "    </tr>\n",
       "    <tr>\n",
       "      <th>2</th>\n",
       "      <td>34</td>\n",
       "      <td>DZA</td>\n",
       "      <td>Algeria</td>\n",
       "      <td>Algiers</td>\n",
       "    </tr>\n",
       "    <tr>\n",
       "      <th>3</th>\n",
       "      <td>213</td>\n",
       "      <td>ASM</td>\n",
       "      <td>American Samoa</td>\n",
       "      <td>Pago Pago</td>\n",
       "    </tr>\n",
       "    <tr>\n",
       "      <th>4</th>\n",
       "      <td>203</td>\n",
       "      <td>AND</td>\n",
       "      <td>Andorra</td>\n",
       "      <td>Andorra la Vella</td>\n",
       "    </tr>\n",
       "    <tr>\n",
       "      <th>...</th>\n",
       "      <td>...</td>\n",
       "      <td>...</td>\n",
       "      <td>...</td>\n",
       "      <td>...</td>\n",
       "    </tr>\n",
       "    <tr>\n",
       "      <th>229</th>\n",
       "      <td>226</td>\n",
       "      <td>WLF</td>\n",
       "      <td>Wallis and Futuna</td>\n",
       "      <td>Mata-Utu</td>\n",
       "    </tr>\n",
       "    <tr>\n",
       "      <th>230</th>\n",
       "      <td>172</td>\n",
       "      <td>ESH</td>\n",
       "      <td>Western Sahara</td>\n",
       "      <td>El AaiÃºn</td>\n",
       "    </tr>\n",
       "    <tr>\n",
       "      <th>231</th>\n",
       "      <td>46</td>\n",
       "      <td>YEM</td>\n",
       "      <td>Yemen</td>\n",
       "      <td>Sanaa</td>\n",
       "    </tr>\n",
       "    <tr>\n",
       "      <th>232</th>\n",
       "      <td>63</td>\n",
       "      <td>ZMB</td>\n",
       "      <td>Zambia</td>\n",
       "      <td>Lusaka</td>\n",
       "    </tr>\n",
       "    <tr>\n",
       "      <th>233</th>\n",
       "      <td>74</td>\n",
       "      <td>ZWE</td>\n",
       "      <td>Zimbabwe</td>\n",
       "      <td>Harare</td>\n",
       "    </tr>\n",
       "  </tbody>\n",
       "</table>\n",
       "<p>234 rows × 4 columns</p>\n",
       "</div>"
      ],
      "text/plain": [
       "     Rank CCA3            Country           Capital\n",
       "0      36  AFG        Afghanistan             Kabul\n",
       "1     138  ALB            Albania            Tirana\n",
       "2      34  DZA            Algeria           Algiers\n",
       "3     213  ASM     American Samoa         Pago Pago\n",
       "4     203  AND            Andorra  Andorra la Vella\n",
       "..    ...  ...                ...               ...\n",
       "229   226  WLF  Wallis and Futuna          Mata-Utu\n",
       "230   172  ESH     Western Sahara         El AaiÃºn\n",
       "231    46  YEM              Yemen             Sanaa\n",
       "232    63  ZMB             Zambia            Lusaka\n",
       "233    74  ZWE           Zimbabwe            Harare\n",
       "\n",
       "[234 rows x 4 columns]"
      ]
     },
     "execution_count": 46,
     "metadata": {},
     "output_type": "execute_result"
    }
   ],
   "source": [
    "df3 = pd.read_excel(r'C:\\Users\\taohe\\OneDrive - ISANS\\the-Personal\\20240509data\\4-Python\\world_population_excel_workbook.xlsx',sheet_name = 'Sheet1')\n",
    "df3"
   ]
  },
  {
   "cell_type": "markdown",
   "id": "1bef12e2-8ff6-4430-89d8-d09c64840bf6",
   "metadata": {},
   "source": [
    "### <span style = ' color : magenta '> Manipulating Data in a DataFrame </span>"
   ]
  },
  {
   "cell_type": "code",
   "execution_count": null,
   "id": "cc8fd398-ce43-47c9-a40b-9b295843f3ad",
   "metadata": {},
   "outputs": [],
   "source": []
  },
  {
   "cell_type": "code",
   "execution_count": null,
   "id": "f2d3b96d-856e-49f5-9fd8-7e1dcd51efc1",
   "metadata": {},
   "outputs": [],
   "source": []
  },
  {
   "cell_type": "code",
   "execution_count": null,
   "id": "dd6ff061-7236-4990-b285-065fd8f6b844",
   "metadata": {},
   "outputs": [],
   "source": []
  },
  {
   "cell_type": "code",
   "execution_count": null,
   "id": "9fcb77d8-9cc8-467a-aed1-5ae5d3289b38",
   "metadata": {},
   "outputs": [],
   "source": []
  },
  {
   "cell_type": "code",
   "execution_count": null,
   "id": "c35444a9-adc2-4f13-8f23-84a7f9a66ecb",
   "metadata": {},
   "outputs": [],
   "source": []
  },
  {
   "cell_type": "code",
   "execution_count": null,
   "id": "325b8876-55ab-49d8-b7ee-84e812c21e6c",
   "metadata": {},
   "outputs": [],
   "source": []
  },
  {
   "cell_type": "code",
   "execution_count": null,
   "id": "d073a8ec-a05f-4c19-b520-568adda35958",
   "metadata": {},
   "outputs": [],
   "source": []
  },
  {
   "cell_type": "code",
   "execution_count": null,
   "id": "644d979e-8af2-4fac-88ae-58a7b50a578f",
   "metadata": {},
   "outputs": [],
   "source": []
  },
  {
   "cell_type": "code",
   "execution_count": null,
   "id": "3baba5f0-ae01-4fdb-8ddc-f44d016a0730",
   "metadata": {},
   "outputs": [],
   "source": []
  },
  {
   "cell_type": "code",
   "execution_count": null,
   "id": "388edc65-a712-4300-9d6f-ea8d8c6908d7",
   "metadata": {},
   "outputs": [],
   "source": []
  },
  {
   "cell_type": "code",
   "execution_count": null,
   "id": "ea83c66a-98b7-42ee-9c44-b84646af0a2b",
   "metadata": {},
   "outputs": [],
   "source": []
  },
  {
   "cell_type": "code",
   "execution_count": null,
   "id": "270629cf-27eb-479f-bf5f-cab0b01c61f9",
   "metadata": {},
   "outputs": [],
   "source": []
  },
  {
   "cell_type": "code",
   "execution_count": null,
   "id": "dd04e101-0e2c-44a1-9503-fc69e9da2a6d",
   "metadata": {},
   "outputs": [],
   "source": []
  },
  {
   "cell_type": "markdown",
   "id": "18eb507e-c29e-4c42-8eb3-834442515541",
   "metadata": {},
   "source": [
    "### <span style = ' color : magenta '> Exporting Data using Pandas </span>"
   ]
  },
  {
   "cell_type": "code",
   "execution_count": null,
   "id": "0a6e7970-85da-4e44-9a81-5a5311683bdb",
   "metadata": {},
   "outputs": [],
   "source": []
  }
 ],
 "metadata": {
  "kernelspec": {
   "display_name": "Python 3 (ipykernel)",
   "language": "python",
   "name": "python3"
  },
  "language_info": {
   "codemirror_mode": {
    "name": "ipython",
    "version": 3
   },
   "file_extension": ".py",
   "mimetype": "text/x-python",
   "name": "python",
   "nbconvert_exporter": "python",
   "pygments_lexer": "ipython3",
   "version": "3.12.4"
  }
 },
 "nbformat": 4,
 "nbformat_minor": 5
}
