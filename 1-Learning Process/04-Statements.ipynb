{
 "cells": [
  {
   "cell_type": "markdown",
   "id": "cf704ba7-4776-40f2-8f6e-af38bb7d7d82",
   "metadata": {},
   "source": [
    "### <span style = 'color:magenta'> 01-If Else Statements </span>"
   ]
  },
  {
   "cell_type": "code",
   "execution_count": null,
   "id": "854c501a-6f6d-4dc7-8d0a-12677418efa6",
   "metadata": {},
   "outputs": [],
   "source": [
    "# if: elif: else:"
   ]
  },
  {
   "cell_type": "code",
   "execution_count": 2,
   "id": "404c5dc4-c215-4a57-95d1-616fae2e0953",
   "metadata": {},
   "outputs": [
    {
     "ename": "IndentationError",
     "evalue": "expected an indented block after 'if' statement on line 1 (1983220442.py, line 2)",
     "output_type": "error",
     "traceback": [
      "\u001b[1;36m  Cell \u001b[1;32mIn[2], line 2\u001b[1;36m\u001b[0m\n\u001b[1;33m    print('It worked!')\u001b[0m\n\u001b[1;37m    ^\u001b[0m\n\u001b[1;31mIndentationError\u001b[0m\u001b[1;31m:\u001b[0m expected an indented block after 'if' statement on line 1\n"
     ]
    }
   ],
   "source": [
    "if 100 > 10:\n",
    "print('It worked!')"
   ]
  },
  {
   "cell_type": "code",
   "execution_count": 3,
   "id": "bcc50f03-fac6-43df-8fe0-9f89d4865b6d",
   "metadata": {},
   "outputs": [
    {
     "name": "stdout",
     "output_type": "stream",
     "text": [
      "It worked!\n"
     ]
    }
   ],
   "source": [
    "if 100 > 10:\n",
    "    print('It worked!')"
   ]
  },
  {
   "cell_type": "code",
   "execution_count": 9,
   "id": "df9a7579-76e1-43d0-a383-73a7cff84729",
   "metadata": {},
   "outputs": [],
   "source": [
    "small_sale = []\n",
    "medium_sale = []\n",
    "large_sale = []"
   ]
  },
  {
   "cell_type": "code",
   "execution_count": 18,
   "id": "63c20061-037c-416b-b1f6-319c8d3cae96",
   "metadata": {},
   "outputs": [
    {
     "name": "stdout",
     "output_type": "stream",
     "text": [
      "Samll Sale: [5, 5]\n",
      "Medium Sale: [12, 40]\n",
      "Large Sale: [150, 200]\n"
     ]
    }
   ],
   "source": [
    "sale = 200\n",
    "if sale < 10:\n",
    "    small_sale.append(sale)\n",
    "elif sale <50:\n",
    "    medium_sale.append(sale)\n",
    "else:\n",
    "    large_sale.append(sale)\n",
    "    \n",
    "print('Samll Sale:', small_sale)\n",
    "print('Medium Sale:', medium_sale)\n",
    "print('Large Sale:', large_sale)"
   ]
  },
  {
   "cell_type": "markdown",
   "id": "0953344d-2d7a-474c-9901-fcd1fd905f54",
   "metadata": {},
   "source": [
    "### <span style = 'color:magenta'> 02-For Loops </span>"
   ]
  },
  {
   "cell_type": "code",
   "execution_count": 21,
   "id": "9ec38e89-2297-4ea2-a6fe-7caa2bc98d2d",
   "metadata": {},
   "outputs": [],
   "source": [
    "integers = [1,2,3,4,5]"
   ]
  },
  {
   "cell_type": "code",
   "execution_count": 24,
   "id": "08c35e1a-3b95-4d08-8752-aec7cd86994b",
   "metadata": {},
   "outputs": [
    {
     "name": "stdout",
     "output_type": "stream",
     "text": [
      "1 person\n",
      "2 person\n",
      "3 person\n",
      "4 person\n",
      "5 person\n",
      "Last Number: 5\n"
     ]
    }
   ],
   "source": [
    "for my_number in integers:\n",
    "    print(my_number,'person')\n",
    "print('Last Number:', my_number)"
   ]
  },
  {
   "cell_type": "code",
   "execution_count": 30,
   "id": "b4e81753-71e7-485d-967a-e8fb23a89f0f",
   "metadata": {},
   "outputs": [],
   "source": [
    "sale_amount = [1,55,90,3,5,300,125,5,25,30]\n",
    "\n",
    "s_sale=[]\n",
    "m_sale=[]\n",
    "l_sale=[]"
   ]
  },
  {
   "cell_type": "code",
   "execution_count": 31,
   "id": "4bc9c8c6-3729-4431-9447-71a9ed2d1bc2",
   "metadata": {},
   "outputs": [
    {
     "name": "stdout",
     "output_type": "stream",
     "text": [
      "Samll Sale: [1, 3, 5, 5]\n",
      "Medium Sale: [25, 30]\n",
      "Large Sale: [55, 90, 300, 125]\n"
     ]
    }
   ],
   "source": [
    "for sales in sale_amount:\n",
    "    if sales < 10:\n",
    "        s_sale.append(sales)\n",
    "    elif sales <50:\n",
    "        m_sale.append(sales)\n",
    "    else:\n",
    "        l_sale.append(sales)\n",
    "    \n",
    "print('Samll Sale:', s_sale)\n",
    "print('Medium Sale:', m_sale)\n",
    "print('Large Sale:', l_sale)"
   ]
  },
  {
   "cell_type": "code",
   "execution_count": 33,
   "id": "828907b1-8e88-4ca2-ad9e-380825fd4fe8",
   "metadata": {},
   "outputs": [
    {
     "name": "stdout",
     "output_type": "stream",
     "text": [
      "1 Mint\n",
      "2 Rocky\n",
      "3 Pinapple\n"
     ]
    }
   ],
   "source": [
    "flavour_ice_cream = ['Mint','Rocky','Pinapple']\n",
    "i=1\n",
    "for my_flavour in flavour_ice_cream:\n",
    "    print(i, my_flavour)\n",
    "    i +=1"
   ]
  },
  {
   "cell_type": "code",
   "execution_count": 34,
   "id": "7a02e873-1894-4dda-ad2b-5b563ea56cc5",
   "metadata": {},
   "outputs": [
    {
     "name": "stdout",
     "output_type": "stream",
     "text": [
      "0 Mint\n",
      "1 Rocky\n",
      "2 Pinapple\n"
     ]
    }
   ],
   "source": [
    "for counter_1, flavour_1 in enumerate(flavour_ice_cream):\n",
    "    print(counter_1, flavour_1)"
   ]
  },
  {
   "cell_type": "code",
   "execution_count": 36,
   "id": "d1341354-083f-4d84-9ec8-7fc1cde1fbae",
   "metadata": {},
   "outputs": [
    {
     "name": "stdout",
     "output_type": "stream",
     "text": [
      "Name\n",
      "Amount Spent\n",
      "Item Purchased\n"
     ]
    }
   ],
   "source": [
    "customer_dict = {'Name':'Alex Smith','Amount Spent':77,'Item Purchased':['Shovel','Dirt','Pot']}\n",
    "for a in customer_dict:\n",
    "    print(a)"
   ]
  },
  {
   "cell_type": "code",
   "execution_count": 46,
   "id": "20f09bfd-ea58-4f7f-b238-8dd61efeb999",
   "metadata": {},
   "outputs": [
    {
     "name": "stdout",
     "output_type": "stream",
     "text": [
      "Name\n",
      "Amount Spent\n",
      "Item Purchased\n"
     ]
    }
   ],
   "source": [
    "for b in customer_dict.keys():\n",
    "    print(b)"
   ]
  },
  {
   "cell_type": "code",
   "execution_count": 47,
   "id": "94f73424-504b-494f-ac00-feb89dd99694",
   "metadata": {},
   "outputs": [
    {
     "name": "stdout",
     "output_type": "stream",
     "text": [
      "Alex Smith\n",
      "77\n",
      "['Shovel', 'Dirt', 'Pot']\n"
     ]
    }
   ],
   "source": [
    "for c in customer_dict.values():\n",
    "    print(c)"
   ]
  },
  {
   "cell_type": "code",
   "execution_count": 48,
   "id": "a1a799a5-0400-4289-bc1d-abcf9b69cde0",
   "metadata": {},
   "outputs": [
    {
     "name": "stdout",
     "output_type": "stream",
     "text": [
      "('Name', 'Alex Smith')\n",
      "('Amount Spent', 77)\n",
      "('Item Purchased', ['Shovel', 'Dirt', 'Pot'])\n"
     ]
    }
   ],
   "source": [
    "for d in customer_dict.items():\n",
    "    print(d)"
   ]
  },
  {
   "cell_type": "code",
   "execution_count": 51,
   "id": "0334e626-28a3-41e2-9532-32b77d13c108",
   "metadata": {},
   "outputs": [
    {
     "name": "stdout",
     "output_type": "stream",
     "text": [
      "Name :  Alex Smith\n",
      "Amount Spent :  77\n",
      "Item Purchased :  ['Shovel', 'Dirt', 'Pot']\n"
     ]
    }
   ],
   "source": [
    "for key_1, value_1 in customer_dict.items():\n",
    "    print(key_1, ': ',value_1)"
   ]
  },
  {
   "cell_type": "code",
   "execution_count": 52,
   "id": "e3fd1864-ce48-4423-8db4-6c60eb66a8a6",
   "metadata": {},
   "outputs": [
    {
     "name": "stdout",
     "output_type": "stream",
     "text": [
      "[3, 6, 9, 12, 15, 18, 21, 24, 27, 30, 33, 36, 39, 42, 45, 48, 51, 54, 57, 60, 63, 66, 69, 72, 75, 78, 81, 84, 87, 90, 93, 96, 99]\n"
     ]
    }
   ],
   "source": [
    "div_by_three = []\n",
    "for num in range(100):\n",
    "    if num % 3 == 0 and num > 0:\n",
    "        div_by_three.append(num)\n",
    "print(div_by_three)"
   ]
  },
  {
   "cell_type": "code",
   "execution_count": 53,
   "id": "365b02ac-d0eb-465a-b796-14bbcd8c31d0",
   "metadata": {},
   "outputs": [
    {
     "name": "stdout",
     "output_type": "stream",
     "text": [
      "Vanilla topped with Hot Fudge\n",
      "Vanilla topped with Oreos\n",
      "Vanilla topped with Marshmallows\n",
      "Chocolate topped with Hot Fudge\n",
      "Chocolate topped with Oreos\n",
      "Chocolate topped with Marshmallows\n",
      "Cookie Dough topped with Hot Fudge\n",
      "Cookie Dough topped with Oreos\n",
      "Cookie Dough topped with Marshmallows\n"
     ]
    }
   ],
   "source": [
    "flavour_list = ['Vanilla','Chocolate','Cookie Dough']\n",
    "topping_list = ['Hot Fudge','Oreos','Marshmallows']\n",
    "for flavour_choice in flavour_list:\n",
    "    for topping_choice in topping_list:\n",
    "        print(flavour_choice, 'topped with', topping_choice)"
   ]
  },
  {
   "cell_type": "markdown",
   "id": "f4ee53a0-aa2d-443f-9aa4-11de7a86a028",
   "metadata": {},
   "source": [
    "### <span style = 'color:magenta'> 03- While Loops </span>"
   ]
  },
  {
   "cell_type": "code",
   "execution_count": 56,
   "id": "4369e68a-18dd-48b3-b05a-5ad2db7e5efc",
   "metadata": {},
   "outputs": [
    {
     "name": "stdout",
     "output_type": "stream",
     "text": [
      "John\n",
      "Alex\n",
      "Andy\n"
     ]
    }
   ],
   "source": [
    "my_list = ['John','Alex','Andy','Tom']\n",
    "i = 0\n",
    "while my_list[i] != 'Tom':\n",
    "    print(my_list[i])\n",
    "    i += 1"
   ]
  },
  {
   "cell_type": "code",
   "execution_count": null,
   "id": "0c4f0fb8-c36c-456f-9b75-be75b2671f79",
   "metadata": {},
   "outputs": [],
   "source": [
    "# Break vs Continue, both can be used in For Loops and While Loops"
   ]
  },
  {
   "cell_type": "code",
   "execution_count": 76,
   "id": "c56ea867-d07a-4672-a340-6bf3817972bc",
   "metadata": {},
   "outputs": [
    {
     "name": "stdout",
     "output_type": "stream",
     "text": [
      "1\n",
      "2\n",
      "3\n"
     ]
    }
   ],
   "source": [
    "i = 0\n",
    "while i <= 7:\n",
    "    i += 1\n",
    "    if i == 4:\n",
    "        break\n",
    "    print(i)\n",
    "\n",
    "else:\n",
    "    print('End')"
   ]
  },
  {
   "cell_type": "code",
   "execution_count": 75,
   "id": "bf82b5b1-c8d6-4518-92ad-2b36b5414ede",
   "metadata": {},
   "outputs": [
    {
     "name": "stdout",
     "output_type": "stream",
     "text": [
      "1\n",
      "2\n",
      "3\n",
      "5\n",
      "6\n",
      "7\n",
      "8\n",
      "End\n"
     ]
    }
   ],
   "source": [
    "j = 0\n",
    "while j <= 7:\n",
    "    j += 1\n",
    "    if j == 4:\n",
    "        continue\n",
    "    print(j)\n",
    "    # j += 1 THis will report error\n",
    "else:\n",
    "    print('End')"
   ]
  },
  {
   "cell_type": "code",
   "execution_count": 3,
   "id": "777fa6f7-7a66-4012-8a5c-763bafdeadb0",
   "metadata": {},
   "outputs": [
    {
     "name": "stdout",
     "output_type": "stream",
     "text": [
      "91\n"
     ]
    }
   ],
   "source": [
    "temp_per_day = [70,72,71,76,75,83,85,82,88,79,89,91,87,85,87,80]\n",
    "for temp_select in temp_per_day:\n",
    "    if temp_select >= 90:\n",
    "        print(temp_select)"
   ]
  },
  {
   "cell_type": "markdown",
   "id": "e329c3f8-3760-4247-b465-e2a6a34d2057",
   "metadata": {},
   "source": [
    "### <span style = 'color:magenta'> 04-List Comprehensions"
   ]
  },
  {
   "cell_type": "code",
   "execution_count": 79,
   "id": "d44328ce-110e-4c16-b993-04505d3e2a2d",
   "metadata": {},
   "outputs": [
    {
     "name": "stdout",
     "output_type": "stream",
     "text": [
      "['Chocolate', 'Chocolate Fudge', 'Choco Swirl']\n"
     ]
    }
   ],
   "source": [
    "flavor_list_1 = ['Vanilla','Chocolate','Chocolate Fudge','Strawberry','Choco Swirl']\n",
    "choco_flavor_1 = []\n",
    "for flavor_1 in flavor_list_1:\n",
    "    if 'Choco' in flavor_1:\n",
    "        choco_flavor_1.append(flavor_1)\n",
    "print(choco_flavor_1)\n"
   ]
  },
  {
   "cell_type": "code",
   "execution_count": 81,
   "id": "20c5e486-1557-4f66-a21d-353ad84b23a8",
   "metadata": {},
   "outputs": [
    {
     "name": "stdout",
     "output_type": "stream",
     "text": [
      "['Chocolate', 'Chocolate Fudge', 'Choco Swirl']\n"
     ]
    }
   ],
   "source": [
    "flavor_list_2 = ['Vanilla','Chocolate','Chocolate Fudge','Strawberry','Choco Swirl']\n",
    "choco_flavor_2 = [flavor_2 for flavor_2 in flavor_list_2 if 'Choco' in flavor_2]\n",
    "print(choco_flavor_2)"
   ]
  },
  {
   "cell_type": "code",
   "execution_count": 83,
   "id": "ba4ba349-6a76-4537-9f4a-b9554d15fa31",
   "metadata": {},
   "outputs": [
    {
     "name": "stdout",
     "output_type": "stream",
     "text": [
      "[0, 9, 36, 81]\n"
     ]
    }
   ],
   "source": [
    "new_list = [x ** 2 for x in range(10) if x % 3 == 0]\n",
    "print(new_list)"
   ]
  },
  {
   "cell_type": "code",
   "execution_count": null,
   "id": "7cc89908-ec1d-4062-8c7c-7b98e555272e",
   "metadata": {},
   "outputs": [],
   "source": []
  },
  {
   "cell_type": "code",
   "execution_count": null,
   "id": "49090099-504b-47e0-b158-68cf9ccb590d",
   "metadata": {},
   "outputs": [],
   "source": []
  },
  {
   "cell_type": "code",
   "execution_count": null,
   "id": "1a4e35d8-8cff-4817-b7b9-23c6bd4c4470",
   "metadata": {},
   "outputs": [],
   "source": []
  },
  {
   "cell_type": "code",
   "execution_count": null,
   "id": "175a4b58-d3c1-4cb6-a8f7-10e6c9f24180",
   "metadata": {},
   "outputs": [],
   "source": []
  },
  {
   "cell_type": "code",
   "execution_count": null,
   "id": "46f94e54-c68c-417b-aee2-d0993a8b85c7",
   "metadata": {},
   "outputs": [],
   "source": []
  },
  {
   "cell_type": "code",
   "execution_count": null,
   "id": "276fb48f-4a69-4e68-8a8a-f3d81dbc8a59",
   "metadata": {},
   "outputs": [],
   "source": []
  },
  {
   "cell_type": "code",
   "execution_count": null,
   "id": "602998ff-3810-4270-a97f-839c582350ae",
   "metadata": {},
   "outputs": [],
   "source": []
  },
  {
   "cell_type": "code",
   "execution_count": null,
   "id": "40028fed-636f-46f0-9713-f4adb4a9d196",
   "metadata": {},
   "outputs": [],
   "source": []
  },
  {
   "cell_type": "code",
   "execution_count": null,
   "id": "5a5df986-7665-4318-b390-591e84e1799f",
   "metadata": {},
   "outputs": [],
   "source": []
  },
  {
   "cell_type": "code",
   "execution_count": null,
   "id": "7a4256c6-4055-4fd7-a288-a0e1ca153f89",
   "metadata": {},
   "outputs": [],
   "source": []
  }
 ],
 "metadata": {
  "kernelspec": {
   "display_name": "Python 3 (ipykernel)",
   "language": "python",
   "name": "python3"
  },
  "language_info": {
   "codemirror_mode": {
    "name": "ipython",
    "version": 3
   },
   "file_extension": ".py",
   "mimetype": "text/x-python",
   "name": "python",
   "nbconvert_exporter": "python",
   "pygments_lexer": "ipython3",
   "version": "3.12.4"
  }
 },
 "nbformat": 4,
 "nbformat_minor": 5
}
