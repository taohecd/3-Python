{
 "cells": [
  {
   "cell_type": "code",
   "execution_count": 1,
   "id": "f81dcc00-6ad4-4e02-b857-1d50250fc08e",
   "metadata": {},
   "outputs": [
    {
     "name": "stdout",
     "output_type": "stream",
     "text": [
      "[0, 3, 6, 9, 12, 15, 18, 21, 24, 27, 30, 33, 36, 39, 42, 45, 48, 51, 54, 57, 60, 63, 66, 69, 72, 75, 78, 81, 84, 87, 90, 93, 96, 99]\n"
     ]
    }
   ],
   "source": [
    "list_1 = [i for i in range(100) if i % 3 == 0]\n",
    "print(list_1)"
   ]
  },
  {
   "cell_type": "code",
   "execution_count": 2,
   "id": "97f6a7a6-e8c6-4dbb-9bef-579d0a8def92",
   "metadata": {},
   "outputs": [
    {
     "data": {
      "text/plain": [
       "10"
      ]
     },
     "execution_count": 2,
     "metadata": {},
     "output_type": "execute_result"
    }
   ],
   "source": [
    "(lambda a : a *2) (5)"
   ]
  },
  {
   "cell_type": "code",
   "execution_count": 14,
   "id": "22672009-c67f-41ae-b71f-4afe65fc2c6a",
   "metadata": {},
   "outputs": [],
   "source": [
    "def mul_func(*list):\n",
    "    result = 1\n",
    "    for i in list:\n",
    "        result =result * i\n",
    "    print(result)\n"
   ]
  },
  {
   "cell_type": "code",
   "execution_count": 21,
   "id": "84e77ca6-73d0-428d-b15b-a75acdb75294",
   "metadata": {},
   "outputs": [
    {
     "name": "stdout",
     "output_type": "stream",
     "text": [
      "40320\n"
     ]
    }
   ],
   "source": [
    "list_2 = [2,3,4,5,6,7,8]\n",
    "mul_func(*list_2)"
   ]
  },
  {
   "cell_type": "code",
   "execution_count": 19,
   "id": "d3aab134-b94e-4220-9b32-e9772a9ef13e",
   "metadata": {},
   "outputs": [],
   "source": [
    "def my_arbitrary(**my_dict):\n",
    "    for my_keys, my_values in my_dict.items():\n",
    "        print(my_keys, ':', my_values)"
   ]
  },
  {
   "cell_type": "code",
   "execution_count": 20,
   "id": "e2e1f6ac-1770-4db1-be0f-7fbe161b8635",
   "metadata": {},
   "outputs": [
    {
     "name": "stdout",
     "output_type": "stream",
     "text": [
      "Name : Tom\n",
      "Kind : Cat\n",
      "Color : White\n"
     ]
    }
   ],
   "source": [
    "dict_1 = {'Name':'Tom', 'Kind':'Cat', 'Color':'White'}\n",
    "my_arbitrary(**dict_1)"
   ]
  },
  {
   "cell_type": "code",
   "execution_count": 26,
   "id": "b71ea094-340a-4dc1-8e73-2ec43d487954",
   "metadata": {},
   "outputs": [
    {
     "data": {
      "text/plain": [
       "[(100, 2), (101, 3), (102, 4), (103, 5), (104, 6), (105, 7), (106, 8)]"
      ]
     },
     "execution_count": 26,
     "metadata": {},
     "output_type": "execute_result"
    }
   ],
   "source": [
    "list(enumerate(list_2 ,100))"
   ]
  },
  {
   "cell_type": "code",
   "execution_count": 27,
   "id": "45e79060-38b5-4db0-a594-0b1e6203b22e",
   "metadata": {},
   "outputs": [
    {
     "name": "stdout",
     "output_type": "stream",
     "text": [
      "['cat', 'dog', 'pig']\n"
     ]
    }
   ],
   "source": [
    "list_3 = ['1cat','2dog','3pig']\n",
    "list_4 = [name_kind.strip('0123456789') for name_kind in list_3]\n",
    "print(list_4)"
   ]
  },
  {
   "cell_type": "code",
   "execution_count": 30,
   "id": "21053ce6-6e10-48e9-8180-89feef456e06",
   "metadata": {},
   "outputs": [
    {
     "data": {
      "text/plain": [
       "'I like the dog'"
      ]
     },
     "execution_count": 30,
     "metadata": {},
     "output_type": "execute_result"
    }
   ],
   "source": [
    "dict_2 = {'first':'I', 'second':'like', 'third':'the dog'}\n",
    "' '.join(dict_2.values())"
   ]
  },
  {
   "cell_type": "code",
   "execution_count": null,
   "id": "96991a3a-626e-430d-9036-2b956e548270",
   "metadata": {},
   "outputs": [],
   "source": []
  },
  {
   "cell_type": "code",
   "execution_count": null,
   "id": "4bd171c9-c9c6-4908-bd6c-43ed27e43a2d",
   "metadata": {},
   "outputs": [],
   "source": []
  },
  {
   "cell_type": "code",
   "execution_count": null,
   "id": "f1845438-2521-4e72-808c-519a983aa26c",
   "metadata": {},
   "outputs": [],
   "source": []
  },
  {
   "cell_type": "code",
   "execution_count": null,
   "id": "e6070633-569c-469a-a432-5d6cee15922e",
   "metadata": {},
   "outputs": [],
   "source": []
  },
  {
   "cell_type": "code",
   "execution_count": null,
   "id": "73780d4a-adfd-45c0-a09a-6cd30c8aa6d0",
   "metadata": {},
   "outputs": [],
   "source": []
  },
  {
   "cell_type": "code",
   "execution_count": null,
   "id": "03c28abb-0ced-41bb-a9e0-92437187a1f7",
   "metadata": {},
   "outputs": [],
   "source": []
  },
  {
   "cell_type": "code",
   "execution_count": null,
   "id": "287378bf-79dc-4d57-834d-d6203429cf5b",
   "metadata": {},
   "outputs": [],
   "source": []
  },
  {
   "cell_type": "code",
   "execution_count": null,
   "id": "6c5d52ce-ba82-4d3e-b6fc-ab7f094b4b43",
   "metadata": {},
   "outputs": [],
   "source": []
  },
  {
   "cell_type": "code",
   "execution_count": null,
   "id": "d7b63f35-9ecf-41cf-a575-7ecdb452fd61",
   "metadata": {},
   "outputs": [],
   "source": []
  }
 ],
 "metadata": {
  "kernelspec": {
   "display_name": "Python 3 (ipykernel)",
   "language": "python",
   "name": "python3"
  },
  "language_info": {
   "codemirror_mode": {
    "name": "ipython",
    "version": 3
   },
   "file_extension": ".py",
   "mimetype": "text/x-python",
   "name": "python",
   "nbconvert_exporter": "python",
   "pygments_lexer": "ipython3",
   "version": "3.12.4"
  }
 },
 "nbformat": 4,
 "nbformat_minor": 5
}
