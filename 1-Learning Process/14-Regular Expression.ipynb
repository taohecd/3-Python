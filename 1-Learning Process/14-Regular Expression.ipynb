{
 "cells": [
  {
   "cell_type": "markdown",
   "id": "5be62c07-5865-44c8-b172-52a1a96ab18f",
   "metadata": {},
   "source": [
    "### <span style = ' color : magenta ' > Re Module + Regex Methods </span>"
   ]
  },
  {
   "cell_type": "code",
   "execution_count": 1,
   "id": "001c823f-6b98-47f7-aeac-200740b731cd",
   "metadata": {},
   "outputs": [],
   "source": [
    "import re"
   ]
  },
  {
   "cell_type": "code",
   "execution_count": 18,
   "id": "2c5a5d9c-bb36-4c65-b1e9-2f148b76b800",
   "metadata": {},
   "outputs": [],
   "source": [
    "quote = \"I saved a life. My own. Am I a hero? I really can't say, but yes. - Michael Scott\""
   ]
  },
  {
   "cell_type": "code",
   "execution_count": 4,
   "id": "0f3739b9-35b5-4318-a5e5-d5c35ff6bbff",
   "metadata": {},
   "outputs": [
    {
     "data": {
      "text/plain": [
       "<re.Match object; span=(31, 35), match='hero'>"
      ]
     },
     "execution_count": 4,
     "metadata": {},
     "output_type": "execute_result"
    }
   ],
   "source": [
    "re.search('hero', quote)"
   ]
  },
  {
   "cell_type": "code",
   "execution_count": 5,
   "id": "cce9e933-b7ca-4d5d-bff9-eec866c97945",
   "metadata": {},
   "outputs": [
    {
     "data": {
      "text/plain": [
       "<re.Match object; span=(0, 1), match='I'>"
      ]
     },
     "execution_count": 5,
     "metadata": {},
     "output_type": "execute_result"
    }
   ],
   "source": [
    "re.search('I', quote)"
   ]
  },
  {
   "cell_type": "code",
   "execution_count": 6,
   "id": "6c53815b-84c2-4e3f-9cfc-956303bdb1af",
   "metadata": {},
   "outputs": [
    {
     "data": {
      "text/plain": [
       "['I', 'I', 'I']"
      ]
     },
     "execution_count": 6,
     "metadata": {},
     "output_type": "execute_result"
    }
   ],
   "source": [
    "re.findall('I', quote)"
   ]
  },
  {
   "cell_type": "code",
   "execution_count": 7,
   "id": "72d32109-a9b6-450a-84d7-2158562a3c0d",
   "metadata": {},
   "outputs": [
    {
     "data": {
      "text/plain": [
       "['lif']"
      ]
     },
     "execution_count": 7,
     "metadata": {},
     "output_type": "execute_result"
    }
   ],
   "source": [
    "re.findall('lif', quote)"
   ]
  },
  {
   "cell_type": "code",
   "execution_count": 21,
   "id": "3463623c-641b-434f-88d1-87fbed8cc401",
   "metadata": {},
   "outputs": [
    {
     "data": {
      "text/plain": [
       "['',\n",
       " ' saved a life. My own. Am ',\n",
       " ' a hero? ',\n",
       " \" really can't say, but yes. - Michael Scott\"]"
      ]
     },
     "execution_count": 21,
     "metadata": {},
     "output_type": "execute_result"
    }
   ],
   "source": [
    "re.split('I', quote)"
   ]
  },
  {
   "cell_type": "code",
   "execution_count": 20,
   "id": "df57b501-6c31-4ce2-8419-631f1bba2594",
   "metadata": {},
   "outputs": [
    {
     "data": {
      "text/plain": [
       "['I saved a life',\n",
       " ' My own',\n",
       " \" Am I a hero? I really can't say, but yes\",\n",
       " ' - Michael Scott']"
      ]
     },
     "execution_count": 20,
     "metadata": {},
     "output_type": "execute_result"
    }
   ],
   "source": [
    "re.split(r\"\\.\", quote)"
   ]
  },
  {
   "cell_type": "code",
   "execution_count": 19,
   "id": "6ea6c17e-91ed-434a-b168-40ebb9707f76",
   "metadata": {},
   "outputs": [
    {
     "data": {
      "text/plain": [
       "['I saved a life',\n",
       " \" My own. Am I a hero? I really can't say, but yes. - Michael Scott\"]"
      ]
     },
     "execution_count": 19,
     "metadata": {},
     "output_type": "execute_result"
    }
   ],
   "source": [
    "re.split(r\"\\.\", quote, maxsplit = 1)"
   ]
  },
  {
   "cell_type": "code",
   "execution_count": 22,
   "id": "14108640-89e1-4a33-a194-94beb714cfa1",
   "metadata": {},
   "outputs": [
    {
     "data": {
      "text/plain": [
       "\"You saved a life. My own. Am You a hero? You really can't say, but yes. - Michael Scott\""
      ]
     },
     "execution_count": 22,
     "metadata": {},
     "output_type": "execute_result"
    }
   ],
   "source": [
    "re.sub('I','You', quote)"
   ]
  },
  {
   "cell_type": "code",
   "execution_count": 23,
   "id": "37868075-84b6-4545-bffc-ed1d1cbddcbf",
   "metadata": {},
   "outputs": [
    {
     "data": {
      "text/plain": [
       "\"You saved a life. My own. Am I a hero? I really can't say, but yes. - Michael Scott\""
      ]
     },
     "execution_count": 23,
     "metadata": {},
     "output_type": "execute_result"
    }
   ],
   "source": [
    "re.sub('I','You', quote, count = 1)"
   ]
  },
  {
   "cell_type": "markdown",
   "id": "691da38d-12ae-490a-81c7-16328eab22c7",
   "metadata": {},
   "source": [
    "### <span style = ' color : magenta ' > Regex Character Classes </span>"
   ]
  },
  {
   "cell_type": "code",
   "execution_count": null,
   "id": "fb992192-8185-4cad-9fb4-80383b59133b",
   "metadata": {},
   "outputs": [],
   "source": []
  },
  {
   "cell_type": "code",
   "execution_count": 24,
   "id": "66c01153-2d37-4958-8600-0bda67146b66",
   "metadata": {},
   "outputs": [],
   "source": [
    "import re"
   ]
  },
  {
   "cell_type": "code",
   "execution_count": 25,
   "id": "ae1534c2-2f43-4f51-8a3e-ec679f34cfaf",
   "metadata": {},
   "outputs": [],
   "source": [
    "string = 'I enjoy fajitas in the winter'"
   ]
  },
  {
   "cell_type": "code",
   "execution_count": 27,
   "id": "6012792a-8de8-4c21-b4af-2228243cf818",
   "metadata": {},
   "outputs": [
    {
     "data": {
      "text/plain": [
       "['I', 'e', 'j', 'f', 'a', 'j', 'i', 'a', 'i', 'h', 'e', 'i', 'e']"
      ]
     },
     "execution_count": 27,
     "metadata": {},
     "output_type": "execute_result"
    }
   ],
   "source": [
    "re.findall('[a-mA-M]', string)        # cases sensitive"
   ]
  },
  {
   "cell_type": "code",
   "execution_count": 28,
   "id": "a278cc47-92ae-4aa8-be87-121adbf81a8a",
   "metadata": {},
   "outputs": [
    {
     "data": {
      "text/plain": [
       "[]"
      ]
     },
     "execution_count": 28,
     "metadata": {},
     "output_type": "execute_result"
    }
   ],
   "source": [
    "re.findall('a-mA-M', string)   "
   ]
  },
  {
   "cell_type": "code",
   "execution_count": 29,
   "id": "559affc9-9506-4b87-ad63-576e4081ef5a",
   "metadata": {},
   "outputs": [],
   "source": [
    "string_1 = 'I have 123,456 cats.'"
   ]
  },
  {
   "cell_type": "code",
   "execution_count": 30,
   "id": "f7044869-c836-4e50-bfdf-df1ab7c3a5da",
   "metadata": {},
   "outputs": [
    {
     "data": {
      "text/plain": [
       "['1', '2', '3', '4', '5', '6']"
      ]
     },
     "execution_count": 30,
     "metadata": {},
     "output_type": "execute_result"
    }
   ],
   "source": [
    "re.findall('[0-9]', string_1)  "
   ]
  },
  {
   "cell_type": "code",
   "execution_count": 32,
   "id": "e6706ddc-cac9-4a39-bf20-14c8fa38dfe2",
   "metadata": {},
   "outputs": [
    {
     "data": {
      "text/plain": [
       "['1', '2', '3', '4', '5', '6']"
      ]
     },
     "execution_count": 32,
     "metadata": {},
     "output_type": "execute_result"
    }
   ],
   "source": [
    "re.findall(r'\\d', string_1)         # find all digits"
   ]
  },
  {
   "cell_type": "code",
   "execution_count": 33,
   "id": "baf0c860-aeee-40d6-8928-b91ea8dbb51e",
   "metadata": {},
   "outputs": [],
   "source": [
    "string_2 = 'hello hero helping helpo'"
   ]
  },
  {
   "cell_type": "code",
   "execution_count": 37,
   "id": "c1c22a09-d4bc-4ced-8fc4-e9d7efb16489",
   "metadata": {},
   "outputs": [
    {
     "data": {
      "text/plain": [
       "['hello', 'helpo']"
      ]
     },
     "execution_count": 37,
     "metadata": {},
     "output_type": "execute_result"
    }
   ],
   "source": [
    "re.findall('he..o', string_2)"
   ]
  },
  {
   "cell_type": "code",
   "execution_count": 58,
   "id": "a336503b-68aa-439d-9b2b-e2c129eccb9d",
   "metadata": {},
   "outputs": [],
   "source": [
    "string_3 = 'sunflowers and sundrop, santa clause. flowers in the spring'"
   ]
  },
  {
   "cell_type": "code",
   "execution_count": 45,
   "id": "c9d38a60-97d7-4ce3-be5f-a9344d05a93a",
   "metadata": {},
   "outputs": [
    {
     "data": {
      "text/plain": [
       "['sun']"
      ]
     },
     "execution_count": 45,
     "metadata": {},
     "output_type": "execute_result"
    }
   ],
   "source": [
    "re.findall('^sun', string_3)"
   ]
  },
  {
   "cell_type": "code",
   "execution_count": 46,
   "id": "c497aa80-26d4-473b-a4e7-c8a4b7dcb8fb",
   "metadata": {},
   "outputs": [
    {
     "data": {
      "text/plain": [
       "[]"
      ]
     },
     "execution_count": 46,
     "metadata": {},
     "output_type": "execute_result"
    }
   ],
   "source": [
    "re.findall('^sund', string_3)"
   ]
  },
  {
   "cell_type": "code",
   "execution_count": 47,
   "id": "6bffaa58-4974-4760-9ec2-97aaf96064c2",
   "metadata": {},
   "outputs": [
    {
     "data": {
      "text/plain": [
       "[]"
      ]
     },
     "execution_count": 47,
     "metadata": {},
     "output_type": "execute_result"
    }
   ],
   "source": [
    "re.findall('^san', string_3)"
   ]
  },
  {
   "cell_type": "code",
   "execution_count": 48,
   "id": "0fca62a0-0082-4cf2-a4c3-3e5c2eb905f2",
   "metadata": {},
   "outputs": [
    {
     "data": {
      "text/plain": [
       "[]"
      ]
     },
     "execution_count": 48,
     "metadata": {},
     "output_type": "execute_result"
    }
   ],
   "source": [
    "re.findall('^flo', string_3)"
   ]
  },
  {
   "cell_type": "code",
   "execution_count": 59,
   "id": "ca5444b1-f5ae-4b6c-8262-8a7f8b6ab386",
   "metadata": {},
   "outputs": [
    {
     "data": {
      "text/plain": [
       "['g']"
      ]
     },
     "execution_count": 59,
     "metadata": {},
     "output_type": "execute_result"
    }
   ],
   "source": [
    "re.findall('g$', string_3)"
   ]
  },
  {
   "cell_type": "code",
   "execution_count": 63,
   "id": "15c8aef0-7849-422f-a7af-ef4124f5fd08",
   "metadata": {},
   "outputs": [],
   "source": [
    "string_4 = 'Where whinie while'"
   ]
  },
  {
   "cell_type": "code",
   "execution_count": 64,
   "id": "7e36a14a-4ff3-4b35-b41f-f113b3b9d21a",
   "metadata": {},
   "outputs": [
    {
     "data": {
      "text/plain": [
       "['while']"
      ]
     },
     "execution_count": 64,
     "metadata": {},
     "output_type": "execute_result"
    }
   ],
   "source": [
    "re.findall('wh.{2}e', string_4)         # 2 letters between 'h' and 'e', cases sensitive"
   ]
  },
  {
   "cell_type": "code",
   "execution_count": 65,
   "id": "5d894ffe-0905-4649-af4b-6ba976c0f8e0",
   "metadata": {},
   "outputs": [
    {
     "data": {
      "text/plain": [
       "['while']"
      ]
     },
     "execution_count": 65,
     "metadata": {},
     "output_type": "execute_result"
    }
   ],
   "source": [
    "re.findall('wh..e', string_4)  "
   ]
  },
  {
   "cell_type": "markdown",
   "id": "1d32b7a4-84ad-4765-af33-27665c994203",
   "metadata": {},
   "source": [
    "### <span style = ' color : magenta ' > Regex Metacharacters </span>"
   ]
  },
  {
   "cell_type": "code",
   "execution_count": 66,
   "id": "9cacce52-c8a8-4308-a207-bce5ef1cef7c",
   "metadata": {},
   "outputs": [],
   "source": [
    "import re"
   ]
  },
  {
   "cell_type": "code",
   "execution_count": 81,
   "id": "5ac51b57-78a6-4807-b1ac-aaa73a52f590",
   "metadata": {},
   "outputs": [],
   "source": [
    "quote = 'Hello World! 902-654-8972, good_day@gmail.com.'"
   ]
  },
  {
   "cell_type": "code",
   "execution_count": 69,
   "id": "513cf2d5-12ea-41e9-9466-3082cf40972a",
   "metadata": {},
   "outputs": [
    {
     "data": {
      "text/plain": [
       "['9', '0', '2', '6', '5', '4', '8', '9', '7', '2']"
      ]
     },
     "execution_count": 69,
     "metadata": {},
     "output_type": "execute_result"
    }
   ],
   "source": [
    "re.findall(r'\\d', quote)"
   ]
  },
  {
   "cell_type": "code",
   "execution_count": 70,
   "id": "7d28a67c-bfc5-48f5-b603-d7e37bc72eb7",
   "metadata": {},
   "outputs": [
    {
     "data": {
      "text/plain": [
       "['H',\n",
       " 'e',\n",
       " 'l',\n",
       " 'l',\n",
       " 'o',\n",
       " 'W',\n",
       " 'o',\n",
       " 'r',\n",
       " 'l',\n",
       " 'd',\n",
       " '9',\n",
       " '0',\n",
       " '2',\n",
       " '6',\n",
       " '5',\n",
       " '4',\n",
       " '8',\n",
       " '9',\n",
       " '7',\n",
       " '2',\n",
       " 'g',\n",
       " 'o',\n",
       " 'o',\n",
       " 'd',\n",
       " '_',\n",
       " 'd',\n",
       " 'a',\n",
       " 'y',\n",
       " 'g',\n",
       " 'm',\n",
       " 'a',\n",
       " 'i',\n",
       " 'l',\n",
       " 'c',\n",
       " 'o',\n",
       " 'm']"
      ]
     },
     "execution_count": 70,
     "metadata": {},
     "output_type": "execute_result"
    }
   ],
   "source": [
    "re.findall(r'\\w', quote)   # word character"
   ]
  },
  {
   "cell_type": "code",
   "execution_count": 71,
   "id": "a435af78-04c0-4f99-87b9-832ea2c1d661",
   "metadata": {},
   "outputs": [
    {
     "data": {
      "text/plain": [
       "[' ', '!', ' ', '-', '-', ',', ' ', '@', '.', '.']"
      ]
     },
     "execution_count": 71,
     "metadata": {},
     "output_type": "execute_result"
    }
   ],
   "source": [
    "re.findall(r'\\W', quote)   # not word character"
   ]
  },
  {
   "cell_type": "code",
   "execution_count": 78,
   "id": "38b96a5c-2d59-49ba-bd89-574fe8a7ef00",
   "metadata": {},
   "outputs": [
    {
     "data": {
      "text/plain": [
       "['H']"
      ]
     },
     "execution_count": 78,
     "metadata": {},
     "output_type": "execute_result"
    }
   ],
   "source": [
    "re.findall(r'\\A[A-Z]', quote)   # sensitive"
   ]
  },
  {
   "cell_type": "code",
   "execution_count": 79,
   "id": "00acfad2-6931-4b85-9365-1c41af5b0631",
   "metadata": {},
   "outputs": [
    {
     "data": {
      "text/plain": [
       "[]"
      ]
     },
     "execution_count": 79,
     "metadata": {},
     "output_type": "execute_result"
    }
   ],
   "source": [
    "re.findall(r'\\a[A-Z]', quote)   # sensitive"
   ]
  },
  {
   "cell_type": "code",
   "execution_count": 80,
   "id": "631d9fe7-77d8-48e1-aced-9968506d324b",
   "metadata": {},
   "outputs": [
    {
     "data": {
      "text/plain": [
       "[]"
      ]
     },
     "execution_count": 80,
     "metadata": {},
     "output_type": "execute_result"
    }
   ],
   "source": [
    "re.findall(r'\\A[a-z]', quote)   # sensitive"
   ]
  },
  {
   "cell_type": "code",
   "execution_count": 90,
   "id": "ff9d9cda-a47e-4bcb-9f6e-2fa4a6d9d7ec",
   "metadata": {},
   "outputs": [
    {
     "data": {
      "text/plain": [
       "['.', '']"
      ]
     },
     "execution_count": 90,
     "metadata": {},
     "output_type": "execute_result"
    }
   ],
   "source": [
    "re.findall(r'.?$', quote)   "
   ]
  },
  {
   "cell_type": "code",
   "execution_count": null,
   "id": "fb77cdd4-db90-4bff-82fe-1448073476c7",
   "metadata": {},
   "outputs": [],
   "source": [
    "# \\b-word boundary  \\B- not word boundary"
   ]
  },
  {
   "cell_type": "code",
   "execution_count": 91,
   "id": "063f0213-79d2-4898-b964-7fc0101ab28a",
   "metadata": {},
   "outputs": [
    {
     "data": {
      "text/plain": [
       "['9', '0', '2', '6', '5', '4', '8', '9', '7', '2']"
      ]
     },
     "execution_count": 91,
     "metadata": {},
     "output_type": "execute_result"
    }
   ],
   "source": [
    "re.findall(r'\\d', quote)"
   ]
  },
  {
   "cell_type": "code",
   "execution_count": 93,
   "id": "2687c060-08fb-4d8f-bb62-e6b3ed9eaf0b",
   "metadata": {},
   "outputs": [
    {
     "data": {
      "text/plain": [
       "['902', '654', '897']"
      ]
     },
     "execution_count": 93,
     "metadata": {},
     "output_type": "execute_result"
    }
   ],
   "source": [
    "re.findall(r'\\d{3}', quote)"
   ]
  },
  {
   "cell_type": "code",
   "execution_count": 95,
   "id": "e93d905c-c3b8-45ed-9338-d1b111d8690e",
   "metadata": {},
   "outputs": [
    {
     "data": {
      "text/plain": [
       "['902', '654', '8972']"
      ]
     },
     "execution_count": 95,
     "metadata": {},
     "output_type": "execute_result"
    }
   ],
   "source": [
    "re.findall(r'\\d{3,4}', quote)"
   ]
  },
  {
   "cell_type": "code",
   "execution_count": 96,
   "id": "4db56f0d-25b6-42f0-bdad-65d11a50b61f",
   "metadata": {},
   "outputs": [
    {
     "data": {
      "text/plain": [
       "['902', '654', '8972']"
      ]
     },
     "execution_count": 96,
     "metadata": {},
     "output_type": "execute_result"
    }
   ],
   "source": [
    "re.findall(r'\\d+', quote)"
   ]
  },
  {
   "cell_type": "code",
   "execution_count": 98,
   "id": "babd401d-f2eb-42cc-864b-df329cf2b014",
   "metadata": {},
   "outputs": [
    {
     "data": {
      "text/plain": [
       "3"
      ]
     },
     "execution_count": 98,
     "metadata": {},
     "output_type": "execute_result"
    }
   ],
   "source": [
    "len(re.findall(r'\\d+', quote))    # how many numbers"
   ]
  },
  {
   "cell_type": "markdown",
   "id": "46f59210-d00c-4498-ab03-b904c74a7766",
   "metadata": {},
   "source": [
    "### <span style = ' color : magenta ' > Match Object Methods </span>"
   ]
  },
  {
   "cell_type": "code",
   "execution_count": 99,
   "id": "ba0e3a23-263a-44ad-8464-e2c9d3185c49",
   "metadata": {},
   "outputs": [],
   "source": [
    "import re"
   ]
  },
  {
   "cell_type": "code",
   "execution_count": 104,
   "id": "6b7af5e0-9799-4a33-a6d2-866c6d0ab253",
   "metadata": {},
   "outputs": [],
   "source": [
    "string_5 = \"It's a BEAUTIFUL day in the city. It's 75 degrees and sunny!\""
   ]
  },
  {
   "cell_type": "code",
   "execution_count": 108,
   "id": "8eb05f8b-e150-45fc-9901-62daefd46383",
   "metadata": {},
   "outputs": [
    {
     "data": {
      "text/plain": [
       "<re.Match object; span=(7, 16), match='BEAUTIFUL'>"
      ]
     },
     "execution_count": 108,
     "metadata": {},
     "output_type": "execute_result"
    }
   ],
   "source": [
    "re.search(r\"(\\b[A-Z]+\\b)\",string_5)"
   ]
  },
  {
   "cell_type": "code",
   "execution_count": 109,
   "id": "fbdc7122-4052-49f3-840e-f9863f2a1b94",
   "metadata": {},
   "outputs": [
    {
     "data": {
      "text/plain": [
       "<re.Match object; span=(7, 60), match=\"BEAUTIFUL day in the city. It's 75 degrees and su>"
      ]
     },
     "execution_count": 109,
     "metadata": {},
     "output_type": "execute_result"
    }
   ],
   "source": [
    "re.search(r\"(\\b[A-Z]+\\b).*\",string_5)"
   ]
  },
  {
   "cell_type": "code",
   "execution_count": 116,
   "id": "53e80ffb-74dd-440b-98cb-f02c51a38b4d",
   "metadata": {},
   "outputs": [
    {
     "data": {
      "text/plain": [
       "<re.Match object; span=(7, 41), match=\"BEAUTIFUL day in the city. It's 75\">"
      ]
     },
     "execution_count": 116,
     "metadata": {},
     "output_type": "execute_result"
    }
   ],
   "source": [
    "re.search(r\"(\\b[A-Z]+\\b).*(\\b\\d+\\b)\",string_5)"
   ]
  },
  {
   "cell_type": "code",
   "execution_count": 114,
   "id": "17ef08fa-d88b-4871-93e4-9f395d253bc6",
   "metadata": {},
   "outputs": [
    {
     "data": {
      "text/plain": [
       "<re.Match object; span=(7, 41), match=\"BEAUTIFUL day in the city. It's 75\">"
      ]
     },
     "execution_count": 114,
     "metadata": {},
     "output_type": "execute_result"
    }
   ],
   "source": [
    "re.search(r\"(\\b[A-Z]+\\b).*(\\b\\d++\\b)\",string_5)"
   ]
  },
  {
   "cell_type": "code",
   "execution_count": 117,
   "id": "ff08c47d-086f-4ccc-ae3a-d9c91b167ddc",
   "metadata": {},
   "outputs": [],
   "source": [
    "result = re.search(r\"(\\b[A-Z]+\\b).*(\\b\\d+\\b)\",string_5)"
   ]
  },
  {
   "cell_type": "code",
   "execution_count": 118,
   "id": "79c0bfd8-682c-4f9a-9f72-27530967392a",
   "metadata": {},
   "outputs": [
    {
     "name": "stdout",
     "output_type": "stream",
     "text": [
      "<re.Match object; span=(7, 41), match=\"BEAUTIFUL day in the city. It's 75\">\n"
     ]
    }
   ],
   "source": [
    "print(result)"
   ]
  },
  {
   "cell_type": "code",
   "execution_count": 119,
   "id": "d66891be-7ea2-4018-9e06-b2ef060963c9",
   "metadata": {},
   "outputs": [
    {
     "data": {
      "text/plain": [
       "('BEAUTIFUL', '75')"
      ]
     },
     "execution_count": 119,
     "metadata": {},
     "output_type": "execute_result"
    }
   ],
   "source": [
    "result.groups()"
   ]
  },
  {
   "cell_type": "code",
   "execution_count": 122,
   "id": "c2ecd106-e8d3-49e6-86e3-e607991ec7a5",
   "metadata": {},
   "outputs": [
    {
     "data": {
      "text/plain": [
       "'BEAUTIFUL'"
      ]
     },
     "execution_count": 122,
     "metadata": {},
     "output_type": "execute_result"
    }
   ],
   "source": [
    "result.group(1)"
   ]
  },
  {
   "cell_type": "code",
   "execution_count": 123,
   "id": "4a267dcb-f878-4f2b-9feb-534e17cfa2c6",
   "metadata": {},
   "outputs": [
    {
     "data": {
      "text/plain": [
       "'E'"
      ]
     },
     "execution_count": 123,
     "metadata": {},
     "output_type": "execute_result"
    }
   ],
   "source": [
    "result.group()[1]"
   ]
  },
  {
   "cell_type": "code",
   "execution_count": 124,
   "id": "9b0f1f44-fb28-486e-a403-b26d9d6f3532",
   "metadata": {},
   "outputs": [
    {
     "data": {
      "text/plain": [
       "'75'"
      ]
     },
     "execution_count": 124,
     "metadata": {},
     "output_type": "execute_result"
    }
   ],
   "source": [
    "result.groups()[1]"
   ]
  },
  {
   "cell_type": "code",
   "execution_count": 125,
   "id": "6a7253da-327c-4a44-9082-41e2778c42fb",
   "metadata": {},
   "outputs": [
    {
     "data": {
      "text/plain": [
       "(7, 41)"
      ]
     },
     "execution_count": 125,
     "metadata": {},
     "output_type": "execute_result"
    }
   ],
   "source": [
    "result.span()"
   ]
  },
  {
   "cell_type": "code",
   "execution_count": 126,
   "id": "ee0721ed-6b29-43ff-bd33-82295a436398",
   "metadata": {},
   "outputs": [
    {
     "data": {
      "text/plain": [
       "7"
      ]
     },
     "execution_count": 126,
     "metadata": {},
     "output_type": "execute_result"
    }
   ],
   "source": [
    "result.start()"
   ]
  },
  {
   "cell_type": "code",
   "execution_count": 127,
   "id": "65eb7791-d82e-45c5-848f-8841da0d2a19",
   "metadata": {},
   "outputs": [
    {
     "data": {
      "text/plain": [
       "41"
      ]
     },
     "execution_count": 127,
     "metadata": {},
     "output_type": "execute_result"
    }
   ],
   "source": [
    "result.end()"
   ]
  },
  {
   "cell_type": "markdown",
   "id": "c64b843a-e2e6-4fc5-8adc-884a62d1c43a",
   "metadata": {},
   "source": [
    "### <span style = ' color : magenta ' > Regex Modifiers </span>"
   ]
  },
  {
   "cell_type": "code",
   "execution_count": 128,
   "id": "f3173d87-e452-4274-ad80-bf22c2514d3d",
   "metadata": {},
   "outputs": [],
   "source": [
    "import re"
   ]
  },
  {
   "cell_type": "code",
   "execution_count": 131,
   "id": "d28d0ae8-f7c0-455d-a38b-ad1d70d24810",
   "metadata": {},
   "outputs": [],
   "source": [
    "quote_2 = 'Hello World! hello guys. 902-654-8972, good_day@gmail.com.'"
   ]
  },
  {
   "cell_type": "code",
   "execution_count": 134,
   "id": "c49ed8fd-7361-43f4-8fc5-55dadd8199f4",
   "metadata": {},
   "outputs": [
    {
     "data": {
      "text/plain": [
       "['hello', 'guys', 'gmail', 'com']"
      ]
     },
     "execution_count": 134,
     "metadata": {},
     "output_type": "execute_result"
    }
   ],
   "source": [
    "re.findall(r\"\\b[a-z]+\\b\", quote_2)  # find all lower cases"
   ]
  },
  {
   "cell_type": "code",
   "execution_count": 137,
   "id": "bbb5c2e6-edc3-4f63-9973-91825c8534ba",
   "metadata": {},
   "outputs": [
    {
     "data": {
      "text/plain": [
       "['Hello', 'World', 'hello', 'guys', 'gmail', 'com']"
      ]
     },
     "execution_count": 137,
     "metadata": {},
     "output_type": "execute_result"
    }
   ],
   "source": [
    "re.findall(r\"\\b[a-z]+\\b\", quote_2, re.I) # cases insensitive"
   ]
  },
  {
   "cell_type": "code",
   "execution_count": 170,
   "id": "4af0ce05-ba4b-44b6-95c6-b43ec338c1f7",
   "metadata": {},
   "outputs": [],
   "source": [
    "string_6 = \"He likes 7 \\nShe likes 9\"   # no space between \\n and She, otherwise \\n doesn't work properly\n",
    "string_7 = \"\"\"He likes 7 \n",
    "She likes 9\n",
    "\"\"\"\n",
    "string_8 = \"He likes 17\\nShe likes 19\"  # no space between 17 and \\n, otherwise $ in the below doesn't work properly"
   ]
  },
  {
   "cell_type": "code",
   "execution_count": 143,
   "id": "8e96a87f-3530-43c7-b924-3b26dbbb34d0",
   "metadata": {},
   "outputs": [
    {
     "data": {
      "text/plain": [
       "['He']"
      ]
     },
     "execution_count": 143,
     "metadata": {},
     "output_type": "execute_result"
    }
   ],
   "source": [
    "re.findall(r\"^\\w{2}\", string_6)"
   ]
  },
  {
   "cell_type": "code",
   "execution_count": 151,
   "id": "c533baa0-c2a7-4e23-b800-d18411572f5d",
   "metadata": {},
   "outputs": [
    {
     "data": {
      "text/plain": [
       "['He', 'Sh']"
      ]
     },
     "execution_count": 151,
     "metadata": {},
     "output_type": "execute_result"
    }
   ],
   "source": [
    "re.findall(r\"^\\w{2}\", string_6, re.M)"
   ]
  },
  {
   "cell_type": "code",
   "execution_count": 146,
   "id": "79b86b81-477d-43f3-b3df-55ef6fda1452",
   "metadata": {},
   "outputs": [
    {
     "data": {
      "text/plain": [
       "['He', 'Sh']"
      ]
     },
     "execution_count": 146,
     "metadata": {},
     "output_type": "execute_result"
    }
   ],
   "source": [
    "re.findall(r\"^\\w{2}\", string_7, re.M)"
   ]
  },
  {
   "cell_type": "code",
   "execution_count": 160,
   "id": "e291af92-c658-44ad-bb63-c8f18b4d5870",
   "metadata": {},
   "outputs": [
    {
     "data": {
      "text/plain": [
       "['9']"
      ]
     },
     "execution_count": 160,
     "metadata": {},
     "output_type": "execute_result"
    }
   ],
   "source": [
    "re.findall(r\"\\d{1}$\", string_6)"
   ]
  },
  {
   "cell_type": "code",
   "execution_count": 168,
   "id": "a0c3a0af-bf12-4208-9bd4-8612853dcff6",
   "metadata": {},
   "outputs": [
    {
     "data": {
      "text/plain": [
       "['19']"
      ]
     },
     "execution_count": 168,
     "metadata": {},
     "output_type": "execute_result"
    }
   ],
   "source": [
    "re.findall(r\"\\d{2}$\", string_8)"
   ]
  },
  {
   "cell_type": "code",
   "execution_count": 171,
   "id": "21ae6ac5-6582-48aa-b18c-5b234b9c4aa5",
   "metadata": {},
   "outputs": [
    {
     "data": {
      "text/plain": [
       "['17', '19']"
      ]
     },
     "execution_count": 171,
     "metadata": {},
     "output_type": "execute_result"
    }
   ],
   "source": [
    "re.findall(r\"\\d{2}$\", string_8, re.M)"
   ]
  },
  {
   "cell_type": "code",
   "execution_count": 172,
   "id": "743d1bfe-705d-4f11-ba8a-791e0557858b",
   "metadata": {},
   "outputs": [
    {
     "data": {
      "text/plain": [
       "['17', '19']"
      ]
     },
     "execution_count": 172,
     "metadata": {},
     "output_type": "execute_result"
    }
   ],
   "source": [
    "re.findall(r\"\\d{2}\", string_8)"
   ]
  },
  {
   "cell_type": "code",
   "execution_count": 173,
   "id": "15e7257b-c1ee-4fab-9dae-c563600ad42f",
   "metadata": {},
   "outputs": [
    {
     "data": {
      "text/plain": [
       "['He likes 17', 'She likes 19']"
      ]
     },
     "execution_count": 173,
     "metadata": {},
     "output_type": "execute_result"
    }
   ],
   "source": [
    "re.findall(r'.+', string_8)"
   ]
  },
  {
   "cell_type": "code",
   "execution_count": 174,
   "id": "22ea2dd4-7dea-4559-ba8a-c3619d4ba005",
   "metadata": {},
   "outputs": [
    {
     "data": {
      "text/plain": [
       "['He likes 17\\nShe likes 19']"
      ]
     },
     "execution_count": 174,
     "metadata": {},
     "output_type": "execute_result"
    }
   ],
   "source": [
    "re.findall(r'.+', string_8, re.S)"
   ]
  },
  {
   "cell_type": "code",
   "execution_count": 178,
   "id": "76f70367-1ef0-44a7-8fc6-3531cd753548",
   "metadata": {},
   "outputs": [
    {
     "name": "stdout",
     "output_type": "stream",
     "text": [
      "He likes 17\n"
     ]
    }
   ],
   "source": [
    "result_8 = re.search(r'.+', string_8)\n",
    "print(result_8.group())"
   ]
  },
  {
   "cell_type": "code",
   "execution_count": 179,
   "id": "020661f4-6dc3-49d8-bffe-25a9cec7d76c",
   "metadata": {},
   "outputs": [
    {
     "name": "stdout",
     "output_type": "stream",
     "text": [
      "He likes 17\n",
      "She likes 19\n"
     ]
    }
   ],
   "source": [
    "result_8 = re.search(r'.+', string_8,re.S)\n",
    "print(result_8.group())"
   ]
  },
  {
   "cell_type": "markdown",
   "id": "9cc2aeaa-2c20-40d0-b6a9-ea35c4024d0b",
   "metadata": {},
   "source": [
    "### <span style = ' color : magenta ' > Regex Use Cases </span>"
   ]
  },
  {
   "cell_type": "code",
   "execution_count": 209,
   "id": "8d6d0eae-f9a7-4df1-81c3-44d340ef0c69",
   "metadata": {},
   "outputs": [],
   "source": [
    "import re\n",
    "random_text = \"\"\"\n",
    "My name is Andy. My phone number is 902-564-8987. My email is andyRuff@gmail.com.\n",
    "My name is Alex. My phone number is 902-528-7852. My email is alexdaves@yahoo.com.\n",
    "My name is Chris. My phone number is 902-786-5634. My email is chrismacgrill@apple.com.\n",
    "\"\"\""
   ]
  },
  {
   "cell_type": "code",
   "execution_count": 190,
   "id": "fb03798e-600e-41a9-991a-61c7e37bbc39",
   "metadata": {},
   "outputs": [
    {
     "data": {
      "text/plain": [
       "['@gmail.com.', '@yahoo.com.', '@apple.com.']"
      ]
     },
     "execution_count": 190,
     "metadata": {},
     "output_type": "execute_result"
    }
   ],
   "source": [
    "re.findall(r'@[a-zA-Z].+', random_text)"
   ]
  },
  {
   "cell_type": "code",
   "execution_count": 186,
   "id": "45733a75-3990-41a3-b200-eeef1b4e44d7",
   "metadata": {},
   "outputs": [
    {
     "data": {
      "text/plain": [
       "['@gmail', '@yahoo', '@apple']"
      ]
     },
     "execution_count": 186,
     "metadata": {},
     "output_type": "execute_result"
    }
   ],
   "source": [
    "re.findall(r'@[a-zA-Z]+', random_text)"
   ]
  },
  {
   "cell_type": "code",
   "execution_count": 188,
   "id": "47282557-a022-4895-b61d-a206d57736f0",
   "metadata": {},
   "outputs": [
    {
     "data": {
      "text/plain": [
       "['gmail', 'yahoo', 'apple']"
      ]
     },
     "execution_count": 188,
     "metadata": {},
     "output_type": "execute_result"
    }
   ],
   "source": [
    "re.findall(r'@([a-zA-Z]+)', random_text)"
   ]
  },
  {
   "cell_type": "code",
   "execution_count": 191,
   "id": "be1e6f56-1d37-4231-88bf-8dc2ce1706d1",
   "metadata": {},
   "outputs": [
    {
     "data": {
      "text/plain": [
       "['gmail.com.', 'yahoo.com.', 'apple.com.']"
      ]
     },
     "execution_count": 191,
     "metadata": {},
     "output_type": "execute_result"
    }
   ],
   "source": [
    "re.findall(r'@([a-zA-Z].+)', random_text)"
   ]
  },
  {
   "cell_type": "code",
   "execution_count": 193,
   "id": "86f5fd2b-9e75-462a-9148-11508c172437",
   "metadata": {},
   "outputs": [
    {
     "data": {
      "text/plain": [
       "['gmail.com.', 'yahoo.com.', 'apple.com.']"
      ]
     },
     "execution_count": 193,
     "metadata": {},
     "output_type": "execute_result"
    }
   ],
   "source": [
    "re.findall(r'@([\\w].+)', random_text)"
   ]
  },
  {
   "cell_type": "code",
   "execution_count": 195,
   "id": "2841efd2-1e96-4bee-8da2-5f6a6e2d418f",
   "metadata": {},
   "outputs": [
    {
     "data": {
      "text/plain": [
       "['gmail.com.', 'yahoo.com.', 'apple.com.']"
      ]
     },
     "execution_count": 195,
     "metadata": {},
     "output_type": "execute_result"
    }
   ],
   "source": [
    "re.findall(r'@([\\w\\.+]+)', random_text)"
   ]
  },
  {
   "cell_type": "code",
   "execution_count": 200,
   "id": "31feb8d6-2ffc-4c12-b222-d88adc6fe141",
   "metadata": {},
   "outputs": [
    {
     "data": {
      "text/plain": [
       "['andyRuff@gmail.com.', 'alexdaves@yahoo.com.', 'chrismacgrill@apple.com.']"
      ]
     },
     "execution_count": 200,
     "metadata": {},
     "output_type": "execute_result"
    }
   ],
   "source": [
    "re.findall(r'[\\w.+]+@[\\w].+', random_text)"
   ]
  },
  {
   "cell_type": "code",
   "execution_count": 204,
   "id": "a7b75a95-8674-4a44-a5ad-30abd4cbd421",
   "metadata": {},
   "outputs": [
    {
     "data": {
      "text/plain": [
       "['andyRuff@gmail.com.', 'alexdaves@yahoo.com.', 'chrismacgrill@apple.com.']"
      ]
     },
     "execution_count": 204,
     "metadata": {},
     "output_type": "execute_result"
    }
   ],
   "source": [
    "re.findall(r'[\\w.+]+@[\\w.+]+', random_text)"
   ]
  },
  {
   "cell_type": "code",
   "execution_count": 205,
   "id": "50041dfc-6cc3-4fa1-adad-32888867554b",
   "metadata": {},
   "outputs": [
    {
     "data": {
      "text/plain": [
       "['andyRuff@gmail.com.', 'alexdaves@yahoo.com.', 'chrismacgrill@apple.com.']"
      ]
     },
     "execution_count": 205,
     "metadata": {},
     "output_type": "execute_result"
    }
   ],
   "source": [
    "re.findall(r'[\\w.+]+@[\\w\\.+]+', random_text)"
   ]
  },
  {
   "cell_type": "code",
   "execution_count": 210,
   "id": "6fd6542c-c5d1-427a-9dca-3f58cff03e9d",
   "metadata": {},
   "outputs": [
    {
     "data": {
      "text/plain": [
       "['902-564-8987', '902-528-7852', '902-786-5634']"
      ]
     },
     "execution_count": 210,
     "metadata": {},
     "output_type": "execute_result"
    }
   ],
   "source": [
    "re.findall(r\"\\d+-\\d+-\\d+\", random_text)"
   ]
  },
  {
   "cell_type": "code",
   "execution_count": 211,
   "id": "c76151fd-d389-4273-bdf7-eec083e5bca0",
   "metadata": {},
   "outputs": [
    {
     "data": {
      "text/plain": [
       "['902-564-8987', '902-528-7852', '902-786-5634']"
      ]
     },
     "execution_count": 211,
     "metadata": {},
     "output_type": "execute_result"
    }
   ],
   "source": [
    "re.findall(r\"\\d{3}-\\d{3}-\\d{4}\", random_text)"
   ]
  },
  {
   "cell_type": "code",
   "execution_count": 214,
   "id": "d6abb5a4-c40e-470c-8520-bbdbe24cae7d",
   "metadata": {},
   "outputs": [
    {
     "data": {
      "text/plain": [
       "['902', '902', '902']"
      ]
     },
     "execution_count": 214,
     "metadata": {},
     "output_type": "execute_result"
    }
   ],
   "source": [
    "re.findall(r'\\ (\\d{3})', random_text)"
   ]
  },
  {
   "cell_type": "code",
   "execution_count": 222,
   "id": "1265f512-07c0-463e-be91-d6f2e6b1ef20",
   "metadata": {},
   "outputs": [],
   "source": [
    "email_list = ['andyRuff@gmail.com','alexdaves@yahoo.com','chrismacgrill@apple.com']"
   ]
  },
  {
   "cell_type": "code",
   "execution_count": 224,
   "id": "d6ca93a5-bd07-404e-8b9b-fe046505b54c",
   "metadata": {},
   "outputs": [
    {
     "name": "stdout",
     "output_type": "stream",
     "text": [
      "['gmail']\n",
      "['yahoo']\n",
      "['apple']\n"
     ]
    }
   ],
   "source": [
    "for email in email_list:\n",
    "    result_email = re.findall(r'@([a-zA-Z]+)', email)\n",
    "    print(result_email)"
   ]
  },
  {
   "cell_type": "code",
   "execution_count": 225,
   "id": "64bf4199-0c83-487b-bae6-e301fb4f08a9",
   "metadata": {},
   "outputs": [
    {
     "name": "stdout",
     "output_type": "stream",
     "text": [
      "[['gmail'], ['yahoo'], ['apple']]\n"
     ]
    }
   ],
   "source": [
    "result_email_2 = [re.findall(r'@([a-zA-Z]+)', email) for email in email_list]\n",
    "print(result_email_2)"
   ]
  },
  {
   "cell_type": "code",
   "execution_count": 226,
   "id": "c0af0311-26ac-42bb-bf1b-c51eaf50469e",
   "metadata": {},
   "outputs": [
    {
     "name": "stdout",
     "output_type": "stream",
     "text": [
      "['gmail', 'yahoo', 'apple']\n"
     ]
    }
   ],
   "source": [
    "result_email_2 = [re.findall(r'@([a-zA-Z]+)', email)[0] for email in email_list]\n",
    "print(result_email_2)"
   ]
  },
  {
   "cell_type": "code",
   "execution_count": null,
   "id": "a3466041-8fb8-46b6-926c-1e9676b788c4",
   "metadata": {},
   "outputs": [],
   "source": [
    "# area_codes = [re.findall(r'\\((\\d{3})', phone_number)[0] for phone_number in phone_numbers]"
   ]
  },
  {
   "cell_type": "code",
   "execution_count": null,
   "id": "0c5f5dbb-f044-4891-bf9f-2b0e38f13d24",
   "metadata": {},
   "outputs": [],
   "source": []
  },
  {
   "cell_type": "code",
   "execution_count": null,
   "id": "5dc6dec2-b76f-47c2-b9a5-94a89ff20d37",
   "metadata": {},
   "outputs": [],
   "source": []
  },
  {
   "cell_type": "code",
   "execution_count": null,
   "id": "18b14461-85a6-4d7e-aba8-b821dec90102",
   "metadata": {},
   "outputs": [],
   "source": []
  },
  {
   "cell_type": "code",
   "execution_count": null,
   "id": "9bf41091-b69d-4dd4-adcc-0e67b637bc8e",
   "metadata": {},
   "outputs": [],
   "source": []
  }
 ],
 "metadata": {
  "kernelspec": {
   "display_name": "Python 3 (ipykernel)",
   "language": "python",
   "name": "python3"
  },
  "language_info": {
   "codemirror_mode": {
    "name": "ipython",
    "version": 3
   },
   "file_extension": ".py",
   "mimetype": "text/x-python",
   "name": "python",
   "nbconvert_exporter": "python",
   "pygments_lexer": "ipython3",
   "version": "3.12.4"
  }
 },
 "nbformat": 4,
 "nbformat_minor": 5
}
