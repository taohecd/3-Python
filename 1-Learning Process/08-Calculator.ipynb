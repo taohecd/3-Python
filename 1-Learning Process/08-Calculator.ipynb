{
 "cells": [
  {
   "cell_type": "markdown",
   "id": "6391525b-8591-4f01-a22f-3258b5fe1937",
   "metadata": {},
   "source": [
    "### <span style = 'color : magenta' > Calculator Project </span>"
   ]
  },
  {
   "cell_type": "code",
   "execution_count": 11,
   "id": "74a54081-9165-49bc-a326-01f259dec506",
   "metadata": {},
   "outputs": [],
   "source": [
    "def add_func(x, y):\n",
    "    return(round((x + y), 2))\n",
    "\n",
    "def substract_func(x, y):\n",
    "    return(round((x - y), 2))\n",
    "\n",
    "def multiply_func(x, y):\n",
    "    return(round((x * y), 2))\n",
    "\n",
    "def divide_func(x, y):\n",
    "    return(round((x / y), 2))"
   ]
  },
  {
   "cell_type": "code",
   "execution_count": 14,
   "id": "a0dc4069-7f00-4cd5-a09b-9508d2bbdf90",
   "metadata": {},
   "outputs": [
    {
     "name": "stdout",
     "output_type": "stream",
     "text": [
      "a or A for Addition, s or S for Substract, m or M for Multiply, d or D for Divide\n"
     ]
    },
    {
     "name": "stdin",
     "output_type": "stream",
     "text": [
      "Please enter your choice: m\n",
      "Please enter your first nummber: 3\n",
      "Please enter your second nummber: 4\n"
     ]
    },
    {
     "name": "stdout",
     "output_type": "stream",
     "text": [
      "3.0 * 4.0 = 12.0\n"
     ]
    },
    {
     "name": "stdin",
     "output_type": "stream",
     "text": [
      "Do you want to calculate again? (Yes / No) h\n"
     ]
    },
    {
     "name": "stdout",
     "output_type": "stream",
     "text": [
      "Calculating is end!\n"
     ]
    }
   ],
   "source": [
    "print('a or A for Addition, s or S for Substract, m or M for Multiply, d or D for Divide')\n",
    "while True:\n",
    "    the_choice = input('Please enter your choice:')\n",
    "    num_1 = float(input('Please enter your first nummber:'))\n",
    "    num_2 = float(input('Please enter your second nummber:'))\n",
    "\n",
    "    if the_choice.lower() in ('a'):\n",
    "        result = add_func(num_1, num_2)\n",
    "        print(num_1, '+', num_2, '=', result)\n",
    "    elif the_choice.lower() in ('s'):\n",
    "        result = substract_func(num_1, num_2)\n",
    "        print(num_1, '-', num_2, '=', result)\n",
    "    elif the_choice.lower() in ('m'):\n",
    "        result = multiply_func(num_1, num_2)\n",
    "        print(num_1, '*', num_2, '=', result)\n",
    "    elif the_choice.lower() in ('d'):\n",
    "        result = divide_func(num_1, num_2)\n",
    "        print(num_1, '/', num_2, '=', result)\n",
    "    else:\n",
    "        print('The input is incorrect!')\n",
    "\n",
    "    cal_again = input('Do you want to calculate again? (Yes / No)')\n",
    "    if cal_again.lower() not in ('y', 'yes'):\n",
    "        print('Calculating is end!')\n",
    "        break"
   ]
  },
  {
   "cell_type": "code",
   "execution_count": null,
   "id": "26826c63-7180-4cf7-81bb-d0d68b8b520b",
   "metadata": {},
   "outputs": [],
   "source": []
  },
  {
   "cell_type": "code",
   "execution_count": null,
   "id": "49f0135f-f74c-45a9-ab7d-e360577cf007",
   "metadata": {},
   "outputs": [],
   "source": []
  },
  {
   "cell_type": "code",
   "execution_count": null,
   "id": "71ba8f18-5046-4ed9-896b-0130ed58296a",
   "metadata": {},
   "outputs": [],
   "source": []
  },
  {
   "cell_type": "code",
   "execution_count": null,
   "id": "6644f0f1-c737-4a2a-a278-622528a3d6ca",
   "metadata": {},
   "outputs": [],
   "source": []
  },
  {
   "cell_type": "code",
   "execution_count": null,
   "id": "150bf5e0-fbf9-4382-8981-513da3381dde",
   "metadata": {},
   "outputs": [],
   "source": []
  },
  {
   "cell_type": "code",
   "execution_count": null,
   "id": "ce50f5c5-2585-4482-bec7-e9f368a61dce",
   "metadata": {},
   "outputs": [],
   "source": []
  },
  {
   "cell_type": "code",
   "execution_count": null,
   "id": "0ca81930-e284-445c-89f8-ad34ec71e8f1",
   "metadata": {},
   "outputs": [],
   "source": []
  },
  {
   "cell_type": "code",
   "execution_count": null,
   "id": "3ce88be2-711a-4179-bb72-f8a24e9c3369",
   "metadata": {},
   "outputs": [],
   "source": []
  },
  {
   "cell_type": "code",
   "execution_count": null,
   "id": "d49b6fbf-9aba-42ce-b80c-3a4efa068cc8",
   "metadata": {},
   "outputs": [],
   "source": []
  },
  {
   "cell_type": "code",
   "execution_count": null,
   "id": "cf60852b-3619-4cfd-915f-d139799b398d",
   "metadata": {},
   "outputs": [],
   "source": []
  },
  {
   "cell_type": "code",
   "execution_count": null,
   "id": "a270d0ce-65df-4cc8-80b0-dcb9b88d1f0a",
   "metadata": {},
   "outputs": [],
   "source": []
  },
  {
   "cell_type": "code",
   "execution_count": null,
   "id": "da61d4be-be8f-4069-a9dd-d86becb7b362",
   "metadata": {},
   "outputs": [],
   "source": []
  },
  {
   "cell_type": "code",
   "execution_count": null,
   "id": "5bb2928c-0adc-40d9-8150-2b7774dceceb",
   "metadata": {},
   "outputs": [],
   "source": []
  },
  {
   "cell_type": "code",
   "execution_count": null,
   "id": "dcbcff8e-6c10-482c-ba3b-26b2babb3ce6",
   "metadata": {},
   "outputs": [],
   "source": []
  },
  {
   "cell_type": "code",
   "execution_count": null,
   "id": "e17a4dac-883a-49a5-9f25-78b25c848621",
   "metadata": {},
   "outputs": [],
   "source": []
  },
  {
   "cell_type": "code",
   "execution_count": null,
   "id": "4ededbe7-248c-49c1-8a41-1c0c939ea068",
   "metadata": {},
   "outputs": [],
   "source": []
  },
  {
   "cell_type": "code",
   "execution_count": null,
   "id": "f8817d86-7f04-415e-89bd-a02d0144ac73",
   "metadata": {},
   "outputs": [],
   "source": []
  },
  {
   "cell_type": "code",
   "execution_count": null,
   "id": "d9cb902c-5b38-4e8a-bb0c-82778236caee",
   "metadata": {},
   "outputs": [],
   "source": []
  },
  {
   "cell_type": "code",
   "execution_count": null,
   "id": "ea146ed2-cfcb-4e8f-927d-b5c77fc2ee9d",
   "metadata": {},
   "outputs": [],
   "source": []
  },
  {
   "cell_type": "code",
   "execution_count": null,
   "id": "88dfecdd-c18c-4b57-a093-b86d53c452f4",
   "metadata": {},
   "outputs": [],
   "source": []
  }
 ],
 "metadata": {
  "kernelspec": {
   "display_name": "Python 3 (ipykernel)",
   "language": "python",
   "name": "python3"
  },
  "language_info": {
   "codemirror_mode": {
    "name": "ipython",
    "version": 3
   },
   "file_extension": ".py",
   "mimetype": "text/x-python",
   "name": "python",
   "nbconvert_exporter": "python",
   "pygments_lexer": "ipython3",
   "version": "3.12.4"
  }
 },
 "nbformat": 4,
 "nbformat_minor": 5
}
