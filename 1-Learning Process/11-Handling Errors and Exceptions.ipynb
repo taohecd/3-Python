{
 "cells": [
  {
   "cell_type": "markdown",
   "id": "a78b76e3-2013-4eed-8f63-ff492c426b71",
   "metadata": {},
   "source": [
    "### <span style = 'color : magenta' > Try Except Basics </span>"
   ]
  },
  {
   "cell_type": "code",
   "execution_count": 6,
   "id": "6ddf299b-8167-48a5-b344-8279dc48f972",
   "metadata": {},
   "outputs": [
    {
     "name": "stdout",
     "output_type": "stream",
     "text": [
      "There is an error!\n"
     ]
    }
   ],
   "source": [
    "x = 10\n",
    "y = 20\n",
    "\n",
    "# print(z)\n",
    "\n",
    "try:\n",
    "    print(z)\n",
    "except:\n",
    "    print('There is an error!')"
   ]
  },
  {
   "cell_type": "code",
   "execution_count": 5,
   "id": "de78191d-833f-4131-ad8b-144c3d5f992f",
   "metadata": {},
   "outputs": [
    {
     "name": "stdout",
     "output_type": "stream",
     "text": [
      "variable not defined\n"
     ]
    }
   ],
   "source": [
    "try:\n",
    "    print(z)\n",
    "except NameError:\n",
    "    print('variable not defined')\n",
    "except:\n",
    "    print('There is an error!')"
   ]
  },
  {
   "cell_type": "code",
   "execution_count": 7,
   "id": "2768986b-9715-4203-9eff-150ed4dfa973",
   "metadata": {},
   "outputs": [
    {
     "name": "stdout",
     "output_type": "stream",
     "text": [
      "name 'z' is not defined\n"
     ]
    }
   ],
   "source": [
    "try:\n",
    "    print(z)\n",
    "except Exception as e:\n",
    "    print(e)\n",
    "except NameError:\n",
    "    print('variable not defined')\n",
    "except:\n",
    "    print('There is an error!')"
   ]
  },
  {
   "cell_type": "code",
   "execution_count": 9,
   "id": "076eb91f-27b1-4c02-b856-89b24258e037",
   "metadata": {},
   "outputs": [
    {
     "name": "stdout",
     "output_type": "stream",
     "text": [
      "name 'z' is not defined\n",
      "Finally!\n"
     ]
    }
   ],
   "source": [
    "try:\n",
    "    print(z)\n",
    "except Exception as e:\n",
    "    print(e)\n",
    "else:\n",
    "    print('else is triggered!')\n",
    "finally:\n",
    "    print('Finally!')"
   ]
  },
  {
   "cell_type": "code",
   "execution_count": 10,
   "id": "777b5a5e-267b-49cd-b7dd-f5f23f817284",
   "metadata": {},
   "outputs": [
    {
     "name": "stdout",
     "output_type": "stream",
     "text": [
      "20\n",
      "else is triggered!\n",
      "Finally!\n"
     ]
    }
   ],
   "source": [
    "try:\n",
    "    print(y)\n",
    "except Exception as e:\n",
    "    print(e)\n",
    "else:\n",
    "    print('else is triggered!')\n",
    "finally:\n",
    "    print('Finally!')"
   ]
  },
  {
   "cell_type": "markdown",
   "id": "8b4ac9ec-083d-4c26-9e40-d5b65ce929cb",
   "metadata": {},
   "source": [
    "### <span style = 'color : magenta' > Try except with Files </span>"
   ]
  },
  {
   "cell_type": "code",
   "execution_count": 15,
   "id": "4d2c9e1c-03ff-4475-8939-d056db63c774",
   "metadata": {},
   "outputs": [
    {
     "name": "stdout",
     "output_type": "stream",
     "text": [
      "First line - Main\n",
      "\n",
      "\n",
      "Second line - New Data\n"
     ]
    }
   ],
   "source": [
    "path = r'C:\\Users\\the\\OneDrive - ISANS\\the-Personal\\20240509data\\4-Python\\Tryexcept\\Main.txt'\n",
    "\n",
    "try: \n",
    "    with open (r'C:\\Users\\the\\OneDrive - ISANS\\the-Personal\\20240509data\\4-Python\\Tryexcept\\NewData.txt', 'r') as open_file:\n",
    "        apprend_to_main = open_file.read()\n",
    "except Edception as e:\n",
    "    print(e)\n",
    "else:\n",
    "    with open(path, 'a') as apprend_file:\n",
    "        apprend_file.write(apprend_to_main)\n",
    "finally:\n",
    "    with open(path, 'r') as open_file_main:\n",
    "        print(open_file_main.read())\n",
    "        "
   ]
  },
  {
   "cell_type": "code",
   "execution_count": null,
   "id": "60abf489-cc30-439d-82a5-e65de0f356cf",
   "metadata": {},
   "outputs": [],
   "source": []
  },
  {
   "cell_type": "code",
   "execution_count": null,
   "id": "f63a8054-7788-4f78-9c6a-b74bc94452a5",
   "metadata": {},
   "outputs": [],
   "source": []
  },
  {
   "cell_type": "code",
   "execution_count": null,
   "id": "1e8d0151-cf53-4300-a13c-02cdb1bf2a5f",
   "metadata": {},
   "outputs": [],
   "source": []
  },
  {
   "cell_type": "code",
   "execution_count": null,
   "id": "a7b37b61-b426-42b3-93b1-048976ffa539",
   "metadata": {},
   "outputs": [],
   "source": []
  },
  {
   "cell_type": "code",
   "execution_count": null,
   "id": "f923f8ec-6cb5-4dd2-829f-1b5d083759a9",
   "metadata": {},
   "outputs": [],
   "source": []
  },
  {
   "cell_type": "code",
   "execution_count": null,
   "id": "edee39d8-1006-4bed-befc-6dd5a7f4891c",
   "metadata": {},
   "outputs": [],
   "source": []
  },
  {
   "cell_type": "code",
   "execution_count": null,
   "id": "df12eb23-8d77-4e1e-99c1-57346c407b17",
   "metadata": {},
   "outputs": [],
   "source": []
  },
  {
   "cell_type": "code",
   "execution_count": null,
   "id": "6095c380-a77f-4631-ba70-0918ba742103",
   "metadata": {},
   "outputs": [],
   "source": []
  },
  {
   "cell_type": "code",
   "execution_count": null,
   "id": "2d2ec5ac-6d22-4fee-b5ae-8d6240b7c39b",
   "metadata": {},
   "outputs": [],
   "source": []
  }
 ],
 "metadata": {
  "kernelspec": {
   "display_name": "Python 3 (ipykernel)",
   "language": "python",
   "name": "python3"
  },
  "language_info": {
   "codemirror_mode": {
    "name": "ipython",
    "version": 3
   },
   "file_extension": ".py",
   "mimetype": "text/x-python",
   "name": "python",
   "nbconvert_exporter": "python",
   "pygments_lexer": "ipython3",
   "version": "3.12.4"
  }
 },
 "nbformat": 4,
 "nbformat_minor": 5
}
