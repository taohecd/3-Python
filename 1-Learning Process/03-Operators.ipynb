{
 "cells": [
  {
   "cell_type": "markdown",
   "id": "fcf3a75c-8a5f-438f-94d8-714224d16335",
   "metadata": {},
   "source": [
    "### <span style='color:magenta'> 01-Comparison Operators  </span>"
   ]
  },
  {
   "cell_type": "code",
   "execution_count": 1,
   "id": "412de7f9-ee5c-40bd-b79c-5dc94d12579c",
   "metadata": {},
   "outputs": [
    {
     "data": {
      "text/plain": [
       "True"
      ]
     },
     "execution_count": 1,
     "metadata": {},
     "output_type": "execute_result"
    }
   ],
   "source": [
    "'Banana cream pie ice cream' < 'Vanilla'"
   ]
  },
  {
   "cell_type": "markdown",
   "id": "adc838b3-288e-420e-aa9c-730c1cec47b8",
   "metadata": {},
   "source": [
    "### <span style = 'color:magenta'> 02-Arithmetic Operators </span>"
   ]
  },
  {
   "cell_type": "code",
   "execution_count": 4,
   "id": "34c2dc8c-d9ab-4ea4-965a-c0cafeac9539",
   "metadata": {},
   "outputs": [
    {
     "data": {
      "text/plain": [
       "3"
      ]
     },
     "execution_count": 4,
     "metadata": {},
     "output_type": "execute_result"
    }
   ],
   "source": [
    "10//3"
   ]
  },
  {
   "cell_type": "code",
   "execution_count": 5,
   "id": "744eeb22-cd4f-4f83-9f82-f5c8fba15e86",
   "metadata": {},
   "outputs": [
    {
     "data": {
      "text/plain": [
       "1"
      ]
     },
     "execution_count": 5,
     "metadata": {},
     "output_type": "execute_result"
    }
   ],
   "source": [
    "10%3"
   ]
  },
  {
   "cell_type": "code",
   "execution_count": 8,
   "id": "7bc5fb43-7839-497d-b662-832baec58d3b",
   "metadata": {},
   "outputs": [
    {
     "data": {
      "text/plain": [
       "8"
      ]
     },
     "execution_count": 8,
     "metadata": {},
     "output_type": "execute_result"
    }
   ],
   "source": [
    "2**3"
   ]
  },
  {
   "cell_type": "code",
   "execution_count": 9,
   "id": "51a4d182-768c-4c59-8b2f-fee2b3ce21cb",
   "metadata": {},
   "outputs": [
    {
     "data": {
      "text/plain": [
       "8"
      ]
     },
     "execution_count": 9,
     "metadata": {},
     "output_type": "execute_result"
    }
   ],
   "source": [
    "pow(2,3)"
   ]
  },
  {
   "cell_type": "code",
   "execution_count": 7,
   "id": "f601a093-4e40-4232-94dc-562e79a4ea93",
   "metadata": {},
   "outputs": [
    {
     "data": {
      "text/plain": [
       "False"
      ]
     },
     "execution_count": 7,
     "metadata": {},
     "output_type": "execute_result"
    }
   ],
   "source": [
    "5 % 2 == 0"
   ]
  },
  {
   "cell_type": "code",
   "execution_count": 10,
   "id": "3ca3b040-c63e-480a-aa69-5c6b2465841e",
   "metadata": {},
   "outputs": [
    {
     "data": {
      "text/plain": [
       "23.55"
      ]
     },
     "execution_count": 10,
     "metadata": {},
     "output_type": "execute_result"
    }
   ],
   "source": [
    "round(23.5467,2)"
   ]
  },
  {
   "cell_type": "code",
   "execution_count": 11,
   "id": "9a265d83-0d81-4a1c-b4a3-a9054c453ea8",
   "metadata": {},
   "outputs": [
    {
     "name": "stdout",
     "output_type": "stream",
     "text": [
      "1\n",
      "3\n"
     ]
    }
   ],
   "source": [
    "list_1 = [1,2,3]\n",
    "print(min(list_1))\n",
    "print(max(list_1))"
   ]
  },
  {
   "cell_type": "code",
   "execution_count": 13,
   "id": "9e8e1af5-a90d-4ed2-85a3-c92e16957908",
   "metadata": {},
   "outputs": [],
   "source": [
    "import math"
   ]
  },
  {
   "cell_type": "code",
   "execution_count": 14,
   "id": "b5ee0575-68c9-4992-9f10-80ef3fd503b5",
   "metadata": {},
   "outputs": [
    {
     "data": {
      "text/plain": [
       "6"
      ]
     },
     "execution_count": 14,
     "metadata": {},
     "output_type": "execute_result"
    }
   ],
   "source": [
    "math.ceil(5.25)"
   ]
  },
  {
   "cell_type": "code",
   "execution_count": 15,
   "id": "cfb4d3f5-a261-4ed9-b8ee-ddf830f0557e",
   "metadata": {},
   "outputs": [
    {
     "data": {
      "text/plain": [
       "5"
      ]
     },
     "execution_count": 15,
     "metadata": {},
     "output_type": "execute_result"
    }
   ],
   "source": [
    "math.floor(5.25)"
   ]
  },
  {
   "cell_type": "code",
   "execution_count": 16,
   "id": "482b3f2e-04c5-4a50-84d1-2027583197b4",
   "metadata": {},
   "outputs": [
    {
     "data": {
      "text/plain": [
       "15.0"
      ]
     },
     "execution_count": 16,
     "metadata": {},
     "output_type": "execute_result"
    }
   ],
   "source": [
    "my_list = [1,2,3,4,5]\n",
    "math.fsum(my_list)"
   ]
  },
  {
   "cell_type": "code",
   "execution_count": 17,
   "id": "241adb95-2c29-4cda-a8d3-0e00a8c4ac58",
   "metadata": {},
   "outputs": [
    {
     "data": {
      "text/plain": [
       "8.0"
      ]
     },
     "execution_count": 17,
     "metadata": {},
     "output_type": "execute_result"
    }
   ],
   "source": [
    "math.sqrt(64)"
   ]
  },
  {
   "cell_type": "markdown",
   "id": "fb316f89-6ee5-47ba-a05f-20aed7ffc663",
   "metadata": {},
   "source": [
    "### <span style = 'color:magenta'> 03-Logical Operators </span>"
   ]
  },
  {
   "cell_type": "code",
   "execution_count": 18,
   "id": "63c4b62d-5564-4e44-a343-7e8f955930d0",
   "metadata": {},
   "outputs": [
    {
     "data": {
      "text/plain": [
       "False"
      ]
     },
     "execution_count": 18,
     "metadata": {},
     "output_type": "execute_result"
    }
   ],
   "source": [
    "not(6>5)"
   ]
  },
  {
   "cell_type": "markdown",
   "id": "8383b3de-b383-43ae-a304-bc946f32cb2e",
   "metadata": {},
   "source": [
    "### <span style = \"color: magenta\"> 04-Membership Operators </span>"
   ]
  },
  {
   "cell_type": "code",
   "execution_count": 19,
   "id": "344c9229-c0c4-4082-83bb-cb80c6ce6570",
   "metadata": {},
   "outputs": [
    {
     "data": {
      "text/plain": [
       "True"
      ]
     },
     "execution_count": 19,
     "metadata": {},
     "output_type": "execute_result"
    }
   ],
   "source": [
    "love_mems = 'I love membership operators!'\n",
    "'love' in love_mems"
   ]
  },
  {
   "cell_type": "code",
   "execution_count": 20,
   "id": "bdb52e6d-cb14-4b66-89f5-195f961dcefb",
   "metadata": {},
   "outputs": [
    {
     "data": {
      "text/plain": [
       "True"
      ]
     },
     "execution_count": 20,
     "metadata": {},
     "output_type": "execute_result"
    }
   ],
   "source": [
    "my_list = [1,2,3,4,5,6]\n",
    "num_wanted = 9\n",
    "num_wanted not in my_list"
   ]
  },
  {
   "cell_type": "code",
   "execution_count": 21,
   "id": "4d94fb3f-e300-41fd-926c-fdb1d7d7df91",
   "metadata": {},
   "outputs": [
    {
     "data": {
      "text/plain": [
       "True"
      ]
     },
     "execution_count": 21,
     "metadata": {},
     "output_type": "execute_result"
    }
   ],
   "source": [
    "my_dict = {1:'Hey!',2:'Hello!'}\n",
    "1 in my_dict   # default is key"
   ]
  },
  {
   "cell_type": "code",
   "execution_count": 22,
   "id": "49623b9a-3586-494c-b5e0-f41ecd261be9",
   "metadata": {},
   "outputs": [
    {
     "data": {
      "text/plain": [
       "True"
      ]
     },
     "execution_count": 22,
     "metadata": {},
     "output_type": "execute_result"
    }
   ],
   "source": [
    "'Hey!' in my_dict.values()"
   ]
  },
  {
   "cell_type": "markdown",
   "id": "8e8bdf87-95ef-4f0b-816e-f8d1baea194b",
   "metadata": {},
   "source": [
    "### <span style = 'color:magenta'> 06-Identity + Bitwise Operators </span>"
   ]
  },
  {
   "cell_type": "code",
   "execution_count": 23,
   "id": "bbc94816-91d7-417e-8492-7a6b8907b91d",
   "metadata": {},
   "outputs": [],
   "source": [
    "x = [1,7,'correct']\n",
    "y = [1,7,'correct']\n",
    "z = x"
   ]
  },
  {
   "cell_type": "code",
   "execution_count": 24,
   "id": "7b9e0fb2-7e6f-4028-9479-c3d1255fb2c9",
   "metadata": {},
   "outputs": [
    {
     "data": {
      "text/plain": [
       "True"
      ]
     },
     "execution_count": 24,
     "metadata": {},
     "output_type": "execute_result"
    }
   ],
   "source": [
    "x is z"
   ]
  },
  {
   "cell_type": "code",
   "execution_count": 25,
   "id": "90abc264-92a3-4118-8519-59a75aae0b52",
   "metadata": {},
   "outputs": [
    {
     "data": {
      "text/plain": [
       "False"
      ]
     },
     "execution_count": 25,
     "metadata": {},
     "output_type": "execute_result"
    }
   ],
   "source": [
    "x is y"
   ]
  },
  {
   "cell_type": "code",
   "execution_count": 26,
   "id": "7a44df16-9f69-40f0-a633-dfe111d72e30",
   "metadata": {},
   "outputs": [
    {
     "data": {
      "text/plain": [
       "True"
      ]
     },
     "execution_count": 26,
     "metadata": {},
     "output_type": "execute_result"
    }
   ],
   "source": [
    "x == y"
   ]
  },
  {
   "cell_type": "code",
   "execution_count": 30,
   "id": "c06effad-6fc2-485f-911e-85faed06c8f5",
   "metadata": {},
   "outputs": [
    {
     "data": {
      "text/plain": [
       "'0b10100'"
      ]
     },
     "execution_count": 30,
     "metadata": {},
     "output_type": "execute_result"
    }
   ],
   "source": [
    "a = 20\n",
    "b = 5\n",
    "bin(a)"
   ]
  },
  {
   "cell_type": "code",
   "execution_count": 31,
   "id": "5b8174aa-015b-4890-8f14-9a0f27dfb242",
   "metadata": {},
   "outputs": [
    {
     "data": {
      "text/plain": [
       "'0b101'"
      ]
     },
     "execution_count": 31,
     "metadata": {},
     "output_type": "execute_result"
    }
   ],
   "source": [
    "bin(b)"
   ]
  },
  {
   "cell_type": "code",
   "execution_count": 32,
   "id": "5c0e1c16-d740-448b-b380-9ca9e25d62b6",
   "metadata": {},
   "outputs": [
    {
     "data": {
      "text/plain": [
       "'0b100'"
      ]
     },
     "execution_count": 32,
     "metadata": {},
     "output_type": "execute_result"
    }
   ],
   "source": [
    "bin(a & b)"
   ]
  },
  {
   "cell_type": "code",
   "execution_count": 33,
   "id": "ca234691-c654-44cc-8072-e9050436422e",
   "metadata": {},
   "outputs": [
    {
     "data": {
      "text/plain": [
       "4"
      ]
     },
     "execution_count": 33,
     "metadata": {},
     "output_type": "execute_result"
    }
   ],
   "source": [
    "a & b"
   ]
  },
  {
   "cell_type": "code",
   "execution_count": 34,
   "id": "7f353424-5e4c-4426-90a5-2d1d3734eec7",
   "metadata": {},
   "outputs": [
    {
     "data": {
      "text/plain": [
       "'0b10101'"
      ]
     },
     "execution_count": 34,
     "metadata": {},
     "output_type": "execute_result"
    }
   ],
   "source": [
    "bin(a | b)"
   ]
  },
  {
   "cell_type": "code",
   "execution_count": 35,
   "id": "36ff1093-a507-44ed-9001-c0024cfea0dd",
   "metadata": {},
   "outputs": [
    {
     "data": {
      "text/plain": [
       "21"
      ]
     },
     "execution_count": 35,
     "metadata": {},
     "output_type": "execute_result"
    }
   ],
   "source": [
    "a | b"
   ]
  },
  {
   "cell_type": "code",
   "execution_count": null,
   "id": "549acd94-e928-4bee-8bee-7d034912c046",
   "metadata": {},
   "outputs": [],
   "source": []
  },
  {
   "cell_type": "code",
   "execution_count": null,
   "id": "80c09b07-c462-45d8-a1dd-7a72ce4d242c",
   "metadata": {},
   "outputs": [],
   "source": []
  },
  {
   "cell_type": "code",
   "execution_count": null,
   "id": "2883649c-fe0b-4b51-949b-2a936da5e20f",
   "metadata": {},
   "outputs": [],
   "source": []
  }
 ],
 "metadata": {
  "kernelspec": {
   "display_name": "Python 3 (ipykernel)",
   "language": "python",
   "name": "python3"
  },
  "language_info": {
   "codemirror_mode": {
    "name": "ipython",
    "version": 3
   },
   "file_extension": ".py",
   "mimetype": "text/x-python",
   "name": "python",
   "nbconvert_exporter": "python",
   "pygments_lexer": "ipython3",
   "version": "3.12.4"
  }
 },
 "nbformat": 4,
 "nbformat_minor": 5
}
